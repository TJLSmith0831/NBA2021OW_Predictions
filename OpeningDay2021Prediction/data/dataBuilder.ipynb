{
 "cells": [
  {
   "cell_type": "markdown",
   "metadata": {},
   "source": [
    "# dataBuilder.jl\n",
    "Author: Tristan Smith\n",
    "Start Date: 12.09.20\n",
    "Last updated: 12.11.20\n",
    "\n",
    "## Data needed: \n",
    "1.\tHistorical opening day game data\n",
    "2.\tUpdated roster joined with the player’s 2019-2020 season stats\n",
    "3.  Predictions for rookie MPG\n",
    "    \n",
    "## Steps:\n",
    "1. Import Sports Reference API through PyCall\n",
    "2. Form two dataframes: previous season team data and opening day results\n",
    "3. Connect the dataframes as follows: Opening Day Team A...Team Data (year n-1) vs. Opening Team B...Team Data (year n-1)"
   ]
  },
  {
   "cell_type": "code",
   "execution_count": 1,
   "metadata": {},
   "outputs": [
    {
     "name": "stderr",
     "output_type": "stream",
     "text": [
      "┌ Warning: Pkg.installed() is deprecated\n",
      "└ @ Pkg /Users/julia/buildbot/worker/package_macos64/build/usr/share/julia/stdlib/v1.5/Pkg/src/Pkg.jl:554\n"
     ]
    },
    {
     "data": {
      "text/plain": [
       "Dict{String,VersionNumber} with 19 entries:\n",
       "  \"CSV\"            => v\"0.8.2\"\n",
       "  \"StatsModels\"    => v\"0.6.15\"\n",
       "  \"CSVFiles\"       => v\"1.0.0\"\n",
       "  \"KeyedFrames\"    => v\"1.2.1\"\n",
       "  \"JuMP\"           => v\"0.21.3\"\n",
       "  \"TableReader\"    => v\"0.4.0\"\n",
       "  \"Lathe\"          => v\"0.1.3\"\n",
       "  \"ScikitLearn\"    => v\"0.6.3\"\n",
       "  \"Queryverse\"     => v\"0.6.2\"\n",
       "  \"PyCall\"         => v\"1.92.1\"\n",
       "  \"DataFramesMeta\" => v\"0.6.0\"\n",
       "  \"StatsBase\"      => v\"0.33.2\"\n",
       "  \"IJulia\"         => v\"1.23.1\"\n",
       "  \"Plots\"          => v\"1.9.1\"\n",
       "  \"Feather\"        => v\"0.5.7\"\n",
       "  \"Gadfly\"         => v\"1.3.1\"\n",
       "  \"DataFrames\"     => v\"0.21.8\"\n",
       "  \"Pandas\"         => v\"1.4.0\"\n",
       "  \"GLM\"            => v\"1.3.11\""
      ]
     },
     "execution_count": 1,
     "metadata": {},
     "output_type": "execute_result"
    }
   ],
   "source": [
    "using Pkg\n",
    "Pkg.installed()\n",
    "# Must have... (place Pkg.add() down below)"
   ]
  },
  {
   "cell_type": "code",
   "execution_count": 2,
   "metadata": {},
   "outputs": [
    {
     "data": {
      "text/html": [
       "<table class=\"data-frame\"><thead><tr><th></th><th>Column1</th><th>Team</th><th>Season</th><th>impliedFGM</th><th>impliedFGA</th><th>impliedFG%</th><th>implied3FGM</th><th>implied3FGA</th></tr><tr><th></th><th>Int64</th><th>String</th><th>Int64</th><th>Int64</th><th>Int64</th><th>Float64</th><th>Int64</th><th>Int64</th></tr></thead><tbody><p>6 rows × 19 columns (omitted printing of 11 columns)</p><tr><th>1</th><td>1</td><td>ANA</td><td>1967</td><td>343</td><td>758</td><td>0.452507</td><td>1</td><td>7</td></tr><tr><th>2</th><td>2</td><td>AND</td><td>1949</td><td>1483</td><td>4632</td><td>0.320164</td><td>0</td><td>0</td></tr><tr><th>3</th><td>3</td><td>ATL</td><td>1968</td><td>3605</td><td>7844</td><td>0.459587</td><td>0</td><td>0</td></tr><tr><th>4</th><td>4</td><td>ATL</td><td>1969</td><td>3674</td><td>7616</td><td>0.482405</td><td>0</td><td>0</td></tr><tr><th>5</th><td>5</td><td>ATL</td><td>1970</td><td>517</td><td>1126</td><td>0.459147</td><td>0</td><td>0</td></tr><tr><th>6</th><td>6</td><td>ATL</td><td>1981</td><td>2844</td><td>5999</td><td>0.474079</td><td>22</td><td>94</td></tr></tbody></table>"
      ],
      "text/latex": [
       "\\begin{tabular}{r|ccccccccc}\n",
       "\t& Column1 & Team & Season & impliedFGM & impliedFGA & impliedFG\\% & implied3FGM & implied3FGA & \\\\\n",
       "\t\\hline\n",
       "\t& Int64 & String & Int64 & Int64 & Int64 & Float64 & Int64 & Int64 & \\\\\n",
       "\t\\hline\n",
       "\t1 & 1 & ANA & 1967 & 343 & 758 & 0.452507 & 1 & 7 & $\\dots$ \\\\\n",
       "\t2 & 2 & AND & 1949 & 1483 & 4632 & 0.320164 & 0 & 0 & $\\dots$ \\\\\n",
       "\t3 & 3 & ATL & 1968 & 3605 & 7844 & 0.459587 & 0 & 0 & $\\dots$ \\\\\n",
       "\t4 & 4 & ATL & 1969 & 3674 & 7616 & 0.482405 & 0 & 0 & $\\dots$ \\\\\n",
       "\t5 & 5 & ATL & 1970 & 517 & 1126 & 0.459147 & 0 & 0 & $\\dots$ \\\\\n",
       "\t6 & 6 & ATL & 1981 & 2844 & 5999 & 0.474079 & 22 & 94 & $\\dots$ \\\\\n",
       "\\end{tabular}\n"
      ],
      "text/plain": [
       "6×19 DataFrame. Omitted printing of 13 columns\n",
       "│ Row │ Column1 │ Team   │ Season │ impliedFGM │ impliedFGA │ impliedFG% │\n",
       "│     │ \u001b[90mInt64\u001b[39m   │ \u001b[90mString\u001b[39m │ \u001b[90mInt64\u001b[39m  │ \u001b[90mInt64\u001b[39m      │ \u001b[90mInt64\u001b[39m      │ \u001b[90mFloat64\u001b[39m    │\n",
       "├─────┼─────────┼────────┼────────┼────────────┼────────────┼────────────┤\n",
       "│ 1   │ 1       │ ANA    │ 1967   │ 343        │ 758        │ 0.452507   │\n",
       "│ 2   │ 2       │ AND    │ 1949   │ 1483       │ 4632       │ 0.320164   │\n",
       "│ 3   │ 3       │ ATL    │ 1968   │ 3605       │ 7844       │ 0.459587   │\n",
       "│ 4   │ 4       │ ATL    │ 1969   │ 3674       │ 7616       │ 0.482405   │\n",
       "│ 5   │ 5       │ ATL    │ 1970   │ 517        │ 1126       │ 0.459147   │\n",
       "│ 6   │ 6       │ ATL    │ 1981   │ 2844       │ 5999       │ 0.474079   │"
      ]
     },
     "execution_count": 2,
     "metadata": {},
     "output_type": "execute_result"
    }
   ],
   "source": [
    "using CSV,DataFrames\n",
    "results = CSV.read(\"nbaResults.csv\", DataFrame)\n",
    "teamStats = CSV.read(\"activeNBATeamStats.csv\", DataFrame)\n",
    "playerStats = CSV.read(\"playerStats.csv\", DataFrame)\n",
    "rosterStats = CSV.read(\"rosterStats.csv\", DataFrame)\n",
    "head(rosterStats)"
   ]
  },
  {
   "cell_type": "code",
   "execution_count": 3,
   "metadata": {},
   "outputs": [
    {
     "data": {
      "text/html": [
       "<table class=\"data-frame\"><thead><tr><th></th><th>League</th><th>Y</th><th>Franchise</th><th>Team</th><th>G</th><th>FGM</th><th>FGA</th><th>FG%</th><th>3FGM</th></tr><tr><th></th><th>String</th><th>Int64</th><th>String</th><th>String</th><th>Int64</th><th>Int64</th><th>Int64</th><th>Float64</th><th>String</th></tr></thead><tbody><p>6 rows × 41 columns (omitted printing of 32 columns)</p><tr><th>1</th><td>NBA</td><td>1990</td><td>Atlanta Hawks</td><td>ATL</td><td>82</td><td>3349</td><td>7223</td><td>0.46</td><td>271</td></tr><tr><th>2</th><td>NBA</td><td>1990</td><td>Boston Celtics</td><td>BOS</td><td>82</td><td>3695</td><td>7214</td><td>0.51</td><td>109</td></tr><tr><th>3</th><td>NBA</td><td>1990</td><td>Brooklyn Nets</td><td>NJN</td><td>82</td><td>3311</td><td>7459</td><td>0.44</td><td>161</td></tr><tr><th>4</th><td>NBA</td><td>1990</td><td>Charlotte Hornets</td><td>CHA</td><td>82</td><td>3286</td><td>7033</td><td>0.47</td><td>131</td></tr><tr><th>5</th><td>NBA</td><td>1990</td><td>Chicago Bulls</td><td>CHI</td><td>82</td><td>3632</td><td>7125</td><td>0.51</td><td>155</td></tr><tr><th>6</th><td>NBA</td><td>1990</td><td>Cleveland Cavaliers</td><td>CLE</td><td>82</td><td>3259</td><td>6857</td><td>0.48</td><td>160</td></tr></tbody></table>"
      ],
      "text/latex": [
       "\\begin{tabular}{r|cccccccccc}\n",
       "\t& League & Y & Franchise & Team & G & FGM & FGA & FG\\% & 3FGM & \\\\\n",
       "\t\\hline\n",
       "\t& String & Int64 & String & String & Int64 & Int64 & Int64 & Float64 & String & \\\\\n",
       "\t\\hline\n",
       "\t1 & NBA & 1990 & Atlanta Hawks & ATL & 82 & 3349 & 7223 & 0.46 & 271 & $\\dots$ \\\\\n",
       "\t2 & NBA & 1990 & Boston Celtics & BOS & 82 & 3695 & 7214 & 0.51 & 109 & $\\dots$ \\\\\n",
       "\t3 & NBA & 1990 & Brooklyn Nets & NJN & 82 & 3311 & 7459 & 0.44 & 161 & $\\dots$ \\\\\n",
       "\t4 & NBA & 1990 & Charlotte Hornets & CHA & 82 & 3286 & 7033 & 0.47 & 131 & $\\dots$ \\\\\n",
       "\t5 & NBA & 1990 & Chicago Bulls & CHI & 82 & 3632 & 7125 & 0.51 & 155 & $\\dots$ \\\\\n",
       "\t6 & NBA & 1990 & Cleveland Cavaliers & CLE & 82 & 3259 & 6857 & 0.48 & 160 & $\\dots$ \\\\\n",
       "\\end{tabular}\n"
      ],
      "text/plain": [
       "6×41 DataFrame. Omitted printing of 34 columns\n",
       "│ Row │ League │ Y     │ Franchise           │ Team   │ G     │ FGM   │ FGA   │\n",
       "│     │ \u001b[90mString\u001b[39m │ \u001b[90mInt64\u001b[39m │ \u001b[90mString\u001b[39m              │ \u001b[90mString\u001b[39m │ \u001b[90mInt64\u001b[39m │ \u001b[90mInt64\u001b[39m │ \u001b[90mInt64\u001b[39m │\n",
       "├─────┼────────┼───────┼─────────────────────┼────────┼───────┼───────┼───────┤\n",
       "│ 1   │ NBA    │ 1990  │ Atlanta Hawks       │ ATL    │ 82    │ 3349  │ 7223  │\n",
       "│ 2   │ NBA    │ 1990  │ Boston Celtics      │ BOS    │ 82    │ 3695  │ 7214  │\n",
       "│ 3   │ NBA    │ 1990  │ Brooklyn Nets       │ NJN    │ 82    │ 3311  │ 7459  │\n",
       "│ 4   │ NBA    │ 1990  │ Charlotte Hornets   │ CHA    │ 82    │ 3286  │ 7033  │\n",
       "│ 5   │ NBA    │ 1990  │ Chicago Bulls       │ CHI    │ 82    │ 3632  │ 7125  │\n",
       "│ 6   │ NBA    │ 1990  │ Cleveland Cavaliers │ CLE    │ 82    │ 3259  │ 6857  │"
      ]
     },
     "execution_count": 3,
     "metadata": {},
     "output_type": "execute_result"
    }
   ],
   "source": [
    "# Filter for years after NBA Merger, edit other dataframes and then\n",
    "using DataFrames, DataFramesMeta\n",
    "start_day = 1\n",
    "start_month = 10\n",
    "start_year1 = 1990\n",
    "start_year2 = 1989\n",
    "results = @where(results, :Y .>= start_year1)\n",
    "teamStats = @where(teamStats, :Y .> start_year2)\n",
    "playerStats = @where(playerStats, :Season .> start_year2)\n",
    "rosterStats = @where(rosterStats, :Season .> start_year2)\n",
    "head(teamStats)"
   ]
  },
  {
   "cell_type": "code",
   "execution_count": 4,
   "metadata": {},
   "outputs": [
    {
     "data": {
      "text/html": [
       "<table class=\"data-frame\"><thead><tr><th></th><th>Column1</th><th>Team</th><th>Season</th><th>impliedFGM</th><th>impliedFGA</th><th>impliedFG%</th><th>implied3FGM</th><th>implied3FGA</th></tr><tr><th></th><th>Int64</th><th>String</th><th>Int64</th><th>Int64</th><th>Int64</th><th>Float64</th><th>Int64</th><th>Int64</th></tr></thead><tbody><p>6 rows × 19 columns (omitted printing of 11 columns)</p><tr><th>1</th><td>15</td><td>ATL</td><td>1990</td><td>3347</td><td>7220</td><td>0.463573</td><td>271</td><td>836</td></tr><tr><th>2</th><td>16</td><td>ATL</td><td>1991</td><td>3397</td><td>7265</td><td>0.467584</td><td>196</td><td>633</td></tr><tr><th>3</th><td>17</td><td>ATL</td><td>1992</td><td>3293</td><td>7028</td><td>0.468554</td><td>367</td><td>1020</td></tr><tr><th>4</th><td>18</td><td>ATL</td><td>1993</td><td>2542</td><td>5453</td><td>0.466165</td><td>206</td><td>629</td></tr><tr><th>5</th><td>19</td><td>ATL</td><td>1994</td><td>2156</td><td>4848</td><td>0.444719</td><td>392</td><td>1139</td></tr><tr><th>6</th><td>20</td><td>ATL</td><td>1995</td><td>2358</td><td>5334</td><td>0.44207</td><td>548</td><td>1525</td></tr></tbody></table>"
      ],
      "text/latex": [
       "\\begin{tabular}{r|ccccccccc}\n",
       "\t& Column1 & Team & Season & impliedFGM & impliedFGA & impliedFG\\% & implied3FGM & implied3FGA & \\\\\n",
       "\t\\hline\n",
       "\t& Int64 & String & Int64 & Int64 & Int64 & Float64 & Int64 & Int64 & \\\\\n",
       "\t\\hline\n",
       "\t1 & 15 & ATL & 1990 & 3347 & 7220 & 0.463573 & 271 & 836 & $\\dots$ \\\\\n",
       "\t2 & 16 & ATL & 1991 & 3397 & 7265 & 0.467584 & 196 & 633 & $\\dots$ \\\\\n",
       "\t3 & 17 & ATL & 1992 & 3293 & 7028 & 0.468554 & 367 & 1020 & $\\dots$ \\\\\n",
       "\t4 & 18 & ATL & 1993 & 2542 & 5453 & 0.466165 & 206 & 629 & $\\dots$ \\\\\n",
       "\t5 & 19 & ATL & 1994 & 2156 & 4848 & 0.444719 & 392 & 1139 & $\\dots$ \\\\\n",
       "\t6 & 20 & ATL & 1995 & 2358 & 5334 & 0.44207 & 548 & 1525 & $\\dots$ \\\\\n",
       "\\end{tabular}\n"
      ],
      "text/plain": [
       "6×19 DataFrame. Omitted printing of 13 columns\n",
       "│ Row │ Column1 │ Team   │ Season │ impliedFGM │ impliedFGA │ impliedFG% │\n",
       "│     │ \u001b[90mInt64\u001b[39m   │ \u001b[90mString\u001b[39m │ \u001b[90mInt64\u001b[39m  │ \u001b[90mInt64\u001b[39m      │ \u001b[90mInt64\u001b[39m      │ \u001b[90mFloat64\u001b[39m    │\n",
       "├─────┼─────────┼────────┼────────┼────────────┼────────────┼────────────┤\n",
       "│ 1   │ 15      │ ATL    │ 1990   │ 3347       │ 7220       │ 0.463573   │\n",
       "│ 2   │ 16      │ ATL    │ 1991   │ 3397       │ 7265       │ 0.467584   │\n",
       "│ 3   │ 17      │ ATL    │ 1992   │ 3293       │ 7028       │ 0.468554   │\n",
       "│ 4   │ 18      │ ATL    │ 1993   │ 2542       │ 5453       │ 0.466165   │\n",
       "│ 5   │ 19      │ ATL    │ 1994   │ 2156       │ 4848       │ 0.444719   │\n",
       "│ 6   │ 20      │ ATL    │ 1995   │ 2358       │ 5334       │ 0.44207    │"
      ]
     },
     "execution_count": 4,
     "metadata": {},
     "output_type": "execute_result"
    }
   ],
   "source": [
    "head(rosterStats)"
   ]
  },
  {
   "cell_type": "code",
   "execution_count": 5,
   "metadata": {},
   "outputs": [
    {
     "data": {
      "text/html": [
       "<table class=\"data-frame\"><thead><tr><th></th><th>League</th><th>Y</th><th>Franchise</th><th>Team</th><th>G</th><th>FGM</th><th>FGA</th><th>FG%</th><th>3FGM</th></tr><tr><th></th><th>String</th><th>Int64</th><th>String</th><th>String</th><th>Int64</th><th>Int64</th><th>Int64</th><th>Float64</th><th>String</th></tr></thead><tbody><p>876 rows × 58 columns (omitted printing of 49 columns)</p><tr><th>1</th><td>NBA</td><td>1990</td><td>Atlanta Hawks</td><td>ATL</td><td>82</td><td>3349</td><td>7223</td><td>0.46</td><td>271</td></tr><tr><th>2</th><td>NBA</td><td>1990</td><td>Boston Celtics</td><td>BOS</td><td>82</td><td>3695</td><td>7214</td><td>0.51</td><td>109</td></tr><tr><th>3</th><td>NBA</td><td>1990</td><td>Brooklyn Nets</td><td>NJN</td><td>82</td><td>3311</td><td>7459</td><td>0.44</td><td>161</td></tr><tr><th>4</th><td>NBA</td><td>1990</td><td>Charlotte Hornets</td><td>CHA</td><td>82</td><td>3286</td><td>7033</td><td>0.47</td><td>131</td></tr><tr><th>5</th><td>NBA</td><td>1990</td><td>Chicago Bulls</td><td>CHI</td><td>82</td><td>3632</td><td>7125</td><td>0.51</td><td>155</td></tr><tr><th>6</th><td>NBA</td><td>1990</td><td>Cleveland Cavaliers</td><td>CLE</td><td>82</td><td>3259</td><td>6857</td><td>0.48</td><td>160</td></tr><tr><th>7</th><td>NBA</td><td>1990</td><td>Dallas Mavericks</td><td>DAL</td><td>82</td><td>3245</td><td>6890</td><td>0.47</td><td>193</td></tr><tr><th>8</th><td>NBA</td><td>1990</td><td>Denver Nuggets</td><td>DEN</td><td>82</td><td>3901</td><td>8868</td><td>0.44</td><td>300</td></tr><tr><th>9</th><td>NBA</td><td>1990</td><td>Detroit Pistons</td><td>DET</td><td>82</td><td>3194</td><td>6875</td><td>0.46</td><td>131</td></tr><tr><th>10</th><td>NBA</td><td>1990</td><td>Golden State Warriors</td><td>GSW</td><td>82</td><td>3566</td><td>7346</td><td>0.49</td><td>270</td></tr><tr><th>11</th><td>NBA</td><td>1990</td><td>Houston Rockets</td><td>HOU</td><td>82</td><td>3403</td><td>7287</td><td>0.47</td><td>316</td></tr><tr><th>12</th><td>NBA</td><td>1990</td><td>Indiana Pacers</td><td>IND</td><td>82</td><td>3450</td><td>6994</td><td>0.49</td><td>249</td></tr><tr><th>13</th><td>NBA</td><td>1990</td><td>Los Angeles Clippers</td><td>LAC</td><td>82</td><td>3391</td><td>7315</td><td>0.46</td><td>113</td></tr><tr><th>14</th><td>NBA</td><td>1990</td><td>Los Angeles Lakers</td><td>LAL</td><td>82</td><td>3343</td><td>6911</td><td>0.48</td><td>226</td></tr><tr><th>15</th><td>NBA</td><td>1990</td><td>Miami Heat</td><td>MIA</td><td>82</td><td>3280</td><td>7139</td><td>0.46</td><td>140</td></tr><tr><th>16</th><td>NBA</td><td>1990</td><td>Milwaukee Bucks</td><td>MIL</td><td>82</td><td>3337</td><td>6948</td><td>0.48</td><td>257</td></tr><tr><th>17</th><td>NBA</td><td>1990</td><td>Minnesota Timberwolves</td><td>MIN</td><td>82</td><td>3265</td><td>7276</td><td>0.45</td><td>108</td></tr><tr><th>18</th><td>NBA</td><td>1990</td><td>New York Knicks</td><td>NYK</td><td>82</td><td>3308</td><td>6822</td><td>0.48</td><td>185</td></tr><tr><th>19</th><td>NBA</td><td>1990</td><td>Oklahoma City Thunder</td><td>SEA</td><td>82</td><td>3500</td><td>7117</td><td>0.49</td><td>136</td></tr><tr><th>20</th><td>NBA</td><td>1990</td><td>Orlando Magic</td><td>ORL</td><td>82</td><td>3298</td><td>7256</td><td>0.45</td><td>270</td></tr><tr><th>21</th><td>NBA</td><td>1990</td><td>Philadelphia 76ers</td><td>PHI</td><td>82</td><td>3289</td><td>6925</td><td>0.47</td><td>195</td></tr><tr><th>22</th><td>NBA</td><td>1990</td><td>Phoenix Suns</td><td>PHO</td><td>82</td><td>3573</td><td>7199</td><td>0.5</td><td>138</td></tr><tr><th>23</th><td>NBA</td><td>1990</td><td>Portland Trail Blazers</td><td>POR</td><td>82</td><td>3577</td><td>7369</td><td>0.49</td><td>341</td></tr><tr><th>24</th><td>NBA</td><td>1990</td><td>Sacramento Kings</td><td>SAC</td><td>82</td><td>3086</td><td>6818</td><td>0.45</td><td>216</td></tr><tr><th>25</th><td>NBA</td><td>1990</td><td>San Antonio Spurs</td><td>SAS</td><td>82</td><td>3409</td><td>6988</td><td>0.49</td><td>81</td></tr><tr><th>26</th><td>NBA</td><td>1990</td><td>Utah Jazz</td><td>UTA</td><td>82</td><td>3214</td><td>6537</td><td>0.49</td><td>148</td></tr><tr><th>27</th><td>NBA</td><td>1990</td><td>Washington Wizards</td><td>WAS</td><td>82</td><td>3390</td><td>7268</td><td>0.47</td><td>55</td></tr><tr><th>28</th><td>NBA</td><td>1991</td><td>Atlanta Hawks</td><td>ATL</td><td>82</td><td>3492</td><td>7476</td><td>0.47</td><td>210</td></tr><tr><th>29</th><td>NBA</td><td>1991</td><td>Boston Celtics</td><td>BOS</td><td>82</td><td>3543</td><td>7196</td><td>0.49</td><td>110</td></tr><tr><th>30</th><td>NBA</td><td>1991</td><td>Brooklyn Nets</td><td>NJN</td><td>82</td><td>3473</td><td>7580</td><td>0.46</td><td>224</td></tr><tr><th>&vellip;</th><td>&vellip;</td><td>&vellip;</td><td>&vellip;</td><td>&vellip;</td><td>&vellip;</td><td>&vellip;</td><td>&vellip;</td><td>&vellip;</td><td>&vellip;</td></tr></tbody></table>"
      ],
      "text/latex": [
       "\\begin{tabular}{r|cccccccccc}\n",
       "\t& League & Y & Franchise & Team & G & FGM & FGA & FG\\% & 3FGM & \\\\\n",
       "\t\\hline\n",
       "\t& String & Int64 & String & String & Int64 & Int64 & Int64 & Float64 & String & \\\\\n",
       "\t\\hline\n",
       "\t1 & NBA & 1990 & Atlanta Hawks & ATL & 82 & 3349 & 7223 & 0.46 & 271 & $\\dots$ \\\\\n",
       "\t2 & NBA & 1990 & Boston Celtics & BOS & 82 & 3695 & 7214 & 0.51 & 109 & $\\dots$ \\\\\n",
       "\t3 & NBA & 1990 & Brooklyn Nets & NJN & 82 & 3311 & 7459 & 0.44 & 161 & $\\dots$ \\\\\n",
       "\t4 & NBA & 1990 & Charlotte Hornets & CHA & 82 & 3286 & 7033 & 0.47 & 131 & $\\dots$ \\\\\n",
       "\t5 & NBA & 1990 & Chicago Bulls & CHI & 82 & 3632 & 7125 & 0.51 & 155 & $\\dots$ \\\\\n",
       "\t6 & NBA & 1990 & Cleveland Cavaliers & CLE & 82 & 3259 & 6857 & 0.48 & 160 & $\\dots$ \\\\\n",
       "\t7 & NBA & 1990 & Dallas Mavericks & DAL & 82 & 3245 & 6890 & 0.47 & 193 & $\\dots$ \\\\\n",
       "\t8 & NBA & 1990 & Denver Nuggets & DEN & 82 & 3901 & 8868 & 0.44 & 300 & $\\dots$ \\\\\n",
       "\t9 & NBA & 1990 & Detroit Pistons & DET & 82 & 3194 & 6875 & 0.46 & 131 & $\\dots$ \\\\\n",
       "\t10 & NBA & 1990 & Golden State Warriors & GSW & 82 & 3566 & 7346 & 0.49 & 270 & $\\dots$ \\\\\n",
       "\t11 & NBA & 1990 & Houston Rockets & HOU & 82 & 3403 & 7287 & 0.47 & 316 & $\\dots$ \\\\\n",
       "\t12 & NBA & 1990 & Indiana Pacers & IND & 82 & 3450 & 6994 & 0.49 & 249 & $\\dots$ \\\\\n",
       "\t13 & NBA & 1990 & Los Angeles Clippers & LAC & 82 & 3391 & 7315 & 0.46 & 113 & $\\dots$ \\\\\n",
       "\t14 & NBA & 1990 & Los Angeles Lakers & LAL & 82 & 3343 & 6911 & 0.48 & 226 & $\\dots$ \\\\\n",
       "\t15 & NBA & 1990 & Miami Heat & MIA & 82 & 3280 & 7139 & 0.46 & 140 & $\\dots$ \\\\\n",
       "\t16 & NBA & 1990 & Milwaukee Bucks & MIL & 82 & 3337 & 6948 & 0.48 & 257 & $\\dots$ \\\\\n",
       "\t17 & NBA & 1990 & Minnesota Timberwolves & MIN & 82 & 3265 & 7276 & 0.45 & 108 & $\\dots$ \\\\\n",
       "\t18 & NBA & 1990 & New York Knicks & NYK & 82 & 3308 & 6822 & 0.48 & 185 & $\\dots$ \\\\\n",
       "\t19 & NBA & 1990 & Oklahoma City Thunder & SEA & 82 & 3500 & 7117 & 0.49 & 136 & $\\dots$ \\\\\n",
       "\t20 & NBA & 1990 & Orlando Magic & ORL & 82 & 3298 & 7256 & 0.45 & 270 & $\\dots$ \\\\\n",
       "\t21 & NBA & 1990 & Philadelphia 76ers & PHI & 82 & 3289 & 6925 & 0.47 & 195 & $\\dots$ \\\\\n",
       "\t22 & NBA & 1990 & Phoenix Suns & PHO & 82 & 3573 & 7199 & 0.5 & 138 & $\\dots$ \\\\\n",
       "\t23 & NBA & 1990 & Portland Trail Blazers & POR & 82 & 3577 & 7369 & 0.49 & 341 & $\\dots$ \\\\\n",
       "\t24 & NBA & 1990 & Sacramento Kings & SAC & 82 & 3086 & 6818 & 0.45 & 216 & $\\dots$ \\\\\n",
       "\t25 & NBA & 1990 & San Antonio Spurs & SAS & 82 & 3409 & 6988 & 0.49 & 81 & $\\dots$ \\\\\n",
       "\t26 & NBA & 1990 & Utah Jazz & UTA & 82 & 3214 & 6537 & 0.49 & 148 & $\\dots$ \\\\\n",
       "\t27 & NBA & 1990 & Washington Wizards & WAS & 82 & 3390 & 7268 & 0.47 & 55 & $\\dots$ \\\\\n",
       "\t28 & NBA & 1991 & Atlanta Hawks & ATL & 82 & 3492 & 7476 & 0.47 & 210 & $\\dots$ \\\\\n",
       "\t29 & NBA & 1991 & Boston Celtics & BOS & 82 & 3543 & 7196 & 0.49 & 110 & $\\dots$ \\\\\n",
       "\t30 & NBA & 1991 & Brooklyn Nets & NJN & 82 & 3473 & 7580 & 0.46 & 224 & $\\dots$ \\\\\n",
       "\t$\\dots$ & $\\dots$ & $\\dots$ & $\\dots$ & $\\dots$ & $\\dots$ & $\\dots$ & $\\dots$ & $\\dots$ & $\\dots$ &  \\\\\n",
       "\\end{tabular}\n"
      ],
      "text/plain": [
       "876×58 DataFrame. Omitted printing of 52 columns\n",
       "│ Row │ League │ Y     │ Franchise              │ Team   │ G     │ FGM   │\n",
       "│     │ \u001b[90mString\u001b[39m │ \u001b[90mInt64\u001b[39m │ \u001b[90mString\u001b[39m                 │ \u001b[90mString\u001b[39m │ \u001b[90mInt64\u001b[39m │ \u001b[90mInt64\u001b[39m │\n",
       "├─────┼────────┼───────┼────────────────────────┼────────┼───────┼───────┤\n",
       "│ 1   │ NBA    │ 1990  │ Atlanta Hawks          │ ATL    │ 82    │ 3349  │\n",
       "│ 2   │ NBA    │ 1990  │ Boston Celtics         │ BOS    │ 82    │ 3695  │\n",
       "│ 3   │ NBA    │ 1990  │ Brooklyn Nets          │ NJN    │ 82    │ 3311  │\n",
       "│ 4   │ NBA    │ 1990  │ Charlotte Hornets      │ CHA    │ 82    │ 3286  │\n",
       "│ 5   │ NBA    │ 1990  │ Chicago Bulls          │ CHI    │ 82    │ 3632  │\n",
       "│ 6   │ NBA    │ 1990  │ Cleveland Cavaliers    │ CLE    │ 82    │ 3259  │\n",
       "│ 7   │ NBA    │ 1990  │ Dallas Mavericks       │ DAL    │ 82    │ 3245  │\n",
       "│ 8   │ NBA    │ 1990  │ Denver Nuggets         │ DEN    │ 82    │ 3901  │\n",
       "│ 9   │ NBA    │ 1990  │ Detroit Pistons        │ DET    │ 82    │ 3194  │\n",
       "│ 10  │ NBA    │ 1990  │ Golden State Warriors  │ GSW    │ 82    │ 3566  │\n",
       "⋮\n",
       "│ 866 │ NBA    │ 2019  │ New York Knicks        │ NYK    │ 66    │ 2638  │\n",
       "│ 867 │ NBA    │ 2019  │ Oklahoma City Thunder  │ OCT    │ 72    │ 2879  │\n",
       "│ 868 │ NBA    │ 2019  │ Orlando Magic          │ ORL    │ 73    │ 2871  │\n",
       "│ 869 │ NBA    │ 2019  │ Philadelphia 76ers     │ PHI    │ 73    │ 3000  │\n",
       "│ 870 │ NBA    │ 2019  │ Phoenix Suns           │ PHO    │ 73    │ 3006  │\n",
       "│ 871 │ NBA    │ 2019  │ Portland Trail Blazers │ POR    │ 75    │ 3160  │\n",
       "│ 872 │ NBA    │ 2019  │ Sacramento Kings       │ SAC    │ 72    │ 2943  │\n",
       "│ 873 │ NBA    │ 2019  │ San Antonio Spurs      │ SAS    │ 71    │ 2995  │\n",
       "│ 874 │ NBA    │ 2019  │ Toronto Raptors        │ TOR    │ 72    │ 2897  │\n",
       "│ 875 │ NBA    │ 2019  │ Utah Jazz              │ UTA    │ 72    │ 2886  │\n",
       "│ 876 │ NBA    │ 2019  │ Washington Wizards     │ WAS    │ 72    │ 2990  │"
      ]
     },
     "execution_count": 5,
     "metadata": {},
     "output_type": "execute_result"
    }
   ],
   "source": [
    "fullTeamDF = join(teamStats, rosterStats, on = [:Team, :Y => :Season], kind = :left)"
   ]
  },
  {
   "cell_type": "code",
   "execution_count": 8,
   "metadata": {},
   "outputs": [
    {
     "data": {
      "text/plain": [
       "\"fullTeamDF.csv\""
      ]
     },
     "execution_count": 8,
     "metadata": {},
     "output_type": "execute_result"
    }
   ],
   "source": [
    "# Double check CSV\n",
    "CSV.write(\"fullTeamDF.csv\", fullTeamDF) # No missing values with new years"
   ]
  },
  {
   "cell_type": "code",
   "execution_count": 6,
   "metadata": {},
   "outputs": [
    {
     "data": {
      "text/html": [
       "<table class=\"data-frame\"><thead><tr><th></th><th>variable</th><th>mean</th><th>min</th><th>median</th><th>max</th><th>nunique</th><th>nmissing</th></tr><tr><th></th><th>Symbol</th><th>Union…</th><th>Any</th><th>Union…</th><th>Any</th><th>Union…</th><th>Union…</th></tr></thead><tbody><p>58 rows × 8 columns (omitted printing of 1 columns)</p><tr><th>1</th><td>League</td><td></td><td>NBA</td><td></td><td>NBA</td><td>1</td><td></td></tr><tr><th>2</th><td>Y</td><td>2004.77</td><td>1990</td><td>2005.0</td><td>2019</td><td></td><td></td></tr><tr><th>3</th><td>Franchise</td><td></td><td>Atlanta Hawks</td><td></td><td>Washington Wizards</td><td>30</td><td></td></tr><tr><th>4</th><td>Team</td><td></td><td>ATL</td><td></td><td>WAS</td><td>34</td><td></td></tr><tr><th>5</th><td>G</td><td>80.0023</td><td>50</td><td>82.0</td><td>82</td><td></td><td></td></tr><tr><th>6</th><td>FGM</td><td>3010.53</td><td>1539</td><td>3041.5</td><td>3901</td><td></td><td></td></tr><tr><th>7</th><td>FGA</td><td>6606.05</td><td>3561</td><td>6698.5</td><td>8868</td><td></td><td></td></tr><tr><th>8</th><td>FG%</td><td>0.455342</td><td>0.4</td><td>0.45</td><td>0.51</td><td></td><td></td></tr><tr><th>9</th><td>3FGM</td><td></td><td>1007</td><td></td><td>995</td><td>540</td><td></td></tr><tr><th>10</th><td>3FGA</td><td></td><td>1001</td><td></td><td>997</td><td>698</td><td></td></tr><tr><th>11</th><td>3FG%</td><td></td><td>0.19</td><td></td><td>0.43</td><td>19</td><td></td></tr><tr><th>12</th><td>FTM</td><td>1494.5</td><td>745</td><td>1502.5</td><td>2162</td><td></td><td></td></tr><tr><th>13</th><td>FTA</td><td>1983.7</td><td>1077</td><td>1998.0</td><td>2761</td><td></td><td></td></tr><tr><th>14</th><td>FT%</td><td>0.753813</td><td>0.66</td><td>0.75</td><td>0.83</td><td></td><td></td></tr><tr><th>15</th><td>OFF</td><td></td><td>1001</td><td></td><td>999</td><td>458</td><td></td></tr><tr><th>16</th><td>DEF</td><td></td><td>1293</td><td></td><td>3316</td><td>526</td><td></td></tr><tr><th>17</th><td>REB</td><td>3396.9</td><td>1788</td><td>3446.0</td><td>4078</td><td></td><td></td></tr><tr><th>18</th><td>AST</td><td>1788.65</td><td>782</td><td>1794.0</td><td>2491</td><td></td><td></td></tr><tr><th>19</th><td>STL</td><td></td><td>1053</td><td></td><td>987</td><td>339</td><td></td></tr><tr><th>20</th><td>BLK</td><td></td><td>169</td><td></td><td>686</td><td>299</td><td></td></tr><tr><th>21</th><td>TO</td><td></td><td>1000</td><td></td><td>997</td><td>424</td><td></td></tr><tr><th>22</th><td>PF</td><td>1724.73</td><td>935</td><td>1743.0</td><td>2302</td><td></td><td></td></tr><tr><th>23</th><td>PTS</td><td>8020.14</td><td>4095</td><td>8124.0</td><td>9828</td><td></td><td></td></tr><tr><th>24</th><td>avgFGM</td><td>37.5902</td><td>30.8</td><td>37.3</td><td>47.6</td><td></td><td></td></tr><tr><th>25</th><td>avgFGA</td><td>82.5387</td><td>71.2</td><td>82.2</td><td>108.1</td><td></td><td></td></tr><tr><th>26</th><td>avgFG%</td><td>0.455342</td><td>0.4</td><td>0.45</td><td>0.51</td><td></td><td></td></tr><tr><th>27</th><td>avg3FGM</td><td></td><td>0.7</td><td></td><td>9.9</td><td>129</td><td></td></tr><tr><th>28</th><td>avg3FGA</td><td></td><td>10</td><td></td><td>9.9</td><td>282</td><td></td></tr><tr><th>29</th><td>avg3FG%</td><td></td><td>0.19</td><td></td><td>0.43</td><td>19</td><td></td></tr><tr><th>30</th><td>avgFTM</td><td>18.665</td><td>12.2</td><td>18.5</td><td>26.4</td><td></td><td></td></tr><tr><th>&vellip;</th><td>&vellip;</td><td>&vellip;</td><td>&vellip;</td><td>&vellip;</td><td>&vellip;</td><td>&vellip;</td><td>&vellip;</td></tr></tbody></table>"
      ],
      "text/latex": [
       "\\begin{tabular}{r|cccccccc}\n",
       "\t& variable & mean & min & median & max & nunique & nmissing & \\\\\n",
       "\t\\hline\n",
       "\t& Symbol & Union… & Any & Union… & Any & Union… & Union… & \\\\\n",
       "\t\\hline\n",
       "\t1 & League &  & NBA &  & NBA & 1 &  & $\\dots$ \\\\\n",
       "\t2 & Y & 2004.77 & 1990 & 2005.0 & 2019 &  &  & $\\dots$ \\\\\n",
       "\t3 & Franchise &  & Atlanta Hawks &  & Washington Wizards & 30 &  & $\\dots$ \\\\\n",
       "\t4 & Team &  & ATL &  & WAS & 34 &  & $\\dots$ \\\\\n",
       "\t5 & G & 80.0023 & 50 & 82.0 & 82 &  &  & $\\dots$ \\\\\n",
       "\t6 & FGM & 3010.53 & 1539 & 3041.5 & 3901 &  &  & $\\dots$ \\\\\n",
       "\t7 & FGA & 6606.05 & 3561 & 6698.5 & 8868 &  &  & $\\dots$ \\\\\n",
       "\t8 & FG\\% & 0.455342 & 0.4 & 0.45 & 0.51 &  &  & $\\dots$ \\\\\n",
       "\t9 & 3FGM &  & 1007 &  & 995 & 540 &  & $\\dots$ \\\\\n",
       "\t10 & 3FGA &  & 1001 &  & 997 & 698 &  & $\\dots$ \\\\\n",
       "\t11 & 3FG\\% &  & 0.19 &  & 0.43 & 19 &  & $\\dots$ \\\\\n",
       "\t12 & FTM & 1494.5 & 745 & 1502.5 & 2162 &  &  & $\\dots$ \\\\\n",
       "\t13 & FTA & 1983.7 & 1077 & 1998.0 & 2761 &  &  & $\\dots$ \\\\\n",
       "\t14 & FT\\% & 0.753813 & 0.66 & 0.75 & 0.83 &  &  & $\\dots$ \\\\\n",
       "\t15 & OFF &  & 1001 &  & 999 & 458 &  & $\\dots$ \\\\\n",
       "\t16 & DEF &  & 1293 &  & 3316 & 526 &  & $\\dots$ \\\\\n",
       "\t17 & REB & 3396.9 & 1788 & 3446.0 & 4078 &  &  & $\\dots$ \\\\\n",
       "\t18 & AST & 1788.65 & 782 & 1794.0 & 2491 &  &  & $\\dots$ \\\\\n",
       "\t19 & STL &  & 1053 &  & 987 & 339 &  & $\\dots$ \\\\\n",
       "\t20 & BLK &  & 169 &  & 686 & 299 &  & $\\dots$ \\\\\n",
       "\t21 & TO &  & 1000 &  & 997 & 424 &  & $\\dots$ \\\\\n",
       "\t22 & PF & 1724.73 & 935 & 1743.0 & 2302 &  &  & $\\dots$ \\\\\n",
       "\t23 & PTS & 8020.14 & 4095 & 8124.0 & 9828 &  &  & $\\dots$ \\\\\n",
       "\t24 & avgFGM & 37.5902 & 30.8 & 37.3 & 47.6 &  &  & $\\dots$ \\\\\n",
       "\t25 & avgFGA & 82.5387 & 71.2 & 82.2 & 108.1 &  &  & $\\dots$ \\\\\n",
       "\t26 & avgFG\\% & 0.455342 & 0.4 & 0.45 & 0.51 &  &  & $\\dots$ \\\\\n",
       "\t27 & avg3FGM &  & 0.7 &  & 9.9 & 129 &  & $\\dots$ \\\\\n",
       "\t28 & avg3FGA &  & 10 &  & 9.9 & 282 &  & $\\dots$ \\\\\n",
       "\t29 & avg3FG\\% &  & 0.19 &  & 0.43 & 19 &  & $\\dots$ \\\\\n",
       "\t30 & avgFTM & 18.665 & 12.2 & 18.5 & 26.4 &  &  & $\\dots$ \\\\\n",
       "\t$\\dots$ & $\\dots$ & $\\dots$ & $\\dots$ & $\\dots$ & $\\dots$ & $\\dots$ & $\\dots$ &  \\\\\n",
       "\\end{tabular}\n"
      ],
      "text/plain": [
       "58×8 DataFrame. Omitted printing of 3 columns\n",
       "│ Row │ variable    │ mean     │ min           │ median   │ max                │\n",
       "│     │ \u001b[90mSymbol\u001b[39m      │ \u001b[90mUnion…\u001b[39m   │ \u001b[90mAny\u001b[39m           │ \u001b[90mUnion…\u001b[39m   │ \u001b[90mAny\u001b[39m                │\n",
       "├─────┼─────────────┼──────────┼───────────────┼──────────┼────────────────────┤\n",
       "│ 1   │ League      │          │ NBA           │          │ NBA                │\n",
       "│ 2   │ Y           │ 2004.77  │ 1990          │ 2005.0   │ 2019               │\n",
       "│ 3   │ Franchise   │          │ Atlanta Hawks │          │ Washington Wizards │\n",
       "│ 4   │ Team        │          │ ATL           │          │ WAS                │\n",
       "│ 5   │ G           │ 80.0023  │ 50            │ 82.0     │ 82                 │\n",
       "│ 6   │ FGM         │ 3010.53  │ 1539          │ 3041.5   │ 3901               │\n",
       "│ 7   │ FGA         │ 6606.05  │ 3561          │ 6698.5   │ 8868               │\n",
       "│ 8   │ FG%         │ 0.455342 │ 0.4           │ 0.45     │ 0.51               │\n",
       "│ 9   │ 3FGM        │          │ 1007          │          │ 995                │\n",
       "│ 10  │ 3FGA        │          │ 1001          │          │ 997                │\n",
       "⋮\n",
       "│ 48  │ implied3FG% │ 0.351154 │ 0.194346      │ 0.353148 │ 0.425801           │\n",
       "│ 49  │ impliedFTM  │ 1295.83  │ 220           │ 1317.0   │ 2031               │\n",
       "│ 50  │ impliedFTA  │ 1700.63  │ 310           │ 1719.5   │ 2542               │\n",
       "│ 51  │ impliedFT%  │ 0.762621 │ 0.651351      │ 0.763866 │ 0.849084           │\n",
       "│ 52  │ impliedREB  │ 2784.4   │ 460           │ 2860.5   │ 3829               │\n",
       "│ 53  │ impliedAST  │ 1589.1   │ 421           │ 1625.0   │ 2431               │\n",
       "│ 54  │ impliedSTL  │ 545.239  │ 143           │ 547.0    │ 1036               │\n",
       "│ 55  │ impliedBLK  │ 313.814  │ 46            │ 310.0    │ 670                │\n",
       "│ 56  │ impliedTO   │ 975.256  │ 250           │ 997.0    │ 1510               │\n",
       "│ 57  │ impliedPF   │ 1414.15  │ 364           │ 1441.5   │ 2150               │\n",
       "│ 58  │ impliedPTS  │ 6960.46  │ 1358          │ 7223.0   │ 9541               │"
      ]
     },
     "execution_count": 6,
     "metadata": {},
     "output_type": "execute_result"
    }
   ],
   "source": [
    "describe(fullTeamDF)"
   ]
  },
  {
   "cell_type": "code",
   "execution_count": null,
   "metadata": {},
   "outputs": [],
   "source": [
    "# Build difference dataframe\n"
   ]
  }
 ],
 "metadata": {
  "kernelspec": {
   "display_name": "Julia 1.5.3",
   "language": "julia",
   "name": "julia-1.5"
  },
  "language_info": {
   "file_extension": ".jl",
   "mimetype": "application/julia",
   "name": "julia",
   "version": "1.5.3"
  }
 },
 "nbformat": 4,
 "nbformat_minor": 4
}
