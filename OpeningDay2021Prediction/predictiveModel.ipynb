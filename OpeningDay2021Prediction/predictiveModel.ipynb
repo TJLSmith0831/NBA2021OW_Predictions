{
 "cells": [
  {
   "cell_type": "markdown",
   "metadata": {},
   "source": [
    "# predictiveModel.jl\n",
    "Start Date: 12.11.20\n",
    "\n",
    "## Purpose\n",
    "Use the full team stats dataframe to predict the winner and scores of the opening week of NBA games through machine learning\n",
    "\n",
    "## Steps\n",
    "1. Load data\n",
    "2. Filter game results into first week/first 2 weeks of games each year\n",
    "3. Combine game results with team stats from the previous season\n",
    "4. Evaluate correlation\n",
    "5. Test and train model using scikit learn\n",
    "6. Apply the trained model for 2020\n",
    "\n",
    "## Desired outcome\n",
    "A dataframe detailing predicted game results from 12.22.20-12.27.20"
   ]
  },
  {
   "cell_type": "markdown",
   "metadata": {},
   "source": [
    "## Step 1 - Load Data"
   ]
  },
  {
   "cell_type": "code",
   "execution_count": 1,
   "metadata": {},
   "outputs": [
    {
     "name": "stderr",
     "output_type": "stream",
     "text": [
      "┌ Warning: Pkg.installed() is deprecated\n",
      "└ @ Pkg /Users/julia/buildbot/worker/package_macos64/build/usr/share/julia/stdlib/v1.5/Pkg/src/Pkg.jl:554\n"
     ]
    },
    {
     "data": {
      "text/plain": [
       "Dict{String,VersionNumber} with 18 entries:\n",
       "  \"CSV\"            => v\"0.8.2\"\n",
       "  \"StatsModels\"    => v\"0.6.15\"\n",
       "  \"JuMP\"           => v\"0.21.3\"\n",
       "  \"ScikitLearn\"    => v\"0.6.3\"\n",
       "  \"Lathe\"          => v\"0.1.3\"\n",
       "  \"Queryverse\"     => v\"0.6.2\"\n",
       "  \"PyCall\"         => v\"1.92.1\"\n",
       "  \"DataFramesMeta\" => v\"0.6.0\"\n",
       "  \"StatsBase\"      => v\"0.33.2\"\n",
       "  \"AutoMLPipeline\" => v\"0.2.2\"\n",
       "  \"DecisionTree\"   => v\"0.10.10\"\n",
       "  \"Plots\"          => v\"1.9.1\"\n",
       "  \"IJulia\"         => v\"1.23.1\"\n",
       "  \"Feather\"        => v\"0.5.7\"\n",
       "  \"Gadfly\"         => v\"1.3.1\"\n",
       "  \"JLD2\"           => v\"0.3.1\"\n",
       "  \"DataFrames\"     => v\"0.21.8\"\n",
       "  \"GLM\"            => v\"1.3.11\""
      ]
     },
     "execution_count": 1,
     "metadata": {},
     "output_type": "execute_result"
    }
   ],
   "source": [
    "using Pkg\n",
    "#Pkg.add(\"CSV\")\n",
    "#Pkg.add(\"JuMP\")\n",
    "#Pkg.add(\"Lathe\")\n",
    "#Pkg.add(\"ScikitLearn\")\n",
    "#Pkg.add(\"Queryverse\")\n",
    "#Pkg.add(\"PyCall\")\n",
    "#Pkg.add(\"DataFramesMeta\")\n",
    "#Pkg.add(\"IJulia\")\n",
    "#Pkg.add(\"Plots\")\n",
    "#Pkg.add(\"Gadfly\")\n",
    "#Pkg.add(\"DataFrames\")\n",
    "#Pkg.add(\"GLM\")\n",
    "#Pkg.add(\"StatsModels\")\n",
    "#Pkg.add(\"DecisionTree\")\n",
    "#Pkg.add(\"AutoMLPipeline\")\n",
    "#Pkg.add(\"Random\")\n",
    "#Pkg.add(\"JLD2\")\n",
    "Pkg.installed()"
   ]
  },
  {
   "cell_type": "code",
   "execution_count": 2,
   "metadata": {},
   "outputs": [
    {
     "data": {
      "text/html": [
       "<table class=\"data-frame\"><thead><tr><th></th><th>League</th><th>Y</th><th>Franchise</th><th>Team</th><th>G</th><th>FGM</th><th>FGA</th><th>FG%</th><th>3FGM</th></tr><tr><th></th><th>String</th><th>Int64</th><th>String</th><th>String</th><th>Int64</th><th>Int64</th><th>Int64</th><th>Float64</th><th>Int64</th></tr></thead><tbody><p>6 rows × 58 columns (omitted printing of 49 columns)</p><tr><th>1</th><td>NBA</td><td>2019</td><td>Portland Trail Blazers</td><td>POR</td><td>75</td><td>3160</td><td>6833</td><td>0.46</td><td>967</td></tr><tr><th>2</th><td>NBA</td><td>2019</td><td>Sacramento Kings</td><td>SAC</td><td>72</td><td>2943</td><td>6364</td><td>0.46</td><td>914</td></tr><tr><th>3</th><td>NBA</td><td>2019</td><td>San Antonio Spurs</td><td>SAS</td><td>71</td><td>2995</td><td>6350</td><td>0.47</td><td>760</td></tr><tr><th>4</th><td>NBA</td><td>2019</td><td>Toronto Raptors</td><td>TOR</td><td>72</td><td>2897</td><td>6331</td><td>0.46</td><td>995</td></tr><tr><th>5</th><td>NBA</td><td>2019</td><td>Utah Jazz</td><td>UTA</td><td>72</td><td>2886</td><td>6130</td><td>0.47</td><td>963</td></tr><tr><th>6</th><td>NBA</td><td>2019</td><td>Washington Wizards</td><td>WAS</td><td>72</td><td>2990</td><td>6544</td><td>0.46</td><td>864</td></tr></tbody></table>"
      ],
      "text/latex": [
       "\\begin{tabular}{r|cccccccccc}\n",
       "\t& League & Y & Franchise & Team & G & FGM & FGA & FG\\% & 3FGM & \\\\\n",
       "\t\\hline\n",
       "\t& String & Int64 & String & String & Int64 & Int64 & Int64 & Float64 & Int64 & \\\\\n",
       "\t\\hline\n",
       "\t1 & NBA & 2019 & Portland Trail Blazers & POR & 75 & 3160 & 6833 & 0.46 & 967 & $\\dots$ \\\\\n",
       "\t2 & NBA & 2019 & Sacramento Kings & SAC & 72 & 2943 & 6364 & 0.46 & 914 & $\\dots$ \\\\\n",
       "\t3 & NBA & 2019 & San Antonio Spurs & SAS & 71 & 2995 & 6350 & 0.47 & 760 & $\\dots$ \\\\\n",
       "\t4 & NBA & 2019 & Toronto Raptors & TOR & 72 & 2897 & 6331 & 0.46 & 995 & $\\dots$ \\\\\n",
       "\t5 & NBA & 2019 & Utah Jazz & UTA & 72 & 2886 & 6130 & 0.47 & 963 & $\\dots$ \\\\\n",
       "\t6 & NBA & 2019 & Washington Wizards & WAS & 72 & 2990 & 6544 & 0.46 & 864 & $\\dots$ \\\\\n",
       "\\end{tabular}\n"
      ],
      "text/plain": [
       "6×58 DataFrame. Omitted printing of 52 columns\n",
       "│ Row │ League │ Y     │ Franchise              │ Team   │ G     │ FGM   │\n",
       "│     │ \u001b[90mString\u001b[39m │ \u001b[90mInt64\u001b[39m │ \u001b[90mString\u001b[39m                 │ \u001b[90mString\u001b[39m │ \u001b[90mInt64\u001b[39m │ \u001b[90mInt64\u001b[39m │\n",
       "├─────┼────────┼───────┼────────────────────────┼────────┼───────┼───────┤\n",
       "│ 1   │ NBA    │ 2019  │ Portland Trail Blazers │ POR    │ 75    │ 3160  │\n",
       "│ 2   │ NBA    │ 2019  │ Sacramento Kings       │ SAC    │ 72    │ 2943  │\n",
       "│ 3   │ NBA    │ 2019  │ San Antonio Spurs      │ SAS    │ 71    │ 2995  │\n",
       "│ 4   │ NBA    │ 2019  │ Toronto Raptors        │ TOR    │ 72    │ 2897  │\n",
       "│ 5   │ NBA    │ 2019  │ Utah Jazz              │ UTA    │ 72    │ 2886  │\n",
       "│ 6   │ NBA    │ 2019  │ Washington Wizards     │ WAS    │ 72    │ 2990  │"
      ]
     },
     "execution_count": 2,
     "metadata": {},
     "output_type": "execute_result"
    }
   ],
   "source": [
    "using CSV, DataFrames\n",
    "fullTeamDF = CSV.read(\"data/fullTeamDF.csv\", DataFrame)\n",
    "tail(fullTeamDF)"
   ]
  },
  {
   "cell_type": "code",
   "execution_count": 3,
   "metadata": {},
   "outputs": [
    {
     "data": {
      "text/html": [
       "<table class=\"data-frame\"><thead><tr><th></th><th>D</th><th>M</th><th>Y</th><th>Season</th><th>League</th><th>teamWin</th><th>teamWinAbr</th><th>League_1</th></tr><tr><th></th><th>Int64</th><th>Int64</th><th>Int64</th><th>String</th><th>String</th><th>String</th><th>String</th><th>String</th></tr></thead><tbody><p>6 rows × 17 columns (omitted printing of 9 columns)</p><tr><th>1</th><td>13</td><td>8</td><td>2020</td><td>(2019-20)</td><td>NBA</td><td>Utah Jazz</td><td>UTA</td><td>NBA</td></tr><tr><th>2</th><td>13</td><td>8</td><td>2020</td><td>(2019-20)</td><td>NBA</td><td>Washington Wizards</td><td>WAS</td><td>NBA</td></tr><tr><th>3</th><td>14</td><td>8</td><td>2020</td><td>(2019-20)</td><td>NBA</td><td>Indiana Pacers</td><td>IND</td><td>NBA</td></tr><tr><th>4</th><td>14</td><td>8</td><td>2020</td><td>(2019-20)</td><td>NBA</td><td>Los Angeles Clippers</td><td>LAC</td><td>NBA</td></tr><tr><th>5</th><td>14</td><td>8</td><td>2020</td><td>(2019-20)</td><td>NBA</td><td>Philadelphia 76ers</td><td>PHI</td><td>NBA</td></tr><tr><th>6</th><td>14</td><td>8</td><td>2020</td><td>(2019-20)</td><td>NBA</td><td>Toronto Raptors</td><td>TOR</td><td>NBA</td></tr></tbody></table>"
      ],
      "text/latex": [
       "\\begin{tabular}{r|ccccccccc}\n",
       "\t& D & M & Y & Season & League & teamWin & teamWinAbr & League\\_1 & \\\\\n",
       "\t\\hline\n",
       "\t& Int64 & Int64 & Int64 & String & String & String & String & String & \\\\\n",
       "\t\\hline\n",
       "\t1 & 13 & 8 & 2020 & (2019-20) & NBA & Utah Jazz & UTA & NBA & $\\dots$ \\\\\n",
       "\t2 & 13 & 8 & 2020 & (2019-20) & NBA & Washington Wizards & WAS & NBA & $\\dots$ \\\\\n",
       "\t3 & 14 & 8 & 2020 & (2019-20) & NBA & Indiana Pacers & IND & NBA & $\\dots$ \\\\\n",
       "\t4 & 14 & 8 & 2020 & (2019-20) & NBA & Los Angeles Clippers & LAC & NBA & $\\dots$ \\\\\n",
       "\t5 & 14 & 8 & 2020 & (2019-20) & NBA & Philadelphia 76ers & PHI & NBA & $\\dots$ \\\\\n",
       "\t6 & 14 & 8 & 2020 & (2019-20) & NBA & Toronto Raptors & TOR & NBA & $\\dots$ \\\\\n",
       "\\end{tabular}\n"
      ],
      "text/plain": [
       "6×17 DataFrame. Omitted printing of 11 columns\n",
       "│ Row │ D     │ M     │ Y     │ Season    │ League │ teamWin              │\n",
       "│     │ \u001b[90mInt64\u001b[39m │ \u001b[90mInt64\u001b[39m │ \u001b[90mInt64\u001b[39m │ \u001b[90mString\u001b[39m    │ \u001b[90mString\u001b[39m │ \u001b[90mString\u001b[39m               │\n",
       "├─────┼───────┼───────┼───────┼───────────┼────────┼──────────────────────┤\n",
       "│ 1   │ 13    │ 8     │ 2020  │ (2019-20) │ NBA    │ Utah Jazz            │\n",
       "│ 2   │ 13    │ 8     │ 2020  │ (2019-20) │ NBA    │ Washington Wizards   │\n",
       "│ 3   │ 14    │ 8     │ 2020  │ (2019-20) │ NBA    │ Indiana Pacers       │\n",
       "│ 4   │ 14    │ 8     │ 2020  │ (2019-20) │ NBA    │ Los Angeles Clippers │\n",
       "│ 5   │ 14    │ 8     │ 2020  │ (2019-20) │ NBA    │ Philadelphia 76ers   │\n",
       "│ 6   │ 14    │ 8     │ 2020  │ (2019-20) │ NBA    │ Toronto Raptors      │"
      ]
     },
     "execution_count": 3,
     "metadata": {},
     "output_type": "execute_result"
    }
   ],
   "source": [
    "using CSV, DataFrames\n",
    "results = CSV.read(\"data/nbaResults.csv\",  DataFrame)\n",
    "deletecols!(results, :Type)\n",
    "tail(results)"
   ]
  },
  {
   "cell_type": "code",
   "execution_count": 4,
   "metadata": {},
   "outputs": [
    {
     "data": {
      "text/html": [
       "<table class=\"data-frame\"><thead><tr><th></th><th>League</th><th>Y</th><th>Franchise</th><th>Team</th><th>G</th><th>FGM</th><th>FGA</th><th>FG%</th><th>3FGM</th></tr><tr><th></th><th>String</th><th>Int64</th><th>String</th><th>String</th><th>Int64</th><th>Int64</th><th>Int64</th><th>Float64</th><th>Int64</th></tr></thead><tbody><p>6 rows × 58 columns (omitted printing of 49 columns)</p><tr><th>1</th><td>NBA</td><td>2018</td><td>Portland Trail Blazers</td><td>POR</td><td>82</td><td>3470</td><td>7427</td><td>0.47</td><td>904</td></tr><tr><th>2</th><td>NBA</td><td>2018</td><td>Sacramento Kings</td><td>SAC</td><td>82</td><td>3541</td><td>7637</td><td>0.46</td><td>927</td></tr><tr><th>3</th><td>NBA</td><td>2018</td><td>San Antonio Spurs</td><td>SAS</td><td>82</td><td>3468</td><td>7248</td><td>0.48</td><td>812</td></tr><tr><th>4</th><td>NBA</td><td>2018</td><td>Toronto Raptors</td><td>TOR</td><td>82</td><td>3460</td><td>7305</td><td>0.47</td><td>1015</td></tr><tr><th>5</th><td>NBA</td><td>2018</td><td>Utah Jazz</td><td>UTA</td><td>82</td><td>3314</td><td>7082</td><td>0.47</td><td>993</td></tr><tr><th>6</th><td>NBA</td><td>2018</td><td>Washington Wizards</td><td>WAS</td><td>82</td><td>3456</td><td>7387</td><td>0.47</td><td>930</td></tr></tbody></table>"
      ],
      "text/latex": [
       "\\begin{tabular}{r|cccccccccc}\n",
       "\t& League & Y & Franchise & Team & G & FGM & FGA & FG\\% & 3FGM & \\\\\n",
       "\t\\hline\n",
       "\t& String & Int64 & String & String & Int64 & Int64 & Int64 & Float64 & Int64 & \\\\\n",
       "\t\\hline\n",
       "\t1 & NBA & 2018 & Portland Trail Blazers & POR & 82 & 3470 & 7427 & 0.47 & 904 & $\\dots$ \\\\\n",
       "\t2 & NBA & 2018 & Sacramento Kings & SAC & 82 & 3541 & 7637 & 0.46 & 927 & $\\dots$ \\\\\n",
       "\t3 & NBA & 2018 & San Antonio Spurs & SAS & 82 & 3468 & 7248 & 0.48 & 812 & $\\dots$ \\\\\n",
       "\t4 & NBA & 2018 & Toronto Raptors & TOR & 82 & 3460 & 7305 & 0.47 & 1015 & $\\dots$ \\\\\n",
       "\t5 & NBA & 2018 & Utah Jazz & UTA & 82 & 3314 & 7082 & 0.47 & 993 & $\\dots$ \\\\\n",
       "\t6 & NBA & 2018 & Washington Wizards & WAS & 82 & 3456 & 7387 & 0.47 & 930 & $\\dots$ \\\\\n",
       "\\end{tabular}\n"
      ],
      "text/plain": [
       "6×58 DataFrame. Omitted printing of 52 columns\n",
       "│ Row │ League │ Y     │ Franchise              │ Team   │ G     │ FGM   │\n",
       "│     │ \u001b[90mString\u001b[39m │ \u001b[90mInt64\u001b[39m │ \u001b[90mString\u001b[39m                 │ \u001b[90mString\u001b[39m │ \u001b[90mInt64\u001b[39m │ \u001b[90mInt64\u001b[39m │\n",
       "├─────┼────────┼───────┼────────────────────────┼────────┼───────┼───────┤\n",
       "│ 1   │ NBA    │ 2018  │ Portland Trail Blazers │ POR    │ 82    │ 3470  │\n",
       "│ 2   │ NBA    │ 2018  │ Sacramento Kings       │ SAC    │ 82    │ 3541  │\n",
       "│ 3   │ NBA    │ 2018  │ San Antonio Spurs      │ SAS    │ 82    │ 3468  │\n",
       "│ 4   │ NBA    │ 2018  │ Toronto Raptors        │ TOR    │ 82    │ 3460  │\n",
       "│ 5   │ NBA    │ 2018  │ Utah Jazz              │ UTA    │ 82    │ 3314  │\n",
       "│ 6   │ NBA    │ 2018  │ Washington Wizards     │ WAS    │ 82    │ 3456  │"
      ]
     },
     "execution_count": 4,
     "metadata": {},
     "output_type": "execute_result"
    }
   ],
   "source": [
    "# Split off 2019's statistics to prepare for 2020 schedule\n",
    "using DataFramesMeta\n",
    "predStats = @where(fullTeamDF, :Y .== 2019)\n",
    "fullTeamDF = @where(fullTeamDF, :Y .<2019)\n",
    "tail(fullTeamDF)"
   ]
  },
  {
   "cell_type": "markdown",
   "metadata": {},
   "source": [
    "## Step 2 - Filter for Opening Week\n",
    "\n",
    "Excluding 2020  the NBA opening week usually is played around the week of October 23rd. This model will be predicting the scores and outcomes of Opening Week 2020 using the final team statistics from the last regular season. In order to train the model correctly  the results data frame will be filtered for the month of October and it will be filtered from . These dates may be slightly wide  however  this range will ensure the data has at least the first game of each team.\n",
    "\n",
    "* Another method could be taking the first fifteen games of each season"
   ]
  },
  {
   "cell_type": "code",
   "execution_count": 5,
   "metadata": {},
   "outputs": [
    {
     "data": {
      "text/html": [
       "<table class=\"data-frame\"><thead><tr><th></th><th>D</th><th>M</th><th>Y</th><th>Season</th><th>League</th><th>teamWin</th><th>teamWinAbr</th><th>League_1</th></tr><tr><th></th><th>Int64</th><th>Int64</th><th>Int64</th><th>String</th><th>String</th><th>String</th><th>String</th><th>String</th></tr></thead><tbody><p>6 rows × 17 columns (omitted printing of 9 columns)</p><tr><th>1</th><td>13</td><td>8</td><td>2020</td><td>(2019-20)</td><td>NBA</td><td>Utah Jazz</td><td>UTA</td><td>NBA</td></tr><tr><th>2</th><td>13</td><td>8</td><td>2020</td><td>(2019-20)</td><td>NBA</td><td>Washington Wizards</td><td>WAS</td><td>NBA</td></tr><tr><th>3</th><td>14</td><td>8</td><td>2020</td><td>(2019-20)</td><td>NBA</td><td>Indiana Pacers</td><td>IND</td><td>NBA</td></tr><tr><th>4</th><td>14</td><td>8</td><td>2020</td><td>(2019-20)</td><td>NBA</td><td>Los Angeles Clippers</td><td>LAC</td><td>NBA</td></tr><tr><th>5</th><td>14</td><td>8</td><td>2020</td><td>(2019-20)</td><td>NBA</td><td>Philadelphia 76ers</td><td>PHI</td><td>NBA</td></tr><tr><th>6</th><td>14</td><td>8</td><td>2020</td><td>(2019-20)</td><td>NBA</td><td>Toronto Raptors</td><td>TOR</td><td>NBA</td></tr></tbody></table>"
      ],
      "text/latex": [
       "\\begin{tabular}{r|ccccccccc}\n",
       "\t& D & M & Y & Season & League & teamWin & teamWinAbr & League\\_1 & \\\\\n",
       "\t\\hline\n",
       "\t& Int64 & Int64 & Int64 & String & String & String & String & String & \\\\\n",
       "\t\\hline\n",
       "\t1 & 13 & 8 & 2020 & (2019-20) & NBA & Utah Jazz & UTA & NBA & $\\dots$ \\\\\n",
       "\t2 & 13 & 8 & 2020 & (2019-20) & NBA & Washington Wizards & WAS & NBA & $\\dots$ \\\\\n",
       "\t3 & 14 & 8 & 2020 & (2019-20) & NBA & Indiana Pacers & IND & NBA & $\\dots$ \\\\\n",
       "\t4 & 14 & 8 & 2020 & (2019-20) & NBA & Los Angeles Clippers & LAC & NBA & $\\dots$ \\\\\n",
       "\t5 & 14 & 8 & 2020 & (2019-20) & NBA & Philadelphia 76ers & PHI & NBA & $\\dots$ \\\\\n",
       "\t6 & 14 & 8 & 2020 & (2019-20) & NBA & Toronto Raptors & TOR & NBA & $\\dots$ \\\\\n",
       "\\end{tabular}\n"
      ],
      "text/plain": [
       "6×17 DataFrame. Omitted printing of 11 columns\n",
       "│ Row │ D     │ M     │ Y     │ Season    │ League │ teamWin              │\n",
       "│     │ \u001b[90mInt64\u001b[39m │ \u001b[90mInt64\u001b[39m │ \u001b[90mInt64\u001b[39m │ \u001b[90mString\u001b[39m    │ \u001b[90mString\u001b[39m │ \u001b[90mString\u001b[39m               │\n",
       "├─────┼───────┼───────┼───────┼───────────┼────────┼──────────────────────┤\n",
       "│ 1   │ 13    │ 8     │ 2020  │ (2019-20) │ NBA    │ Utah Jazz            │\n",
       "│ 2   │ 13    │ 8     │ 2020  │ (2019-20) │ NBA    │ Washington Wizards   │\n",
       "│ 3   │ 14    │ 8     │ 2020  │ (2019-20) │ NBA    │ Indiana Pacers       │\n",
       "│ 4   │ 14    │ 8     │ 2020  │ (2019-20) │ NBA    │ Los Angeles Clippers │\n",
       "│ 5   │ 14    │ 8     │ 2020  │ (2019-20) │ NBA    │ Philadelphia 76ers   │\n",
       "│ 6   │ 14    │ 8     │ 2020  │ (2019-20) │ NBA    │ Toronto Raptors      │"
      ]
     },
     "execution_count": 5,
     "metadata": {},
     "output_type": "execute_result"
    }
   ],
   "source": [
    "using DataFramesMeta\n",
    "tail(results)"
   ]
  },
  {
   "cell_type": "markdown",
   "metadata": {},
   "source": [
    "## Step 3 - Combine Game and Past Season Data"
   ]
  },
  {
   "cell_type": "code",
   "execution_count": 6,
   "metadata": {},
   "outputs": [
    {
     "data": {
      "text/html": [
       "<table class=\"data-frame\"><thead><tr><th></th><th>League</th><th>Y</th><th>nextYr</th><th>Franchise</th><th>Team</th><th>G</th><th>FGM</th><th>FGA</th><th>FG%</th></tr><tr><th></th><th>String</th><th>Int64</th><th>Int64</th><th>String</th><th>String</th><th>Int64</th><th>Int64</th><th>Int64</th><th>Float64</th></tr></thead><tbody><p>846 rows × 59 columns (omitted printing of 50 columns)</p><tr><th>1</th><td>NBA</td><td>1990</td><td>1991</td><td>Atlanta Hawks</td><td>ATL</td><td>82</td><td>3349</td><td>7223</td><td>0.46</td></tr><tr><th>2</th><td>NBA</td><td>1990</td><td>1991</td><td>Boston Celtics</td><td>BOS</td><td>82</td><td>3695</td><td>7214</td><td>0.51</td></tr><tr><th>3</th><td>NBA</td><td>1990</td><td>1991</td><td>Brooklyn Nets</td><td>NJN</td><td>82</td><td>3311</td><td>7459</td><td>0.44</td></tr><tr><th>4</th><td>NBA</td><td>1990</td><td>1991</td><td>Charlotte Hornets</td><td>CHA</td><td>82</td><td>3286</td><td>7033</td><td>0.47</td></tr><tr><th>5</th><td>NBA</td><td>1990</td><td>1991</td><td>Chicago Bulls</td><td>CHI</td><td>82</td><td>3632</td><td>7125</td><td>0.51</td></tr><tr><th>6</th><td>NBA</td><td>1990</td><td>1991</td><td>Cleveland Cavaliers</td><td>CLE</td><td>82</td><td>3259</td><td>6857</td><td>0.48</td></tr><tr><th>7</th><td>NBA</td><td>1990</td><td>1991</td><td>Dallas Mavericks</td><td>DAL</td><td>82</td><td>3245</td><td>6890</td><td>0.47</td></tr><tr><th>8</th><td>NBA</td><td>1990</td><td>1991</td><td>Denver Nuggets</td><td>DEN</td><td>82</td><td>3901</td><td>8868</td><td>0.44</td></tr><tr><th>9</th><td>NBA</td><td>1990</td><td>1991</td><td>Detroit Pistons</td><td>DET</td><td>82</td><td>3194</td><td>6875</td><td>0.46</td></tr><tr><th>10</th><td>NBA</td><td>1990</td><td>1991</td><td>Golden State Warriors</td><td>GSW</td><td>82</td><td>3566</td><td>7346</td><td>0.49</td></tr><tr><th>11</th><td>NBA</td><td>1990</td><td>1991</td><td>Houston Rockets</td><td>HOU</td><td>82</td><td>3403</td><td>7287</td><td>0.47</td></tr><tr><th>12</th><td>NBA</td><td>1990</td><td>1991</td><td>Indiana Pacers</td><td>IND</td><td>82</td><td>3450</td><td>6994</td><td>0.49</td></tr><tr><th>13</th><td>NBA</td><td>1990</td><td>1991</td><td>Los Angeles Clippers</td><td>LAC</td><td>82</td><td>3391</td><td>7315</td><td>0.46</td></tr><tr><th>14</th><td>NBA</td><td>1990</td><td>1991</td><td>Los Angeles Lakers</td><td>LAL</td><td>82</td><td>3343</td><td>6911</td><td>0.48</td></tr><tr><th>15</th><td>NBA</td><td>1990</td><td>1991</td><td>Miami Heat</td><td>MIA</td><td>82</td><td>3280</td><td>7139</td><td>0.46</td></tr><tr><th>16</th><td>NBA</td><td>1990</td><td>1991</td><td>Milwaukee Bucks</td><td>MIL</td><td>82</td><td>3337</td><td>6948</td><td>0.48</td></tr><tr><th>17</th><td>NBA</td><td>1990</td><td>1991</td><td>Minnesota Timberwolves</td><td>MIN</td><td>82</td><td>3265</td><td>7276</td><td>0.45</td></tr><tr><th>18</th><td>NBA</td><td>1990</td><td>1991</td><td>New York Knicks</td><td>NYK</td><td>82</td><td>3308</td><td>6822</td><td>0.48</td></tr><tr><th>19</th><td>NBA</td><td>1990</td><td>1991</td><td>Oklahoma City Thunder</td><td>SEA</td><td>82</td><td>3500</td><td>7117</td><td>0.49</td></tr><tr><th>20</th><td>NBA</td><td>1990</td><td>1991</td><td>Orlando Magic</td><td>ORL</td><td>82</td><td>3298</td><td>7256</td><td>0.45</td></tr><tr><th>21</th><td>NBA</td><td>1990</td><td>1991</td><td>Philadelphia 76ers</td><td>PHI</td><td>82</td><td>3289</td><td>6925</td><td>0.47</td></tr><tr><th>22</th><td>NBA</td><td>1990</td><td>1991</td><td>Phoenix Suns</td><td>PHO</td><td>82</td><td>3573</td><td>7199</td><td>0.5</td></tr><tr><th>23</th><td>NBA</td><td>1990</td><td>1991</td><td>Portland Trail Blazers</td><td>POR</td><td>82</td><td>3577</td><td>7369</td><td>0.49</td></tr><tr><th>24</th><td>NBA</td><td>1990</td><td>1991</td><td>Sacramento Kings</td><td>SAC</td><td>82</td><td>3086</td><td>6818</td><td>0.45</td></tr><tr><th>25</th><td>NBA</td><td>1990</td><td>1991</td><td>San Antonio Spurs</td><td>SAS</td><td>82</td><td>3409</td><td>6988</td><td>0.49</td></tr><tr><th>26</th><td>NBA</td><td>1990</td><td>1991</td><td>Utah Jazz</td><td>UTA</td><td>82</td><td>3214</td><td>6537</td><td>0.49</td></tr><tr><th>27</th><td>NBA</td><td>1990</td><td>1991</td><td>Washington Wizards</td><td>WAS</td><td>82</td><td>3390</td><td>7268</td><td>0.47</td></tr><tr><th>28</th><td>NBA</td><td>1991</td><td>1992</td><td>Atlanta Hawks</td><td>ATL</td><td>82</td><td>3492</td><td>7476</td><td>0.47</td></tr><tr><th>29</th><td>NBA</td><td>1991</td><td>1992</td><td>Boston Celtics</td><td>BOS</td><td>82</td><td>3543</td><td>7196</td><td>0.49</td></tr><tr><th>30</th><td>NBA</td><td>1991</td><td>1992</td><td>Brooklyn Nets</td><td>NJN</td><td>82</td><td>3473</td><td>7580</td><td>0.46</td></tr><tr><th>&vellip;</th><td>&vellip;</td><td>&vellip;</td><td>&vellip;</td><td>&vellip;</td><td>&vellip;</td><td>&vellip;</td><td>&vellip;</td><td>&vellip;</td><td>&vellip;</td></tr></tbody></table>"
      ],
      "text/latex": [
       "\\begin{tabular}{r|cccccccccc}\n",
       "\t& League & Y & nextYr & Franchise & Team & G & FGM & FGA & FG\\% & \\\\\n",
       "\t\\hline\n",
       "\t& String & Int64 & Int64 & String & String & Int64 & Int64 & Int64 & Float64 & \\\\\n",
       "\t\\hline\n",
       "\t1 & NBA & 1990 & 1991 & Atlanta Hawks & ATL & 82 & 3349 & 7223 & 0.46 & $\\dots$ \\\\\n",
       "\t2 & NBA & 1990 & 1991 & Boston Celtics & BOS & 82 & 3695 & 7214 & 0.51 & $\\dots$ \\\\\n",
       "\t3 & NBA & 1990 & 1991 & Brooklyn Nets & NJN & 82 & 3311 & 7459 & 0.44 & $\\dots$ \\\\\n",
       "\t4 & NBA & 1990 & 1991 & Charlotte Hornets & CHA & 82 & 3286 & 7033 & 0.47 & $\\dots$ \\\\\n",
       "\t5 & NBA & 1990 & 1991 & Chicago Bulls & CHI & 82 & 3632 & 7125 & 0.51 & $\\dots$ \\\\\n",
       "\t6 & NBA & 1990 & 1991 & Cleveland Cavaliers & CLE & 82 & 3259 & 6857 & 0.48 & $\\dots$ \\\\\n",
       "\t7 & NBA & 1990 & 1991 & Dallas Mavericks & DAL & 82 & 3245 & 6890 & 0.47 & $\\dots$ \\\\\n",
       "\t8 & NBA & 1990 & 1991 & Denver Nuggets & DEN & 82 & 3901 & 8868 & 0.44 & $\\dots$ \\\\\n",
       "\t9 & NBA & 1990 & 1991 & Detroit Pistons & DET & 82 & 3194 & 6875 & 0.46 & $\\dots$ \\\\\n",
       "\t10 & NBA & 1990 & 1991 & Golden State Warriors & GSW & 82 & 3566 & 7346 & 0.49 & $\\dots$ \\\\\n",
       "\t11 & NBA & 1990 & 1991 & Houston Rockets & HOU & 82 & 3403 & 7287 & 0.47 & $\\dots$ \\\\\n",
       "\t12 & NBA & 1990 & 1991 & Indiana Pacers & IND & 82 & 3450 & 6994 & 0.49 & $\\dots$ \\\\\n",
       "\t13 & NBA & 1990 & 1991 & Los Angeles Clippers & LAC & 82 & 3391 & 7315 & 0.46 & $\\dots$ \\\\\n",
       "\t14 & NBA & 1990 & 1991 & Los Angeles Lakers & LAL & 82 & 3343 & 6911 & 0.48 & $\\dots$ \\\\\n",
       "\t15 & NBA & 1990 & 1991 & Miami Heat & MIA & 82 & 3280 & 7139 & 0.46 & $\\dots$ \\\\\n",
       "\t16 & NBA & 1990 & 1991 & Milwaukee Bucks & MIL & 82 & 3337 & 6948 & 0.48 & $\\dots$ \\\\\n",
       "\t17 & NBA & 1990 & 1991 & Minnesota Timberwolves & MIN & 82 & 3265 & 7276 & 0.45 & $\\dots$ \\\\\n",
       "\t18 & NBA & 1990 & 1991 & New York Knicks & NYK & 82 & 3308 & 6822 & 0.48 & $\\dots$ \\\\\n",
       "\t19 & NBA & 1990 & 1991 & Oklahoma City Thunder & SEA & 82 & 3500 & 7117 & 0.49 & $\\dots$ \\\\\n",
       "\t20 & NBA & 1990 & 1991 & Orlando Magic & ORL & 82 & 3298 & 7256 & 0.45 & $\\dots$ \\\\\n",
       "\t21 & NBA & 1990 & 1991 & Philadelphia 76ers & PHI & 82 & 3289 & 6925 & 0.47 & $\\dots$ \\\\\n",
       "\t22 & NBA & 1990 & 1991 & Phoenix Suns & PHO & 82 & 3573 & 7199 & 0.5 & $\\dots$ \\\\\n",
       "\t23 & NBA & 1990 & 1991 & Portland Trail Blazers & POR & 82 & 3577 & 7369 & 0.49 & $\\dots$ \\\\\n",
       "\t24 & NBA & 1990 & 1991 & Sacramento Kings & SAC & 82 & 3086 & 6818 & 0.45 & $\\dots$ \\\\\n",
       "\t25 & NBA & 1990 & 1991 & San Antonio Spurs & SAS & 82 & 3409 & 6988 & 0.49 & $\\dots$ \\\\\n",
       "\t26 & NBA & 1990 & 1991 & Utah Jazz & UTA & 82 & 3214 & 6537 & 0.49 & $\\dots$ \\\\\n",
       "\t27 & NBA & 1990 & 1991 & Washington Wizards & WAS & 82 & 3390 & 7268 & 0.47 & $\\dots$ \\\\\n",
       "\t28 & NBA & 1991 & 1992 & Atlanta Hawks & ATL & 82 & 3492 & 7476 & 0.47 & $\\dots$ \\\\\n",
       "\t29 & NBA & 1991 & 1992 & Boston Celtics & BOS & 82 & 3543 & 7196 & 0.49 & $\\dots$ \\\\\n",
       "\t30 & NBA & 1991 & 1992 & Brooklyn Nets & NJN & 82 & 3473 & 7580 & 0.46 & $\\dots$ \\\\\n",
       "\t$\\dots$ & $\\dots$ & $\\dots$ & $\\dots$ & $\\dots$ & $\\dots$ & $\\dots$ & $\\dots$ & $\\dots$ & $\\dots$ &  \\\\\n",
       "\\end{tabular}\n"
      ],
      "text/plain": [
       "846×59 DataFrame. Omitted printing of 53 columns\n",
       "│ Row │ League │ Y     │ nextYr │ Franchise              │ Team   │ G     │\n",
       "│     │ \u001b[90mString\u001b[39m │ \u001b[90mInt64\u001b[39m │ \u001b[90mInt64\u001b[39m  │ \u001b[90mString\u001b[39m                 │ \u001b[90mString\u001b[39m │ \u001b[90mInt64\u001b[39m │\n",
       "├─────┼────────┼───────┼────────┼────────────────────────┼────────┼───────┤\n",
       "│ 1   │ NBA    │ 1990  │ 1991   │ Atlanta Hawks          │ ATL    │ 82    │\n",
       "│ 2   │ NBA    │ 1990  │ 1991   │ Boston Celtics         │ BOS    │ 82    │\n",
       "│ 3   │ NBA    │ 1990  │ 1991   │ Brooklyn Nets          │ NJN    │ 82    │\n",
       "│ 4   │ NBA    │ 1990  │ 1991   │ Charlotte Hornets      │ CHA    │ 82    │\n",
       "│ 5   │ NBA    │ 1990  │ 1991   │ Chicago Bulls          │ CHI    │ 82    │\n",
       "│ 6   │ NBA    │ 1990  │ 1991   │ Cleveland Cavaliers    │ CLE    │ 82    │\n",
       "│ 7   │ NBA    │ 1990  │ 1991   │ Dallas Mavericks       │ DAL    │ 82    │\n",
       "│ 8   │ NBA    │ 1990  │ 1991   │ Denver Nuggets         │ DEN    │ 82    │\n",
       "│ 9   │ NBA    │ 1990  │ 1991   │ Detroit Pistons        │ DET    │ 82    │\n",
       "│ 10  │ NBA    │ 1990  │ 1991   │ Golden State Warriors  │ GSW    │ 82    │\n",
       "⋮\n",
       "│ 836 │ NBA    │ 2018  │ 2019   │ New York Knicks        │ NYK    │ 82    │\n",
       "│ 837 │ NBA    │ 2018  │ 2019   │ Oklahoma City Thunder  │ OCT    │ 82    │\n",
       "│ 838 │ NBA    │ 2018  │ 2019   │ Orlando Magic          │ ORL    │ 82    │\n",
       "│ 839 │ NBA    │ 2018  │ 2019   │ Philadelphia 76ers     │ PHI    │ 82    │\n",
       "│ 840 │ NBA    │ 2018  │ 2019   │ Phoenix Suns           │ PHO    │ 82    │\n",
       "│ 841 │ NBA    │ 2018  │ 2019   │ Portland Trail Blazers │ POR    │ 82    │\n",
       "│ 842 │ NBA    │ 2018  │ 2019   │ Sacramento Kings       │ SAC    │ 82    │\n",
       "│ 843 │ NBA    │ 2018  │ 2019   │ San Antonio Spurs      │ SAS    │ 82    │\n",
       "│ 844 │ NBA    │ 2018  │ 2019   │ Toronto Raptors        │ TOR    │ 82    │\n",
       "│ 845 │ NBA    │ 2018  │ 2019   │ Utah Jazz              │ UTA    │ 82    │\n",
       "│ 846 │ NBA    │ 2018  │ 2019   │ Washington Wizards     │ WAS    │ 82    │"
      ]
     },
     "execution_count": 6,
     "metadata": {},
     "output_type": "execute_result"
    }
   ],
   "source": [
    "using DataFrames, DataFramesMeta\n",
    "insert!(fullTeamDF, 3, 0, :nextYr)\n",
    "fullTeamDF = @transform(fullTeamDF, nextYr = :Y .+ 1)\n",
    "fullTeamDF"
   ]
  },
  {
   "cell_type": "code",
   "execution_count": 7,
   "metadata": {},
   "outputs": [
    {
     "data": {
      "text/html": [
       "<table class=\"data-frame\"><thead><tr><th></th><th>D</th><th>M</th><th>Y</th><th>Season</th><th>teamWinAbr</th><th>teamLoseAbr</th><th>winScore</th><th>loseScore</th><th>Margin</th></tr><tr><th></th><th>Int64</th><th>Int64</th><th>Int64</th><th>String</th><th>String</th><th>String</th><th>Int64</th><th>Int64</th><th>Int64</th></tr></thead><tbody><p>34,064 rows × 119 columns (omitted printing of 110 columns)</p><tr><th>1</th><td>2</td><td>1</td><td>1991</td><td>(1990-91)</td><td>ATL</td><td>LAC</td><td>120</td><td>107</td><td>13</td></tr><tr><th>2</th><td>2</td><td>1</td><td>1991</td><td>(1990-91)</td><td>BOS</td><td>NYK</td><td>113</td><td>86</td><td>27</td></tr><tr><th>3</th><td>2</td><td>1</td><td>1991</td><td>(1990-91)</td><td>DET</td><td>DEN</td><td>118</td><td>107</td><td>11</td></tr><tr><th>4</th><td>2</td><td>1</td><td>1991</td><td>(1990-91)</td><td>IND</td><td>SAS</td><td>121</td><td>109</td><td>12</td></tr><tr><th>5</th><td>2</td><td>1</td><td>1991</td><td>(1990-91)</td><td>MIL</td><td>CHA</td><td>106</td><td>91</td><td>15</td></tr><tr><th>6</th><td>2</td><td>1</td><td>1991</td><td>(1990-91)</td><td>MIN</td><td>DAL</td><td>115</td><td>95</td><td>20</td></tr><tr><th>7</th><td>2</td><td>1</td><td>1991</td><td>(1990-91)</td><td>PHO</td><td>CLE</td><td>105</td><td>83</td><td>22</td></tr><tr><th>8</th><td>2</td><td>1</td><td>1991</td><td>(1990-91)</td><td>SEA</td><td>PHI</td><td>127</td><td>99</td><td>28</td></tr><tr><th>9</th><td>2</td><td>1</td><td>1991</td><td>(1990-91)</td><td>UTA</td><td>MIA</td><td>112</td><td>104</td><td>8</td></tr><tr><th>10</th><td>3</td><td>1</td><td>1991</td><td>(1990-91)</td><td>HOU</td><td>CHI</td><td>114</td><td>92</td><td>22</td></tr><tr><th>11</th><td>3</td><td>1</td><td>1991</td><td>(1990-91)</td><td>LAL</td><td>POR</td><td>108</td><td>104</td><td>4</td></tr><tr><th>12</th><td>3</td><td>1</td><td>1991</td><td>(1990-91)</td><td>MIL</td><td>DAL</td><td>97</td><td>87</td><td>10</td></tr><tr><th>13</th><td>3</td><td>1</td><td>1991</td><td>(1990-91)</td><td>NYK</td><td>DEN</td><td>135</td><td>108</td><td>27</td></tr><tr><th>14</th><td>3</td><td>1</td><td>1991</td><td>(1990-91)</td><td>ORL</td><td>LAC</td><td>110</td><td>108</td><td>2</td></tr><tr><th>15</th><td>3</td><td>1</td><td>1991</td><td>(1990-91)</td><td>SAC</td><td>GSW</td><td>131</td><td>113</td><td>18</td></tr><tr><th>16</th><td>3</td><td>1</td><td>1991</td><td>(1990-91)</td><td>WAS</td><td>CHA</td><td>118</td><td>108</td><td>10</td></tr><tr><th>17</th><td>4</td><td>1</td><td>1991</td><td>(1990-91)</td><td>ATL</td><td>IND</td><td>111</td><td>96</td><td>15</td></tr><tr><th>18</th><td>4</td><td>1</td><td>1991</td><td>(1990-91)</td><td>BOS</td><td>PHO</td><td>132</td><td>103</td><td>29</td></tr><tr><th>19</th><td>4</td><td>1</td><td>1991</td><td>(1990-91)</td><td>DET</td><td>CLE</td><td>98</td><td>94</td><td>4</td></tr><tr><th>20</th><td>4</td><td>1</td><td>1991</td><td>(1990-91)</td><td>GSW</td><td>LAL</td><td>115</td><td>99</td><td>16</td></tr><tr><th>21</th><td>4</td><td>1</td><td>1991</td><td>(1990-91)</td><td>SAS</td><td>NJN</td><td>93</td><td>89</td><td>4</td></tr><tr><th>22</th><td>4</td><td>1</td><td>1991</td><td>(1990-91)</td><td>SEA</td><td>MIA</td><td>112</td><td>86</td><td>26</td></tr><tr><th>23</th><td>4</td><td>1</td><td>1991</td><td>(1990-91)</td><td>UTA</td><td>PHI</td><td>102</td><td>99</td><td>3</td></tr><tr><th>24</th><td>4</td><td>1</td><td>1991</td><td>(1990-91)</td><td>WAS</td><td>MIN</td><td>111</td><td>100</td><td>11</td></tr><tr><th>25</th><td>5</td><td>1</td><td>1991</td><td>(1990-91)</td><td>ATL</td><td>MIN</td><td>117</td><td>112</td><td>5</td></tr><tr><th>26</th><td>5</td><td>1</td><td>1991</td><td>(1990-91)</td><td>CHA</td><td>LAC</td><td>111</td><td>103</td><td>8</td></tr><tr><th>27</th><td>5</td><td>1</td><td>1991</td><td>(1990-91)</td><td>CHI</td><td>CLE</td><td>108</td><td>92</td><td>16</td></tr><tr><th>28</th><td>5</td><td>1</td><td>1991</td><td>(1990-91)</td><td>DET</td><td>NJN</td><td>99</td><td>83</td><td>16</td></tr><tr><th>29</th><td>5</td><td>1</td><td>1991</td><td>(1990-91)</td><td>HOU</td><td>IND</td><td>112</td><td>99</td><td>13</td></tr><tr><th>30</th><td>5</td><td>1</td><td>1991</td><td>(1990-91)</td><td>MIL</td><td>PHO</td><td>88</td><td>86</td><td>2</td></tr><tr><th>&vellip;</th><td>&vellip;</td><td>&vellip;</td><td>&vellip;</td><td>&vellip;</td><td>&vellip;</td><td>&vellip;</td><td>&vellip;</td><td>&vellip;</td><td>&vellip;</td></tr></tbody></table>"
      ],
      "text/latex": [
       "\\begin{tabular}{r|cccccccccc}\n",
       "\t& D & M & Y & Season & teamWinAbr & teamLoseAbr & winScore & loseScore & Margin & \\\\\n",
       "\t\\hline\n",
       "\t& Int64 & Int64 & Int64 & String & String & String & Int64 & Int64 & Int64 & \\\\\n",
       "\t\\hline\n",
       "\t1 & 2 & 1 & 1991 & (1990-91) & ATL & LAC & 120 & 107 & 13 & $\\dots$ \\\\\n",
       "\t2 & 2 & 1 & 1991 & (1990-91) & BOS & NYK & 113 & 86 & 27 & $\\dots$ \\\\\n",
       "\t3 & 2 & 1 & 1991 & (1990-91) & DET & DEN & 118 & 107 & 11 & $\\dots$ \\\\\n",
       "\t4 & 2 & 1 & 1991 & (1990-91) & IND & SAS & 121 & 109 & 12 & $\\dots$ \\\\\n",
       "\t5 & 2 & 1 & 1991 & (1990-91) & MIL & CHA & 106 & 91 & 15 & $\\dots$ \\\\\n",
       "\t6 & 2 & 1 & 1991 & (1990-91) & MIN & DAL & 115 & 95 & 20 & $\\dots$ \\\\\n",
       "\t7 & 2 & 1 & 1991 & (1990-91) & PHO & CLE & 105 & 83 & 22 & $\\dots$ \\\\\n",
       "\t8 & 2 & 1 & 1991 & (1990-91) & SEA & PHI & 127 & 99 & 28 & $\\dots$ \\\\\n",
       "\t9 & 2 & 1 & 1991 & (1990-91) & UTA & MIA & 112 & 104 & 8 & $\\dots$ \\\\\n",
       "\t10 & 3 & 1 & 1991 & (1990-91) & HOU & CHI & 114 & 92 & 22 & $\\dots$ \\\\\n",
       "\t11 & 3 & 1 & 1991 & (1990-91) & LAL & POR & 108 & 104 & 4 & $\\dots$ \\\\\n",
       "\t12 & 3 & 1 & 1991 & (1990-91) & MIL & DAL & 97 & 87 & 10 & $\\dots$ \\\\\n",
       "\t13 & 3 & 1 & 1991 & (1990-91) & NYK & DEN & 135 & 108 & 27 & $\\dots$ \\\\\n",
       "\t14 & 3 & 1 & 1991 & (1990-91) & ORL & LAC & 110 & 108 & 2 & $\\dots$ \\\\\n",
       "\t15 & 3 & 1 & 1991 & (1990-91) & SAC & GSW & 131 & 113 & 18 & $\\dots$ \\\\\n",
       "\t16 & 3 & 1 & 1991 & (1990-91) & WAS & CHA & 118 & 108 & 10 & $\\dots$ \\\\\n",
       "\t17 & 4 & 1 & 1991 & (1990-91) & ATL & IND & 111 & 96 & 15 & $\\dots$ \\\\\n",
       "\t18 & 4 & 1 & 1991 & (1990-91) & BOS & PHO & 132 & 103 & 29 & $\\dots$ \\\\\n",
       "\t19 & 4 & 1 & 1991 & (1990-91) & DET & CLE & 98 & 94 & 4 & $\\dots$ \\\\\n",
       "\t20 & 4 & 1 & 1991 & (1990-91) & GSW & LAL & 115 & 99 & 16 & $\\dots$ \\\\\n",
       "\t21 & 4 & 1 & 1991 & (1990-91) & SAS & NJN & 93 & 89 & 4 & $\\dots$ \\\\\n",
       "\t22 & 4 & 1 & 1991 & (1990-91) & SEA & MIA & 112 & 86 & 26 & $\\dots$ \\\\\n",
       "\t23 & 4 & 1 & 1991 & (1990-91) & UTA & PHI & 102 & 99 & 3 & $\\dots$ \\\\\n",
       "\t24 & 4 & 1 & 1991 & (1990-91) & WAS & MIN & 111 & 100 & 11 & $\\dots$ \\\\\n",
       "\t25 & 5 & 1 & 1991 & (1990-91) & ATL & MIN & 117 & 112 & 5 & $\\dots$ \\\\\n",
       "\t26 & 5 & 1 & 1991 & (1990-91) & CHA & LAC & 111 & 103 & 8 & $\\dots$ \\\\\n",
       "\t27 & 5 & 1 & 1991 & (1990-91) & CHI & CLE & 108 & 92 & 16 & $\\dots$ \\\\\n",
       "\t28 & 5 & 1 & 1991 & (1990-91) & DET & NJN & 99 & 83 & 16 & $\\dots$ \\\\\n",
       "\t29 & 5 & 1 & 1991 & (1990-91) & HOU & IND & 112 & 99 & 13 & $\\dots$ \\\\\n",
       "\t30 & 5 & 1 & 1991 & (1990-91) & MIL & PHO & 88 & 86 & 2 & $\\dots$ \\\\\n",
       "\t$\\dots$ & $\\dots$ & $\\dots$ & $\\dots$ & $\\dots$ & $\\dots$ & $\\dots$ & $\\dots$ & $\\dots$ & $\\dots$ &  \\\\\n",
       "\\end{tabular}\n"
      ],
      "text/plain": [
       "34064×119 DataFrame. Omitted printing of 113 columns\n",
       "│ Row   │ D     │ M     │ Y     │ Season    │ teamWinAbr │ teamLoseAbr │\n",
       "│       │ \u001b[90mInt64\u001b[39m │ \u001b[90mInt64\u001b[39m │ \u001b[90mInt64\u001b[39m │ \u001b[90mString\u001b[39m    │ \u001b[90mString\u001b[39m     │ \u001b[90mString\u001b[39m      │\n",
       "├───────┼───────┼───────┼───────┼───────────┼────────────┼─────────────┤\n",
       "│ 1     │ 2     │ 1     │ 1991  │ (1990-91) │ ATL        │ LAC         │\n",
       "│ 2     │ 2     │ 1     │ 1991  │ (1990-91) │ BOS        │ NYK         │\n",
       "│ 3     │ 2     │ 1     │ 1991  │ (1990-91) │ DET        │ DEN         │\n",
       "│ 4     │ 2     │ 1     │ 1991  │ (1990-91) │ IND        │ SAS         │\n",
       "│ 5     │ 2     │ 1     │ 1991  │ (1990-91) │ MIL        │ CHA         │\n",
       "│ 6     │ 2     │ 1     │ 1991  │ (1990-91) │ MIN        │ DAL         │\n",
       "│ 7     │ 2     │ 1     │ 1991  │ (1990-91) │ PHO        │ CLE         │\n",
       "│ 8     │ 2     │ 1     │ 1991  │ (1990-91) │ SEA        │ PHI         │\n",
       "│ 9     │ 2     │ 1     │ 1991  │ (1990-91) │ UTA        │ MIA         │\n",
       "│ 10    │ 3     │ 1     │ 1991  │ (1990-91) │ HOU        │ CHI         │\n",
       "⋮\n",
       "│ 34054 │ 30    │ 12    │ 2019  │ (2019-20) │ MIL        │ CHI         │\n",
       "│ 34055 │ 30    │ 12    │ 2019  │ (2019-20) │ BRO        │ MIN         │\n",
       "│ 34056 │ 30    │ 12    │ 2019  │ (2019-20) │ DET        │ UTA         │\n",
       "│ 34057 │ 30    │ 12    │ 2019  │ (2019-20) │ PHO        │ POR         │\n",
       "│ 34058 │ 31    │ 12    │ 2019  │ (2019-20) │ BOS        │ CHA         │\n",
       "│ 34059 │ 31    │ 12    │ 2019  │ (2019-20) │ PHI        │ IND         │\n",
       "│ 34060 │ 31    │ 12    │ 2019  │ (2019-20) │ LAC        │ SAC         │\n",
       "│ 34061 │ 31    │ 12    │ 2019  │ (2019-20) │ DEN        │ HOU         │\n",
       "│ 34062 │ 31    │ 12    │ 2019  │ (2019-20) │ GSW        │ SAS         │\n",
       "│ 34063 │ 31    │ 12    │ 2019  │ (2019-20) │ CLE        │ TOR         │\n",
       "│ 34064 │ 31    │ 12    │ 2019  │ (2019-20) │ DAL        │ OCT         │"
      ]
     },
     "execution_count": 7,
     "metadata": {},
     "output_type": "execute_result"
    }
   ],
   "source": [
    "# Build joined dataframes\n",
    "results_fullTeamDF = join(results, fullTeamDF, on = [:Y => :nextYr, :teamWin => :Franchise], kind = :left, makeunique = true)\n",
    "results_fullTeamDF = join(results_fullTeamDF, fullTeamDF, on = [:Y => :nextYr, :teamWin => :Franchise], kind = :left, makeunique = true)\n",
    "deletecols!(results_fullTeamDF, [:League, :League_1, :League_2, :League_3, :Y_1, :Y_2,:Country, :City, :coachWin, :coachLose,:teamWin, :teamLose])\n",
    "results_fullTeamDF = dropmissing(results_fullTeamDF)"
   ]
  },
  {
   "cell_type": "markdown",
   "metadata": {},
   "source": [
    "## Step 4 - Build Models"
   ]
  },
  {
   "cell_type": "markdown",
   "metadata": {},
   "source": [
    "### Step 4.a - Logistic Model"
   ]
  },
  {
   "cell_type": "code",
   "execution_count": 8,
   "metadata": {},
   "outputs": [
    {
     "data": {
      "text/html": [
       "<table class=\"data-frame\"><thead><tr><th></th><th>winScore</th><th>loseScore</th><th>Margin</th><th>FGM</th><th>FGA</th><th>FG%</th><th>3FGM</th><th>3FGA</th><th>3FG%</th><th>FTM</th></tr><tr><th></th><th>Int64</th><th>Int64</th><th>Int64</th><th>Int64</th><th>Int64</th><th>Float64</th><th>Int64</th><th>Int64</th><th>Float64</th><th>Int64</th></tr></thead><tbody><p>34,064 rows × 109 columns (omitted printing of 99 columns)</p><tr><th>1</th><td>120</td><td>107</td><td>13</td><td>3349</td><td>7223</td><td>0.46</td><td>271</td><td>836</td><td>0.32</td><td>2034</td></tr><tr><th>2</th><td>113</td><td>86</td><td>27</td><td>3695</td><td>7214</td><td>0.51</td><td>109</td><td>346</td><td>0.32</td><td>1646</td></tr><tr><th>3</th><td>118</td><td>107</td><td>11</td><td>3194</td><td>6875</td><td>0.46</td><td>131</td><td>440</td><td>0.3</td><td>1686</td></tr><tr><th>4</th><td>121</td><td>109</td><td>12</td><td>3450</td><td>6994</td><td>0.49</td><td>249</td><td>749</td><td>0.33</td><td>2010</td></tr><tr><th>5</th><td>106</td><td>91</td><td>15</td><td>3337</td><td>6948</td><td>0.48</td><td>257</td><td>753</td><td>0.34</td><td>1796</td></tr><tr><th>6</th><td>115</td><td>95</td><td>20</td><td>3265</td><td>7276</td><td>0.45</td><td>108</td><td>381</td><td>0.28</td><td>1531</td></tr><tr><th>7</th><td>105</td><td>83</td><td>22</td><td>3573</td><td>7199</td><td>0.5</td><td>138</td><td>432</td><td>0.32</td><td>2064</td></tr><tr><th>8</th><td>127</td><td>99</td><td>28</td><td>3500</td><td>7117</td><td>0.49</td><td>136</td><td>427</td><td>0.32</td><td>1608</td></tr><tr><th>9</th><td>112</td><td>104</td><td>8</td><td>3214</td><td>6537</td><td>0.49</td><td>148</td><td>458</td><td>0.32</td><td>1951</td></tr><tr><th>10</th><td>114</td><td>92</td><td>22</td><td>3403</td><td>7287</td><td>0.47</td><td>316</td><td>989</td><td>0.32</td><td>1631</td></tr><tr><th>11</th><td>108</td><td>104</td><td>4</td><td>3343</td><td>6911</td><td>0.48</td><td>226</td><td>744</td><td>0.3</td><td>1805</td></tr><tr><th>12</th><td>97</td><td>87</td><td>10</td><td>3337</td><td>6948</td><td>0.48</td><td>257</td><td>753</td><td>0.34</td><td>1796</td></tr><tr><th>13</th><td>135</td><td>108</td><td>27</td><td>3308</td><td>6822</td><td>0.48</td><td>185</td><td>558</td><td>0.33</td><td>1654</td></tr><tr><th>14</th><td>110</td><td>108</td><td>2</td><td>3298</td><td>7256</td><td>0.45</td><td>270</td><td>754</td><td>0.36</td><td>1818</td></tr><tr><th>15</th><td>131</td><td>113</td><td>18</td><td>3086</td><td>6818</td><td>0.45</td><td>216</td><td>578</td><td>0.37</td><td>1540</td></tr><tr><th>16</th><td>118</td><td>108</td><td>10</td><td>3390</td><td>7268</td><td>0.47</td><td>55</td><td>284</td><td>0.19</td><td>1478</td></tr><tr><th>17</th><td>111</td><td>96</td><td>15</td><td>3349</td><td>7223</td><td>0.46</td><td>271</td><td>836</td><td>0.32</td><td>2034</td></tr><tr><th>18</th><td>132</td><td>103</td><td>29</td><td>3695</td><td>7214</td><td>0.51</td><td>109</td><td>346</td><td>0.32</td><td>1646</td></tr><tr><th>19</th><td>98</td><td>94</td><td>4</td><td>3194</td><td>6875</td><td>0.46</td><td>131</td><td>440</td><td>0.3</td><td>1686</td></tr><tr><th>20</th><td>115</td><td>99</td><td>16</td><td>3566</td><td>7346</td><td>0.49</td><td>270</td><td>801</td><td>0.34</td><td>2162</td></tr><tr><th>21</th><td>93</td><td>89</td><td>4</td><td>3409</td><td>6988</td><td>0.49</td><td>81</td><td>297</td><td>0.27</td><td>1883</td></tr><tr><th>22</th><td>112</td><td>86</td><td>26</td><td>3500</td><td>7117</td><td>0.49</td><td>136</td><td>427</td><td>0.32</td><td>1608</td></tr><tr><th>23</th><td>102</td><td>99</td><td>3</td><td>3214</td><td>6537</td><td>0.49</td><td>148</td><td>458</td><td>0.32</td><td>1951</td></tr><tr><th>24</th><td>111</td><td>100</td><td>11</td><td>3390</td><td>7268</td><td>0.47</td><td>55</td><td>284</td><td>0.19</td><td>1478</td></tr><tr><th>25</th><td>117</td><td>112</td><td>5</td><td>3349</td><td>7223</td><td>0.46</td><td>271</td><td>836</td><td>0.32</td><td>2034</td></tr><tr><th>26</th><td>111</td><td>103</td><td>8</td><td>3286</td><td>7033</td><td>0.47</td><td>131</td><td>417</td><td>0.31</td><td>1725</td></tr><tr><th>27</th><td>108</td><td>92</td><td>16</td><td>3632</td><td>7125</td><td>0.51</td><td>155</td><td>424</td><td>0.37</td><td>1605</td></tr><tr><th>28</th><td>99</td><td>83</td><td>16</td><td>3194</td><td>6875</td><td>0.46</td><td>131</td><td>440</td><td>0.3</td><td>1686</td></tr><tr><th>29</th><td>112</td><td>99</td><td>13</td><td>3403</td><td>7287</td><td>0.47</td><td>316</td><td>989</td><td>0.32</td><td>1631</td></tr><tr><th>30</th><td>88</td><td>86</td><td>2</td><td>3337</td><td>6948</td><td>0.48</td><td>257</td><td>753</td><td>0.34</td><td>1796</td></tr><tr><th>&vellip;</th><td>&vellip;</td><td>&vellip;</td><td>&vellip;</td><td>&vellip;</td><td>&vellip;</td><td>&vellip;</td><td>&vellip;</td><td>&vellip;</td><td>&vellip;</td><td>&vellip;</td></tr></tbody></table>"
      ],
      "text/latex": [
       "\\begin{tabular}{r|ccccccccccc}\n",
       "\t& winScore & loseScore & Margin & FGM & FGA & FG\\% & 3FGM & 3FGA & 3FG\\% & FTM & \\\\\n",
       "\t\\hline\n",
       "\t& Int64 & Int64 & Int64 & Int64 & Int64 & Float64 & Int64 & Int64 & Float64 & Int64 & \\\\\n",
       "\t\\hline\n",
       "\t1 & 120 & 107 & 13 & 3349 & 7223 & 0.46 & 271 & 836 & 0.32 & 2034 & $\\dots$ \\\\\n",
       "\t2 & 113 & 86 & 27 & 3695 & 7214 & 0.51 & 109 & 346 & 0.32 & 1646 & $\\dots$ \\\\\n",
       "\t3 & 118 & 107 & 11 & 3194 & 6875 & 0.46 & 131 & 440 & 0.3 & 1686 & $\\dots$ \\\\\n",
       "\t4 & 121 & 109 & 12 & 3450 & 6994 & 0.49 & 249 & 749 & 0.33 & 2010 & $\\dots$ \\\\\n",
       "\t5 & 106 & 91 & 15 & 3337 & 6948 & 0.48 & 257 & 753 & 0.34 & 1796 & $\\dots$ \\\\\n",
       "\t6 & 115 & 95 & 20 & 3265 & 7276 & 0.45 & 108 & 381 & 0.28 & 1531 & $\\dots$ \\\\\n",
       "\t7 & 105 & 83 & 22 & 3573 & 7199 & 0.5 & 138 & 432 & 0.32 & 2064 & $\\dots$ \\\\\n",
       "\t8 & 127 & 99 & 28 & 3500 & 7117 & 0.49 & 136 & 427 & 0.32 & 1608 & $\\dots$ \\\\\n",
       "\t9 & 112 & 104 & 8 & 3214 & 6537 & 0.49 & 148 & 458 & 0.32 & 1951 & $\\dots$ \\\\\n",
       "\t10 & 114 & 92 & 22 & 3403 & 7287 & 0.47 & 316 & 989 & 0.32 & 1631 & $\\dots$ \\\\\n",
       "\t11 & 108 & 104 & 4 & 3343 & 6911 & 0.48 & 226 & 744 & 0.3 & 1805 & $\\dots$ \\\\\n",
       "\t12 & 97 & 87 & 10 & 3337 & 6948 & 0.48 & 257 & 753 & 0.34 & 1796 & $\\dots$ \\\\\n",
       "\t13 & 135 & 108 & 27 & 3308 & 6822 & 0.48 & 185 & 558 & 0.33 & 1654 & $\\dots$ \\\\\n",
       "\t14 & 110 & 108 & 2 & 3298 & 7256 & 0.45 & 270 & 754 & 0.36 & 1818 & $\\dots$ \\\\\n",
       "\t15 & 131 & 113 & 18 & 3086 & 6818 & 0.45 & 216 & 578 & 0.37 & 1540 & $\\dots$ \\\\\n",
       "\t16 & 118 & 108 & 10 & 3390 & 7268 & 0.47 & 55 & 284 & 0.19 & 1478 & $\\dots$ \\\\\n",
       "\t17 & 111 & 96 & 15 & 3349 & 7223 & 0.46 & 271 & 836 & 0.32 & 2034 & $\\dots$ \\\\\n",
       "\t18 & 132 & 103 & 29 & 3695 & 7214 & 0.51 & 109 & 346 & 0.32 & 1646 & $\\dots$ \\\\\n",
       "\t19 & 98 & 94 & 4 & 3194 & 6875 & 0.46 & 131 & 440 & 0.3 & 1686 & $\\dots$ \\\\\n",
       "\t20 & 115 & 99 & 16 & 3566 & 7346 & 0.49 & 270 & 801 & 0.34 & 2162 & $\\dots$ \\\\\n",
       "\t21 & 93 & 89 & 4 & 3409 & 6988 & 0.49 & 81 & 297 & 0.27 & 1883 & $\\dots$ \\\\\n",
       "\t22 & 112 & 86 & 26 & 3500 & 7117 & 0.49 & 136 & 427 & 0.32 & 1608 & $\\dots$ \\\\\n",
       "\t23 & 102 & 99 & 3 & 3214 & 6537 & 0.49 & 148 & 458 & 0.32 & 1951 & $\\dots$ \\\\\n",
       "\t24 & 111 & 100 & 11 & 3390 & 7268 & 0.47 & 55 & 284 & 0.19 & 1478 & $\\dots$ \\\\\n",
       "\t25 & 117 & 112 & 5 & 3349 & 7223 & 0.46 & 271 & 836 & 0.32 & 2034 & $\\dots$ \\\\\n",
       "\t26 & 111 & 103 & 8 & 3286 & 7033 & 0.47 & 131 & 417 & 0.31 & 1725 & $\\dots$ \\\\\n",
       "\t27 & 108 & 92 & 16 & 3632 & 7125 & 0.51 & 155 & 424 & 0.37 & 1605 & $\\dots$ \\\\\n",
       "\t28 & 99 & 83 & 16 & 3194 & 6875 & 0.46 & 131 & 440 & 0.3 & 1686 & $\\dots$ \\\\\n",
       "\t29 & 112 & 99 & 13 & 3403 & 7287 & 0.47 & 316 & 989 & 0.32 & 1631 & $\\dots$ \\\\\n",
       "\t30 & 88 & 86 & 2 & 3337 & 6948 & 0.48 & 257 & 753 & 0.34 & 1796 & $\\dots$ \\\\\n",
       "\t$\\dots$ & $\\dots$ & $\\dots$ & $\\dots$ & $\\dots$ & $\\dots$ & $\\dots$ & $\\dots$ & $\\dots$ & $\\dots$ & $\\dots$ &  \\\\\n",
       "\\end{tabular}\n"
      ],
      "text/plain": [
       "34064×109 DataFrame. Omitted printing of 102 columns\n",
       "│ Row   │ winScore │ loseScore │ Margin │ FGM   │ FGA   │ FG%     │ 3FGM  │\n",
       "│       │ \u001b[90mInt64\u001b[39m    │ \u001b[90mInt64\u001b[39m     │ \u001b[90mInt64\u001b[39m  │ \u001b[90mInt64\u001b[39m │ \u001b[90mInt64\u001b[39m │ \u001b[90mFloat64\u001b[39m │ \u001b[90mInt64\u001b[39m │\n",
       "├───────┼──────────┼───────────┼────────┼───────┼───────┼─────────┼───────┤\n",
       "│ 1     │ 120      │ 107       │ 13     │ 3349  │ 7223  │ 0.46    │ 271   │\n",
       "│ 2     │ 113      │ 86        │ 27     │ 3695  │ 7214  │ 0.51    │ 109   │\n",
       "│ 3     │ 118      │ 107       │ 11     │ 3194  │ 6875  │ 0.46    │ 131   │\n",
       "│ 4     │ 121      │ 109       │ 12     │ 3450  │ 6994  │ 0.49    │ 249   │\n",
       "│ 5     │ 106      │ 91        │ 15     │ 3337  │ 6948  │ 0.48    │ 257   │\n",
       "│ 6     │ 115      │ 95        │ 20     │ 3265  │ 7276  │ 0.45    │ 108   │\n",
       "│ 7     │ 105      │ 83        │ 22     │ 3573  │ 7199  │ 0.5     │ 138   │\n",
       "│ 8     │ 127      │ 99        │ 28     │ 3500  │ 7117  │ 0.49    │ 136   │\n",
       "│ 9     │ 112      │ 104       │ 8      │ 3214  │ 6537  │ 0.49    │ 148   │\n",
       "│ 10    │ 114      │ 92        │ 22     │ 3403  │ 7287  │ 0.47    │ 316   │\n",
       "⋮\n",
       "│ 34054 │ 123      │ 102       │ 21     │ 3555  │ 7471  │ 0.48    │ 1105  │\n",
       "│ 34055 │ 115      │ 122       │ -7     │ 3301  │ 7358  │ 0.45    │ 1047  │\n",
       "│ 34056 │ 81       │ 104       │ -23    │ 3185  │ 7238  │ 0.44    │ 993   │\n",
       "│ 34057 │ 122      │ 116       │ 6      │ 3289  │ 7164  │ 0.46    │ 790   │\n",
       "│ 34058 │ 109      │ 92        │ 17     │ 3451  │ 7423  │ 0.46    │ 1032  │\n",
       "│ 34059 │ 97       │ 115       │ -18    │ 3407  │ 7233  │ 0.47    │ 889   │\n",
       "│ 34060 │ 105      │ 87        │ 18     │ 3384  │ 7178  │ 0.47    │ 821   │\n",
       "│ 34061 │ 104      │ 130       │ -26    │ 3439  │ 7384  │ 0.47    │ 903   │\n",
       "│ 34062 │ 113      │ 117       │ -4     │ 3612  │ 7361  │ 0.49    │ 1087  │\n",
       "│ 34063 │ 97       │ 117       │ -20    │ 3189  │ 7184  │ 0.44    │ 847   │\n",
       "│ 34064 │ 101      │ 106       │ -5     │ 3182  │ 7122  │ 0.45    │ 1022  │"
      ]
     },
     "execution_count": 8,
     "metadata": {},
     "output_type": "execute_result"
    }
   ],
   "source": [
    "# remove unnecessary variables: D  M  Y  etc\n",
    "logModDF = deletecols!(results_fullTeamDF, [:D, :M, :Y, :G, :G_1, :Season, :teamWinAbr, :teamLoseAbr, :Team, :Team_1])"
   ]
  },
  {
   "cell_type": "code",
   "execution_count": 9,
   "metadata": {},
   "outputs": [
    {
     "data": {
      "text/html": [
       "<table class=\"data-frame\"><thead><tr><th></th><th>winScore</th><th>loseScore</th><th>Margin</th><th>FGM</th><th>FGA</th><th>FG%</th><th>3FGM</th><th>3FGA</th><th>3FG%</th><th>FTM</th></tr><tr><th></th><th>Int64</th><th>Int64</th><th>Int64</th><th>Int64</th><th>Int64</th><th>Float64</th><th>Int64</th><th>Int64</th><th>Float64</th><th>Int64</th></tr></thead><tbody><p>8,363 rows × 109 columns (omitted printing of 99 columns)</p><tr><th>1</th><td>118</td><td>107</td><td>11</td><td>3194</td><td>6875</td><td>0.46</td><td>131</td><td>440</td><td>0.3</td><td>1686</td></tr><tr><th>2</th><td>115</td><td>95</td><td>20</td><td>3265</td><td>7276</td><td>0.45</td><td>108</td><td>381</td><td>0.28</td><td>1531</td></tr><tr><th>3</th><td>135</td><td>108</td><td>27</td><td>3308</td><td>6822</td><td>0.48</td><td>185</td><td>558</td><td>0.33</td><td>1654</td></tr><tr><th>4</th><td>110</td><td>108</td><td>2</td><td>3298</td><td>7256</td><td>0.45</td><td>270</td><td>754</td><td>0.36</td><td>1818</td></tr><tr><th>5</th><td>93</td><td>89</td><td>4</td><td>3409</td><td>6988</td><td>0.49</td><td>81</td><td>297</td><td>0.27</td><td>1883</td></tr><tr><th>6</th><td>117</td><td>112</td><td>5</td><td>3349</td><td>7223</td><td>0.46</td><td>271</td><td>836</td><td>0.32</td><td>2034</td></tr><tr><th>7</th><td>99</td><td>83</td><td>16</td><td>3194</td><td>6875</td><td>0.46</td><td>131</td><td>440</td><td>0.3</td><td>1686</td></tr><tr><th>8</th><td>88</td><td>86</td><td>2</td><td>3337</td><td>6948</td><td>0.48</td><td>257</td><td>753</td><td>0.34</td><td>1796</td></tr><tr><th>9</th><td>107</td><td>90</td><td>17</td><td>3409</td><td>6988</td><td>0.49</td><td>81</td><td>297</td><td>0.27</td><td>1883</td></tr><tr><th>10</th><td>114</td><td>111</td><td>3</td><td>3577</td><td>7369</td><td>0.49</td><td>341</td><td>904</td><td>0.38</td><td>1912</td></tr><tr><th>11</th><td>88</td><td>87</td><td>1</td><td>3245</td><td>6890</td><td>0.47</td><td>193</td><td>600</td><td>0.32</td><td>1512</td></tr><tr><th>12</th><td>119</td><td>106</td><td>13</td><td>3573</td><td>7199</td><td>0.5</td><td>138</td><td>432</td><td>0.32</td><td>2064</td></tr><tr><th>13</th><td>111</td><td>102</td><td>9</td><td>3632</td><td>7125</td><td>0.51</td><td>155</td><td>424</td><td>0.37</td><td>1605</td></tr><tr><th>14</th><td>123</td><td>97</td><td>26</td><td>3577</td><td>7369</td><td>0.49</td><td>341</td><td>904</td><td>0.38</td><td>1912</td></tr><tr><th>15</th><td>110</td><td>88</td><td>22</td><td>3214</td><td>6537</td><td>0.49</td><td>148</td><td>458</td><td>0.32</td><td>1951</td></tr><tr><th>16</th><td>108</td><td>85</td><td>23</td><td>3343</td><td>6911</td><td>0.48</td><td>226</td><td>744</td><td>0.3</td><td>1805</td></tr><tr><th>17</th><td>105</td><td>93</td><td>12</td><td>3343</td><td>6911</td><td>0.48</td><td>226</td><td>744</td><td>0.3</td><td>1805</td></tr><tr><th>18</th><td>106</td><td>95</td><td>11</td><td>3632</td><td>7125</td><td>0.51</td><td>155</td><td>424</td><td>0.37</td><td>1605</td></tr><tr><th>19</th><td>118</td><td>110</td><td>8</td><td>3450</td><td>6994</td><td>0.49</td><td>249</td><td>749</td><td>0.33</td><td>2010</td></tr><tr><th>20</th><td>99</td><td>92</td><td>7</td><td>3308</td><td>6822</td><td>0.48</td><td>185</td><td>558</td><td>0.33</td><td>1654</td></tr><tr><th>21</th><td>127</td><td>118</td><td>9</td><td>3573</td><td>7199</td><td>0.5</td><td>138</td><td>432</td><td>0.32</td><td>2064</td></tr><tr><th>22</th><td>96</td><td>82</td><td>14</td><td>3349</td><td>7223</td><td>0.46</td><td>271</td><td>836</td><td>0.32</td><td>2034</td></tr><tr><th>23</th><td>112</td><td>111</td><td>1</td><td>3566</td><td>7346</td><td>0.49</td><td>270</td><td>801</td><td>0.34</td><td>2162</td></tr><tr><th>24</th><td>104</td><td>102</td><td>2</td><td>3280</td><td>7139</td><td>0.46</td><td>140</td><td>464</td><td>0.3</td><td>1649</td></tr><tr><th>25</th><td>99</td><td>88</td><td>11</td><td>3632</td><td>7125</td><td>0.51</td><td>155</td><td>424</td><td>0.37</td><td>1605</td></tr><tr><th>26</th><td>111</td><td>104</td><td>7</td><td>3901</td><td>8868</td><td>0.44</td><td>300</td><td>1059</td><td>0.28</td><td>1726</td></tr><tr><th>27</th><td>93</td><td>78</td><td>15</td><td>3343</td><td>6911</td><td>0.48</td><td>226</td><td>744</td><td>0.3</td><td>1805</td></tr><tr><th>28</th><td>103</td><td>102</td><td>1</td><td>3573</td><td>7199</td><td>0.5</td><td>138</td><td>432</td><td>0.32</td><td>2064</td></tr><tr><th>29</th><td>106</td><td>99</td><td>7</td><td>3214</td><td>6537</td><td>0.49</td><td>148</td><td>458</td><td>0.32</td><td>1951</td></tr><tr><th>30</th><td>115</td><td>110</td><td>5</td><td>3901</td><td>8868</td><td>0.44</td><td>300</td><td>1059</td><td>0.28</td><td>1726</td></tr><tr><th>&vellip;</th><td>&vellip;</td><td>&vellip;</td><td>&vellip;</td><td>&vellip;</td><td>&vellip;</td><td>&vellip;</td><td>&vellip;</td><td>&vellip;</td><td>&vellip;</td><td>&vellip;</td></tr></tbody></table>"
      ],
      "text/latex": [
       "\\begin{tabular}{r|ccccccccccc}\n",
       "\t& winScore & loseScore & Margin & FGM & FGA & FG\\% & 3FGM & 3FGA & 3FG\\% & FTM & \\\\\n",
       "\t\\hline\n",
       "\t& Int64 & Int64 & Int64 & Int64 & Int64 & Float64 & Int64 & Int64 & Float64 & Int64 & \\\\\n",
       "\t\\hline\n",
       "\t1 & 118 & 107 & 11 & 3194 & 6875 & 0.46 & 131 & 440 & 0.3 & 1686 & $\\dots$ \\\\\n",
       "\t2 & 115 & 95 & 20 & 3265 & 7276 & 0.45 & 108 & 381 & 0.28 & 1531 & $\\dots$ \\\\\n",
       "\t3 & 135 & 108 & 27 & 3308 & 6822 & 0.48 & 185 & 558 & 0.33 & 1654 & $\\dots$ \\\\\n",
       "\t4 & 110 & 108 & 2 & 3298 & 7256 & 0.45 & 270 & 754 & 0.36 & 1818 & $\\dots$ \\\\\n",
       "\t5 & 93 & 89 & 4 & 3409 & 6988 & 0.49 & 81 & 297 & 0.27 & 1883 & $\\dots$ \\\\\n",
       "\t6 & 117 & 112 & 5 & 3349 & 7223 & 0.46 & 271 & 836 & 0.32 & 2034 & $\\dots$ \\\\\n",
       "\t7 & 99 & 83 & 16 & 3194 & 6875 & 0.46 & 131 & 440 & 0.3 & 1686 & $\\dots$ \\\\\n",
       "\t8 & 88 & 86 & 2 & 3337 & 6948 & 0.48 & 257 & 753 & 0.34 & 1796 & $\\dots$ \\\\\n",
       "\t9 & 107 & 90 & 17 & 3409 & 6988 & 0.49 & 81 & 297 & 0.27 & 1883 & $\\dots$ \\\\\n",
       "\t10 & 114 & 111 & 3 & 3577 & 7369 & 0.49 & 341 & 904 & 0.38 & 1912 & $\\dots$ \\\\\n",
       "\t11 & 88 & 87 & 1 & 3245 & 6890 & 0.47 & 193 & 600 & 0.32 & 1512 & $\\dots$ \\\\\n",
       "\t12 & 119 & 106 & 13 & 3573 & 7199 & 0.5 & 138 & 432 & 0.32 & 2064 & $\\dots$ \\\\\n",
       "\t13 & 111 & 102 & 9 & 3632 & 7125 & 0.51 & 155 & 424 & 0.37 & 1605 & $\\dots$ \\\\\n",
       "\t14 & 123 & 97 & 26 & 3577 & 7369 & 0.49 & 341 & 904 & 0.38 & 1912 & $\\dots$ \\\\\n",
       "\t15 & 110 & 88 & 22 & 3214 & 6537 & 0.49 & 148 & 458 & 0.32 & 1951 & $\\dots$ \\\\\n",
       "\t16 & 108 & 85 & 23 & 3343 & 6911 & 0.48 & 226 & 744 & 0.3 & 1805 & $\\dots$ \\\\\n",
       "\t17 & 105 & 93 & 12 & 3343 & 6911 & 0.48 & 226 & 744 & 0.3 & 1805 & $\\dots$ \\\\\n",
       "\t18 & 106 & 95 & 11 & 3632 & 7125 & 0.51 & 155 & 424 & 0.37 & 1605 & $\\dots$ \\\\\n",
       "\t19 & 118 & 110 & 8 & 3450 & 6994 & 0.49 & 249 & 749 & 0.33 & 2010 & $\\dots$ \\\\\n",
       "\t20 & 99 & 92 & 7 & 3308 & 6822 & 0.48 & 185 & 558 & 0.33 & 1654 & $\\dots$ \\\\\n",
       "\t21 & 127 & 118 & 9 & 3573 & 7199 & 0.5 & 138 & 432 & 0.32 & 2064 & $\\dots$ \\\\\n",
       "\t22 & 96 & 82 & 14 & 3349 & 7223 & 0.46 & 271 & 836 & 0.32 & 2034 & $\\dots$ \\\\\n",
       "\t23 & 112 & 111 & 1 & 3566 & 7346 & 0.49 & 270 & 801 & 0.34 & 2162 & $\\dots$ \\\\\n",
       "\t24 & 104 & 102 & 2 & 3280 & 7139 & 0.46 & 140 & 464 & 0.3 & 1649 & $\\dots$ \\\\\n",
       "\t25 & 99 & 88 & 11 & 3632 & 7125 & 0.51 & 155 & 424 & 0.37 & 1605 & $\\dots$ \\\\\n",
       "\t26 & 111 & 104 & 7 & 3901 & 8868 & 0.44 & 300 & 1059 & 0.28 & 1726 & $\\dots$ \\\\\n",
       "\t27 & 93 & 78 & 15 & 3343 & 6911 & 0.48 & 226 & 744 & 0.3 & 1805 & $\\dots$ \\\\\n",
       "\t28 & 103 & 102 & 1 & 3573 & 7199 & 0.5 & 138 & 432 & 0.32 & 2064 & $\\dots$ \\\\\n",
       "\t29 & 106 & 99 & 7 & 3214 & 6537 & 0.49 & 148 & 458 & 0.32 & 1951 & $\\dots$ \\\\\n",
       "\t30 & 115 & 110 & 5 & 3901 & 8868 & 0.44 & 300 & 1059 & 0.28 & 1726 & $\\dots$ \\\\\n",
       "\t$\\dots$ & $\\dots$ & $\\dots$ & $\\dots$ & $\\dots$ & $\\dots$ & $\\dots$ & $\\dots$ & $\\dots$ & $\\dots$ & $\\dots$ &  \\\\\n",
       "\\end{tabular}\n"
      ],
      "text/plain": [
       "8363×109 DataFrame. Omitted printing of 102 columns\n",
       "│ Row  │ winScore │ loseScore │ Margin │ FGM   │ FGA   │ FG%     │ 3FGM  │\n",
       "│      │ \u001b[90mInt64\u001b[39m    │ \u001b[90mInt64\u001b[39m     │ \u001b[90mInt64\u001b[39m  │ \u001b[90mInt64\u001b[39m │ \u001b[90mInt64\u001b[39m │ \u001b[90mFloat64\u001b[39m │ \u001b[90mInt64\u001b[39m │\n",
       "├──────┼──────────┼───────────┼────────┼───────┼───────┼─────────┼───────┤\n",
       "│ 1    │ 118      │ 107       │ 11     │ 3194  │ 6875  │ 0.46    │ 131   │\n",
       "│ 2    │ 115      │ 95        │ 20     │ 3265  │ 7276  │ 0.45    │ 108   │\n",
       "│ 3    │ 135      │ 108       │ 27     │ 3308  │ 6822  │ 0.48    │ 185   │\n",
       "│ 4    │ 110      │ 108       │ 2      │ 3298  │ 7256  │ 0.45    │ 270   │\n",
       "│ 5    │ 93       │ 89        │ 4      │ 3409  │ 6988  │ 0.49    │ 81    │\n",
       "│ 6    │ 117      │ 112       │ 5      │ 3349  │ 7223  │ 0.46    │ 271   │\n",
       "│ 7    │ 99       │ 83        │ 16     │ 3194  │ 6875  │ 0.46    │ 131   │\n",
       "│ 8    │ 88       │ 86        │ 2      │ 3337  │ 6948  │ 0.48    │ 257   │\n",
       "│ 9    │ 107      │ 90        │ 17     │ 3409  │ 6988  │ 0.49    │ 81    │\n",
       "│ 10   │ 114      │ 111       │ 3      │ 3577  │ 7369  │ 0.49    │ 341   │\n",
       "⋮\n",
       "│ 8353 │ 112      │ 113       │ -1     │ 3390  │ 7135  │ 0.48    │ 779   │\n",
       "│ 8354 │ 110      │ 119       │ -9     │ 3113  │ 6924  │ 0.45    │ 811   │\n",
       "│ 8355 │ 98       │ 108       │ -10    │ 3301  │ 7358  │ 0.45    │ 1047  │\n",
       "│ 8356 │ 141      │ 121       │ 20     │ 3182  │ 7122  │ 0.45    │ 1022  │\n",
       "│ 8357 │ 112      │ 110       │ 2      │ 3289  │ 7164  │ 0.46    │ 790   │\n",
       "│ 8358 │ 128      │ 120       │ 8      │ 3491  │ 7426  │ 0.47    │ 847   │\n",
       "│ 8359 │ 98       │ 97        │ 1      │ 3497  │ 7706  │ 0.45    │ 932   │\n",
       "│ 8360 │ 104      │ 117       │ -13    │ 3297  │ 7362  │ 0.45    │ 977   │\n",
       "│ 8361 │ 95       │ 108       │ -13    │ 3182  │ 7122  │ 0.45    │ 1022  │\n",
       "│ 8362 │ 109      │ 92        │ 17     │ 3451  │ 7423  │ 0.46    │ 1032  │\n",
       "│ 8363 │ 113      │ 117       │ -4     │ 3612  │ 7361  │ 0.49    │ 1087  │"
      ]
     },
     "execution_count": 9,
     "metadata": {},
     "output_type": "execute_result"
    }
   ],
   "source": [
    "# Train-test-split\n",
    "using Random\n",
    "sample = randsubseq(1:size(logModDF,1), 0.75)\n",
    "train = logModDF[sample, :]\n",
    "notsample = [i for i in 1:size(logModDF, 1) if isempty(searchsorted(sample,i))]\n",
    "test = logModDF[notsample, :]"
   ]
  },
  {
   "cell_type": "code",
   "execution_count": 10,
   "metadata": {},
   "outputs": [
    {
     "data": {
      "text/plain": [
       "25701×109 Array{Float64,2}:\n",
       " 120.0  107.0   13.0  3349.0  7223.0  0.46  …  373.0  1207.0  1763.0  8996.0\n",
       " 113.0   86.0   27.0  3695.0  7214.0  0.51     534.0  1275.0  1633.0  9043.0\n",
       " 121.0  109.0   12.0  3450.0  6994.0  0.49     246.0  1241.0  1838.0  8323.0\n",
       " 106.0   91.0   15.0  3337.0  6948.0  0.48     304.0  1100.0  1824.0  7093.0\n",
       " 105.0   83.0   22.0  3573.0  7199.0  0.5      316.0   976.0  1290.0  7333.0\n",
       " 127.0   99.0   28.0  3500.0  7117.0  0.49  …  286.0   962.0  1454.0  5409.0\n",
       " 112.0  104.0    8.0  3214.0  6537.0  0.49     236.0  1065.0  1262.0  7601.0\n",
       " 114.0   92.0   22.0  3403.0  7287.0  0.47     383.0  1258.0  1598.0  8432.0\n",
       " 108.0  104.0    4.0  3343.0  6911.0  0.48     345.0  1122.0  1421.0  8522.0\n",
       "  97.0   87.0   10.0  3337.0  6948.0  0.48     304.0  1100.0  1824.0  7093.0\n",
       " 131.0  113.0   18.0  3086.0  6818.0  0.45  …  334.0  1029.0  1653.0  6857.0\n",
       " 118.0  108.0   10.0  3390.0  7268.0  0.47     344.0  1267.0  1699.0  8060.0\n",
       " 111.0   96.0   15.0  3349.0  7223.0  0.46     373.0  1207.0  1763.0  8996.0\n",
       "   ⋮                                  ⋮     ⋱    ⋮                    \n",
       " 112.0  127.0  -15.0  3218.0  7163.0  0.45     240.0   822.0  1214.0  6957.0\n",
       " 101.0   93.0    8.0  3392.0  7524.0  0.45  …  407.0  1243.0  1788.0  8539.0\n",
       " 105.0  123.0  -18.0  3251.0  7218.0  0.45     424.0  1076.0  1598.0  7974.0\n",
       " 123.0  102.0   21.0  3555.0  7471.0  0.48     447.0   997.0  1425.0  8881.0\n",
       " 115.0  122.0   -7.0  3301.0  7358.0  0.45     335.0  1175.0  1752.0  9128.0\n",
       "  81.0  104.0  -23.0  3185.0  7238.0  0.44     277.0   901.0  1536.0  7373.0\n",
       " 122.0  116.0    6.0  3289.0  7164.0  0.46  …  276.0  1001.0  1433.0  6874.0\n",
       "  97.0  115.0  -18.0  3407.0  7233.0  0.47     286.0   837.0  1013.0  5958.0\n",
       " 105.0   87.0   18.0  3384.0  7178.0  0.47     254.0   746.0  1136.0  6252.0\n",
       " 104.0  130.0  -26.0  3439.0  7384.0  0.47     362.0  1052.0  1640.0  9066.0\n",
       "  97.0  117.0  -20.0  3189.0  7184.0  0.44     114.0   651.0   968.0  5491.0\n",
       " 101.0  106.0   -5.0  3182.0  7122.0  0.45  …  258.0   719.0  1151.0  5665.0"
      ]
     },
     "execution_count": 10,
     "metadata": {},
     "output_type": "execute_result"
    }
   ],
   "source": [
    "# Train Model\n",
    "X_train = train\n",
    "Y_train = train[:Margin]\n",
    "deletecols(X_train, [:winScore, :loseScore, :Margin])\n",
    "X_train=convert(Matrix, X_train)"
   ]
  },
  {
   "cell_type": "code",
   "execution_count": 11,
   "metadata": {},
   "outputs": [
    {
     "data": {
      "text/plain": [
       "PyObject LogisticRegression()"
      ]
     },
     "execution_count": 11,
     "metadata": {},
     "output_type": "execute_result"
    }
   ],
   "source": [
    "using ScikitLearn\n",
    "@sk_import linear_model: LogisticRegression\n",
    "model = LogisticRegression(fit_intercept=true) "
   ]
  },
  {
   "cell_type": "code",
   "execution_count": 12,
   "metadata": {},
   "outputs": [
    {
     "data": {
      "text/plain": [
       "PyObject LogisticRegression()"
      ]
     },
     "execution_count": 12,
     "metadata": {},
     "output_type": "execute_result"
    }
   ],
   "source": [
    "using ScikitLearn: fit!\n",
    "fit!(model, X_train, Y_train)"
   ]
  },
  {
   "cell_type": "code",
   "execution_count": 13,
   "metadata": {},
   "outputs": [
    {
     "name": "stdout",
     "output_type": "stream",
     "text": [
      "accuracy: 0.0697249134274931\n"
     ]
    }
   ],
   "source": [
    "using ScikitLearn: predict\n",
    "accuracy = sum(predict(model, X_train) .== Y_train) / length(Y_train)\n",
    "println(\"accuracy: $accuracy\") # 7% Accurate testing for the margin"
   ]
  },
  {
   "cell_type": "code",
   "execution_count": 14,
   "metadata": {},
   "outputs": [
    {
     "name": "stdout",
     "output_type": "stream",
     "text": [
      "accuracy: 0.0\n"
     ]
    }
   ],
   "source": [
    "# Test the model\n",
    "X_test = test\n",
    "Y_test = test[:Margin]\n",
    "deletecols(X_test, [:winScore, :loseScore, :Margin])\n",
    "X_test=convert(Matrix, X_test)\n",
    "Y_test = test[:winScore]\n",
    "accuracy = sum(predict(model, X_test) .== Y_test) / length(Y_test)\n",
    "println(\"accuracy: $accuracy\") # Eek...0% Accurate"
   ]
  },
  {
   "cell_type": "code",
   "execution_count": 15,
   "metadata": {},
   "outputs": [
    {
     "name": "stderr",
     "output_type": "stream",
     "text": [
      "┌ Warning: The least populated class in y has only 1 members, which is too few. The minimum number of labels for any class cannot be less than n_folds=5.\n",
      "└ @ ScikitLearn.Skcore /Users/tjsmith99/.julia/packages/ScikitLearn/NJwUf/src/cross_validation.jl:144\n"
     ]
    },
    {
     "data": {
      "text/plain": [
       "5-element Array{Float64,1}:\n",
       " 0.03456826137689615\n",
       " 0.03278688524590164\n",
       " 0.0358191426893717\n",
       " 0.029745251067589455\n",
       " 0.0344012992765392"
      ]
     },
     "execution_count": 15,
     "metadata": {},
     "output_type": "execute_result"
    }
   ],
   "source": [
    "# Cross-validation\n",
    "using ScikitLearn.CrossValidation: cross_val_score\n",
    "X = logModDF\n",
    "deletecols(X, [:winScore, :loseScore, :Margin])\n",
    "X=convert(Matrix, X)\n",
    "y = logModDF[:winScore]\n",
    "cross_val_score(LogisticRegression(max_iter=130), X, y; cv=5)"
   ]
  },
  {
   "cell_type": "markdown",
   "metadata": {},
   "source": [
    "#### Logistic Regression results and notes\n",
    "\n",
    "* Best Cross Validation score --> ~3% \n",
    "* Tried to one-hot encode the categorical variables, but wouldn't work\n",
    "* Better output variable to look at --> TeamWinAbr\n",
    "* The data's too complex for a linear model. Additionally, the categorical variables have value to the results. The next model to attempt will be the Random Forest model"
   ]
  },
  {
   "cell_type": "markdown",
   "metadata": {},
   "source": [
    "### Step 4.b - Decision Tree Model"
   ]
  },
  {
   "cell_type": "code",
   "execution_count": 16,
   "metadata": {},
   "outputs": [
    {
     "data": {
      "text/html": [
       "<table class=\"data-frame\"><thead><tr><th></th><th>Season</th><th>teamWinAbr</th><th>winScore</th><th>loseScore</th><th>Margin</th><th>Team</th><th>FGM</th><th>FGA</th><th>FG%</th></tr><tr><th></th><th>String</th><th>String</th><th>Int64</th><th>Int64</th><th>Int64</th><th>String</th><th>Int64</th><th>Int64</th><th>Float64</th></tr></thead><tbody><p>34,064 rows × 114 columns (omitted printing of 105 columns)</p><tr><th>1</th><td>(1990-91)</td><td>ATL</td><td>120</td><td>107</td><td>13</td><td>ATL</td><td>3349</td><td>7223</td><td>0.46</td></tr><tr><th>2</th><td>(1990-91)</td><td>BOS</td><td>113</td><td>86</td><td>27</td><td>BOS</td><td>3695</td><td>7214</td><td>0.51</td></tr><tr><th>3</th><td>(1990-91)</td><td>DET</td><td>118</td><td>107</td><td>11</td><td>DET</td><td>3194</td><td>6875</td><td>0.46</td></tr><tr><th>4</th><td>(1990-91)</td><td>IND</td><td>121</td><td>109</td><td>12</td><td>IND</td><td>3450</td><td>6994</td><td>0.49</td></tr><tr><th>5</th><td>(1990-91)</td><td>MIL</td><td>106</td><td>91</td><td>15</td><td>MIL</td><td>3337</td><td>6948</td><td>0.48</td></tr><tr><th>6</th><td>(1990-91)</td><td>MIN</td><td>115</td><td>95</td><td>20</td><td>MIN</td><td>3265</td><td>7276</td><td>0.45</td></tr><tr><th>7</th><td>(1990-91)</td><td>PHO</td><td>105</td><td>83</td><td>22</td><td>PHO</td><td>3573</td><td>7199</td><td>0.5</td></tr><tr><th>8</th><td>(1990-91)</td><td>SEA</td><td>127</td><td>99</td><td>28</td><td>SEA</td><td>3500</td><td>7117</td><td>0.49</td></tr><tr><th>9</th><td>(1990-91)</td><td>UTA</td><td>112</td><td>104</td><td>8</td><td>UTA</td><td>3214</td><td>6537</td><td>0.49</td></tr><tr><th>10</th><td>(1990-91)</td><td>HOU</td><td>114</td><td>92</td><td>22</td><td>HOU</td><td>3403</td><td>7287</td><td>0.47</td></tr><tr><th>11</th><td>(1990-91)</td><td>LAL</td><td>108</td><td>104</td><td>4</td><td>LAL</td><td>3343</td><td>6911</td><td>0.48</td></tr><tr><th>12</th><td>(1990-91)</td><td>MIL</td><td>97</td><td>87</td><td>10</td><td>MIL</td><td>3337</td><td>6948</td><td>0.48</td></tr><tr><th>13</th><td>(1990-91)</td><td>NYK</td><td>135</td><td>108</td><td>27</td><td>NYK</td><td>3308</td><td>6822</td><td>0.48</td></tr><tr><th>14</th><td>(1990-91)</td><td>ORL</td><td>110</td><td>108</td><td>2</td><td>ORL</td><td>3298</td><td>7256</td><td>0.45</td></tr><tr><th>15</th><td>(1990-91)</td><td>SAC</td><td>131</td><td>113</td><td>18</td><td>SAC</td><td>3086</td><td>6818</td><td>0.45</td></tr><tr><th>16</th><td>(1990-91)</td><td>WAS</td><td>118</td><td>108</td><td>10</td><td>WAS</td><td>3390</td><td>7268</td><td>0.47</td></tr><tr><th>17</th><td>(1990-91)</td><td>ATL</td><td>111</td><td>96</td><td>15</td><td>ATL</td><td>3349</td><td>7223</td><td>0.46</td></tr><tr><th>18</th><td>(1990-91)</td><td>BOS</td><td>132</td><td>103</td><td>29</td><td>BOS</td><td>3695</td><td>7214</td><td>0.51</td></tr><tr><th>19</th><td>(1990-91)</td><td>DET</td><td>98</td><td>94</td><td>4</td><td>DET</td><td>3194</td><td>6875</td><td>0.46</td></tr><tr><th>20</th><td>(1990-91)</td><td>GSW</td><td>115</td><td>99</td><td>16</td><td>GSW</td><td>3566</td><td>7346</td><td>0.49</td></tr><tr><th>21</th><td>(1990-91)</td><td>SAS</td><td>93</td><td>89</td><td>4</td><td>SAS</td><td>3409</td><td>6988</td><td>0.49</td></tr><tr><th>22</th><td>(1990-91)</td><td>SEA</td><td>112</td><td>86</td><td>26</td><td>SEA</td><td>3500</td><td>7117</td><td>0.49</td></tr><tr><th>23</th><td>(1990-91)</td><td>UTA</td><td>102</td><td>99</td><td>3</td><td>UTA</td><td>3214</td><td>6537</td><td>0.49</td></tr><tr><th>24</th><td>(1990-91)</td><td>WAS</td><td>111</td><td>100</td><td>11</td><td>WAS</td><td>3390</td><td>7268</td><td>0.47</td></tr><tr><th>25</th><td>(1990-91)</td><td>ATL</td><td>117</td><td>112</td><td>5</td><td>ATL</td><td>3349</td><td>7223</td><td>0.46</td></tr><tr><th>26</th><td>(1990-91)</td><td>CHA</td><td>111</td><td>103</td><td>8</td><td>CHA</td><td>3286</td><td>7033</td><td>0.47</td></tr><tr><th>27</th><td>(1990-91)</td><td>CHI</td><td>108</td><td>92</td><td>16</td><td>CHI</td><td>3632</td><td>7125</td><td>0.51</td></tr><tr><th>28</th><td>(1990-91)</td><td>DET</td><td>99</td><td>83</td><td>16</td><td>DET</td><td>3194</td><td>6875</td><td>0.46</td></tr><tr><th>29</th><td>(1990-91)</td><td>HOU</td><td>112</td><td>99</td><td>13</td><td>HOU</td><td>3403</td><td>7287</td><td>0.47</td></tr><tr><th>30</th><td>(1990-91)</td><td>MIL</td><td>88</td><td>86</td><td>2</td><td>MIL</td><td>3337</td><td>6948</td><td>0.48</td></tr><tr><th>&vellip;</th><td>&vellip;</td><td>&vellip;</td><td>&vellip;</td><td>&vellip;</td><td>&vellip;</td><td>&vellip;</td><td>&vellip;</td><td>&vellip;</td><td>&vellip;</td></tr></tbody></table>"
      ],
      "text/latex": [
       "\\begin{tabular}{r|cccccccccc}\n",
       "\t& Season & teamWinAbr & winScore & loseScore & Margin & Team & FGM & FGA & FG\\% & \\\\\n",
       "\t\\hline\n",
       "\t& String & String & Int64 & Int64 & Int64 & String & Int64 & Int64 & Float64 & \\\\\n",
       "\t\\hline\n",
       "\t1 & (1990-91) & ATL & 120 & 107 & 13 & ATL & 3349 & 7223 & 0.46 & $\\dots$ \\\\\n",
       "\t2 & (1990-91) & BOS & 113 & 86 & 27 & BOS & 3695 & 7214 & 0.51 & $\\dots$ \\\\\n",
       "\t3 & (1990-91) & DET & 118 & 107 & 11 & DET & 3194 & 6875 & 0.46 & $\\dots$ \\\\\n",
       "\t4 & (1990-91) & IND & 121 & 109 & 12 & IND & 3450 & 6994 & 0.49 & $\\dots$ \\\\\n",
       "\t5 & (1990-91) & MIL & 106 & 91 & 15 & MIL & 3337 & 6948 & 0.48 & $\\dots$ \\\\\n",
       "\t6 & (1990-91) & MIN & 115 & 95 & 20 & MIN & 3265 & 7276 & 0.45 & $\\dots$ \\\\\n",
       "\t7 & (1990-91) & PHO & 105 & 83 & 22 & PHO & 3573 & 7199 & 0.5 & $\\dots$ \\\\\n",
       "\t8 & (1990-91) & SEA & 127 & 99 & 28 & SEA & 3500 & 7117 & 0.49 & $\\dots$ \\\\\n",
       "\t9 & (1990-91) & UTA & 112 & 104 & 8 & UTA & 3214 & 6537 & 0.49 & $\\dots$ \\\\\n",
       "\t10 & (1990-91) & HOU & 114 & 92 & 22 & HOU & 3403 & 7287 & 0.47 & $\\dots$ \\\\\n",
       "\t11 & (1990-91) & LAL & 108 & 104 & 4 & LAL & 3343 & 6911 & 0.48 & $\\dots$ \\\\\n",
       "\t12 & (1990-91) & MIL & 97 & 87 & 10 & MIL & 3337 & 6948 & 0.48 & $\\dots$ \\\\\n",
       "\t13 & (1990-91) & NYK & 135 & 108 & 27 & NYK & 3308 & 6822 & 0.48 & $\\dots$ \\\\\n",
       "\t14 & (1990-91) & ORL & 110 & 108 & 2 & ORL & 3298 & 7256 & 0.45 & $\\dots$ \\\\\n",
       "\t15 & (1990-91) & SAC & 131 & 113 & 18 & SAC & 3086 & 6818 & 0.45 & $\\dots$ \\\\\n",
       "\t16 & (1990-91) & WAS & 118 & 108 & 10 & WAS & 3390 & 7268 & 0.47 & $\\dots$ \\\\\n",
       "\t17 & (1990-91) & ATL & 111 & 96 & 15 & ATL & 3349 & 7223 & 0.46 & $\\dots$ \\\\\n",
       "\t18 & (1990-91) & BOS & 132 & 103 & 29 & BOS & 3695 & 7214 & 0.51 & $\\dots$ \\\\\n",
       "\t19 & (1990-91) & DET & 98 & 94 & 4 & DET & 3194 & 6875 & 0.46 & $\\dots$ \\\\\n",
       "\t20 & (1990-91) & GSW & 115 & 99 & 16 & GSW & 3566 & 7346 & 0.49 & $\\dots$ \\\\\n",
       "\t21 & (1990-91) & SAS & 93 & 89 & 4 & SAS & 3409 & 6988 & 0.49 & $\\dots$ \\\\\n",
       "\t22 & (1990-91) & SEA & 112 & 86 & 26 & SEA & 3500 & 7117 & 0.49 & $\\dots$ \\\\\n",
       "\t23 & (1990-91) & UTA & 102 & 99 & 3 & UTA & 3214 & 6537 & 0.49 & $\\dots$ \\\\\n",
       "\t24 & (1990-91) & WAS & 111 & 100 & 11 & WAS & 3390 & 7268 & 0.47 & $\\dots$ \\\\\n",
       "\t25 & (1990-91) & ATL & 117 & 112 & 5 & ATL & 3349 & 7223 & 0.46 & $\\dots$ \\\\\n",
       "\t26 & (1990-91) & CHA & 111 & 103 & 8 & CHA & 3286 & 7033 & 0.47 & $\\dots$ \\\\\n",
       "\t27 & (1990-91) & CHI & 108 & 92 & 16 & CHI & 3632 & 7125 & 0.51 & $\\dots$ \\\\\n",
       "\t28 & (1990-91) & DET & 99 & 83 & 16 & DET & 3194 & 6875 & 0.46 & $\\dots$ \\\\\n",
       "\t29 & (1990-91) & HOU & 112 & 99 & 13 & HOU & 3403 & 7287 & 0.47 & $\\dots$ \\\\\n",
       "\t30 & (1990-91) & MIL & 88 & 86 & 2 & MIL & 3337 & 6948 & 0.48 & $\\dots$ \\\\\n",
       "\t$\\dots$ & $\\dots$ & $\\dots$ & $\\dots$ & $\\dots$ & $\\dots$ & $\\dots$ & $\\dots$ & $\\dots$ & $\\dots$ &  \\\\\n",
       "\\end{tabular}\n"
      ],
      "text/plain": [
       "34064×114 DataFrame. Omitted printing of 108 columns\n",
       "│ Row   │ Season    │ teamWinAbr │ winScore │ loseScore │ Margin │ Team   │\n",
       "│       │ \u001b[90mString\u001b[39m    │ \u001b[90mString\u001b[39m     │ \u001b[90mInt64\u001b[39m    │ \u001b[90mInt64\u001b[39m     │ \u001b[90mInt64\u001b[39m  │ \u001b[90mString\u001b[39m │\n",
       "├───────┼───────────┼────────────┼──────────┼───────────┼────────┼────────┤\n",
       "│ 1     │ (1990-91) │ ATL        │ 120      │ 107       │ 13     │ ATL    │\n",
       "│ 2     │ (1990-91) │ BOS        │ 113      │ 86        │ 27     │ BOS    │\n",
       "│ 3     │ (1990-91) │ DET        │ 118      │ 107       │ 11     │ DET    │\n",
       "│ 4     │ (1990-91) │ IND        │ 121      │ 109       │ 12     │ IND    │\n",
       "│ 5     │ (1990-91) │ MIL        │ 106      │ 91        │ 15     │ MIL    │\n",
       "│ 6     │ (1990-91) │ MIN        │ 115      │ 95        │ 20     │ MIN    │\n",
       "│ 7     │ (1990-91) │ PHO        │ 105      │ 83        │ 22     │ PHO    │\n",
       "│ 8     │ (1990-91) │ SEA        │ 127      │ 99        │ 28     │ SEA    │\n",
       "│ 9     │ (1990-91) │ UTA        │ 112      │ 104       │ 8      │ UTA    │\n",
       "│ 10    │ (1990-91) │ HOU        │ 114      │ 92        │ 22     │ HOU    │\n",
       "⋮\n",
       "│ 34054 │ (2019-20) │ MIL        │ 123      │ 102       │ 21     │ MIL    │\n",
       "│ 34055 │ (2019-20) │ BRO        │ 115      │ 122       │ -7     │ BRO    │\n",
       "│ 34056 │ (2019-20) │ DET        │ 81       │ 104       │ -23    │ DET    │\n",
       "│ 34057 │ (2019-20) │ PHO        │ 122      │ 116       │ 6      │ PHO    │\n",
       "│ 34058 │ (2019-20) │ BOS        │ 109      │ 92        │ 17     │ BOS    │\n",
       "│ 34059 │ (2019-20) │ PHI        │ 97       │ 115       │ -18    │ PHI    │\n",
       "│ 34060 │ (2019-20) │ LAC        │ 105      │ 87        │ 18     │ LAC    │\n",
       "│ 34061 │ (2019-20) │ DEN        │ 104      │ 130       │ -26    │ DEN    │\n",
       "│ 34062 │ (2019-20) │ GSW        │ 113      │ 117       │ -4     │ GSW    │\n",
       "│ 34063 │ (2019-20) │ CLE        │ 97       │ 117       │ -20    │ CLE    │\n",
       "│ 34064 │ (2019-20) │ DAL        │ 101      │ 106       │ -5     │ DAL    │"
      ]
     },
     "execution_count": 16,
     "metadata": {},
     "output_type": "execute_result"
    }
   ],
   "source": [
    "#Build Dataframe\n",
    "results_fullTeamDF = join(results, fullTeamDF, on = [:Y => :nextYr, :teamWin => :Franchise], kind = :left, makeunique = true)\n",
    "results_fullTeamDF = join(results_fullTeamDF, fullTeamDF, on = [:Y => :nextYr, :teamWin => :Franchise], kind = :left, makeunique = true)\n",
    "deletecols!(results_fullTeamDF, [:League, :League_1, :League_2, :League_3, :Y_1, :Y_2, :Country, :City, :coachWin, :coachLose, :teamWin, :teamLose, :teamLoseAbr, :D, :M, :Y, :G])\n",
    "results_fullTeamDF = dropmissing(results_fullTeamDF)\n",
    "decTreeDF = results_fullTeamDF\n",
    "decTreeDF"
   ]
  },
  {
   "cell_type": "code",
   "execution_count": 17,
   "metadata": {},
   "outputs": [
    {
     "data": {
      "text/html": [
       "<table class=\"data-frame\"><thead><tr><th></th><th>Season</th><th>teamWinAbr</th><th>winScore</th><th>loseScore</th><th>Margin</th><th>Team</th><th>FGM</th><th>FGA</th><th>FG%</th></tr><tr><th></th><th>String</th><th>String</th><th>Int64</th><th>Int64</th><th>Int64</th><th>String</th><th>Int64</th><th>Int64</th><th>Float64</th></tr></thead><tbody><p>8,351 rows × 114 columns (omitted printing of 105 columns)</p><tr><th>1</th><td>(1990-91)</td><td>DET</td><td>118</td><td>107</td><td>11</td><td>DET</td><td>3194</td><td>6875</td><td>0.46</td></tr><tr><th>2</th><td>(1990-91)</td><td>PHO</td><td>105</td><td>83</td><td>22</td><td>PHO</td><td>3573</td><td>7199</td><td>0.5</td></tr><tr><th>3</th><td>(1990-91)</td><td>ORL</td><td>110</td><td>108</td><td>2</td><td>ORL</td><td>3298</td><td>7256</td><td>0.45</td></tr><tr><th>4</th><td>(1990-91)</td><td>WAS</td><td>118</td><td>108</td><td>10</td><td>WAS</td><td>3390</td><td>7268</td><td>0.47</td></tr><tr><th>5</th><td>(1990-91)</td><td>SAS</td><td>93</td><td>89</td><td>4</td><td>SAS</td><td>3409</td><td>6988</td><td>0.49</td></tr><tr><th>6</th><td>(1990-91)</td><td>UTA</td><td>102</td><td>99</td><td>3</td><td>UTA</td><td>3214</td><td>6537</td><td>0.49</td></tr><tr><th>7</th><td>(1990-91)</td><td>PHI</td><td>120</td><td>104</td><td>16</td><td>PHI</td><td>3289</td><td>6925</td><td>0.47</td></tr><tr><th>8</th><td>(1990-91)</td><td>POR</td><td>132</td><td>108</td><td>24</td><td>POR</td><td>3577</td><td>7369</td><td>0.49</td></tr><tr><th>9</th><td>(1990-91)</td><td>SAS</td><td>107</td><td>90</td><td>17</td><td>SAS</td><td>3409</td><td>6988</td><td>0.49</td></tr><tr><th>10</th><td>(1990-91)</td><td>SEA</td><td>96</td><td>88</td><td>8</td><td>SEA</td><td>3500</td><td>7117</td><td>0.49</td></tr><tr><th>11</th><td>(1990-91)</td><td>LAL</td><td>105</td><td>93</td><td>12</td><td>LAL</td><td>3343</td><td>6911</td><td>0.48</td></tr><tr><th>12</th><td>(1990-91)</td><td>PHO</td><td>114</td><td>110</td><td>4</td><td>PHO</td><td>3573</td><td>7199</td><td>0.5</td></tr><tr><th>13</th><td>(1990-91)</td><td>DEN</td><td>128</td><td>120</td><td>8</td><td>DEN</td><td>3901</td><td>8868</td><td>0.44</td></tr><tr><th>14</th><td>(1990-91)</td><td>NYK</td><td>99</td><td>92</td><td>7</td><td>NYK</td><td>3308</td><td>6822</td><td>0.48</td></tr><tr><th>15</th><td>(1990-91)</td><td>SAC</td><td>101</td><td>85</td><td>16</td><td>SAC</td><td>3086</td><td>6818</td><td>0.45</td></tr><tr><th>16</th><td>(1990-91)</td><td>WAS</td><td>116</td><td>99</td><td>17</td><td>WAS</td><td>3390</td><td>7268</td><td>0.47</td></tr><tr><th>17</th><td>(1990-91)</td><td>CHI</td><td>110</td><td>97</td><td>13</td><td>CHI</td><td>3632</td><td>7125</td><td>0.51</td></tr><tr><th>18</th><td>(1990-91)</td><td>DET</td><td>89</td><td>81</td><td>8</td><td>DET</td><td>3194</td><td>6875</td><td>0.46</td></tr><tr><th>19</th><td>(1990-91)</td><td>MIA</td><td>104</td><td>102</td><td>2</td><td>MIA</td><td>3280</td><td>7139</td><td>0.46</td></tr><tr><th>20</th><td>(1990-91)</td><td>SEA</td><td>146</td><td>99</td><td>47</td><td>SEA</td><td>3500</td><td>7117</td><td>0.49</td></tr><tr><th>21</th><td>(1990-91)</td><td>MIN</td><td>93</td><td>89</td><td>4</td><td>MIN</td><td>3265</td><td>7276</td><td>0.45</td></tr><tr><th>22</th><td>(1990-91)</td><td>LAL</td><td>93</td><td>78</td><td>15</td><td>LAL</td><td>3343</td><td>6911</td><td>0.48</td></tr><tr><th>23</th><td>(1990-91)</td><td>GSW</td><td>141</td><td>138</td><td>3</td><td>GSW</td><td>3566</td><td>7346</td><td>0.49</td></tr><tr><th>24</th><td>(1990-91)</td><td>LAC</td><td>119</td><td>112</td><td>7</td><td>LAC</td><td>3391</td><td>7315</td><td>0.46</td></tr><tr><th>25</th><td>(1990-91)</td><td>NJN</td><td>111</td><td>106</td><td>5</td><td>NJN</td><td>3311</td><td>7459</td><td>0.44</td></tr><tr><th>26</th><td>(1990-91)</td><td>UTA</td><td>106</td><td>99</td><td>7</td><td>UTA</td><td>3214</td><td>6537</td><td>0.49</td></tr><tr><th>27</th><td>(1990-91)</td><td>MIN</td><td>121</td><td>113</td><td>8</td><td>MIN</td><td>3265</td><td>7276</td><td>0.45</td></tr><tr><th>28</th><td>(1990-91)</td><td>POR</td><td>116</td><td>112</td><td>4</td><td>POR</td><td>3577</td><td>7369</td><td>0.49</td></tr><tr><th>29</th><td>(1990-91)</td><td>NYK</td><td>117</td><td>116</td><td>1</td><td>NYK</td><td>3308</td><td>6822</td><td>0.48</td></tr><tr><th>30</th><td>(1990-91)</td><td>SEA</td><td>132</td><td>101</td><td>31</td><td>SEA</td><td>3500</td><td>7117</td><td>0.49</td></tr><tr><th>&vellip;</th><td>&vellip;</td><td>&vellip;</td><td>&vellip;</td><td>&vellip;</td><td>&vellip;</td><td>&vellip;</td><td>&vellip;</td><td>&vellip;</td><td>&vellip;</td></tr></tbody></table>"
      ],
      "text/latex": [
       "\\begin{tabular}{r|cccccccccc}\n",
       "\t& Season & teamWinAbr & winScore & loseScore & Margin & Team & FGM & FGA & FG\\% & \\\\\n",
       "\t\\hline\n",
       "\t& String & String & Int64 & Int64 & Int64 & String & Int64 & Int64 & Float64 & \\\\\n",
       "\t\\hline\n",
       "\t1 & (1990-91) & DET & 118 & 107 & 11 & DET & 3194 & 6875 & 0.46 & $\\dots$ \\\\\n",
       "\t2 & (1990-91) & PHO & 105 & 83 & 22 & PHO & 3573 & 7199 & 0.5 & $\\dots$ \\\\\n",
       "\t3 & (1990-91) & ORL & 110 & 108 & 2 & ORL & 3298 & 7256 & 0.45 & $\\dots$ \\\\\n",
       "\t4 & (1990-91) & WAS & 118 & 108 & 10 & WAS & 3390 & 7268 & 0.47 & $\\dots$ \\\\\n",
       "\t5 & (1990-91) & SAS & 93 & 89 & 4 & SAS & 3409 & 6988 & 0.49 & $\\dots$ \\\\\n",
       "\t6 & (1990-91) & UTA & 102 & 99 & 3 & UTA & 3214 & 6537 & 0.49 & $\\dots$ \\\\\n",
       "\t7 & (1990-91) & PHI & 120 & 104 & 16 & PHI & 3289 & 6925 & 0.47 & $\\dots$ \\\\\n",
       "\t8 & (1990-91) & POR & 132 & 108 & 24 & POR & 3577 & 7369 & 0.49 & $\\dots$ \\\\\n",
       "\t9 & (1990-91) & SAS & 107 & 90 & 17 & SAS & 3409 & 6988 & 0.49 & $\\dots$ \\\\\n",
       "\t10 & (1990-91) & SEA & 96 & 88 & 8 & SEA & 3500 & 7117 & 0.49 & $\\dots$ \\\\\n",
       "\t11 & (1990-91) & LAL & 105 & 93 & 12 & LAL & 3343 & 6911 & 0.48 & $\\dots$ \\\\\n",
       "\t12 & (1990-91) & PHO & 114 & 110 & 4 & PHO & 3573 & 7199 & 0.5 & $\\dots$ \\\\\n",
       "\t13 & (1990-91) & DEN & 128 & 120 & 8 & DEN & 3901 & 8868 & 0.44 & $\\dots$ \\\\\n",
       "\t14 & (1990-91) & NYK & 99 & 92 & 7 & NYK & 3308 & 6822 & 0.48 & $\\dots$ \\\\\n",
       "\t15 & (1990-91) & SAC & 101 & 85 & 16 & SAC & 3086 & 6818 & 0.45 & $\\dots$ \\\\\n",
       "\t16 & (1990-91) & WAS & 116 & 99 & 17 & WAS & 3390 & 7268 & 0.47 & $\\dots$ \\\\\n",
       "\t17 & (1990-91) & CHI & 110 & 97 & 13 & CHI & 3632 & 7125 & 0.51 & $\\dots$ \\\\\n",
       "\t18 & (1990-91) & DET & 89 & 81 & 8 & DET & 3194 & 6875 & 0.46 & $\\dots$ \\\\\n",
       "\t19 & (1990-91) & MIA & 104 & 102 & 2 & MIA & 3280 & 7139 & 0.46 & $\\dots$ \\\\\n",
       "\t20 & (1990-91) & SEA & 146 & 99 & 47 & SEA & 3500 & 7117 & 0.49 & $\\dots$ \\\\\n",
       "\t21 & (1990-91) & MIN & 93 & 89 & 4 & MIN & 3265 & 7276 & 0.45 & $\\dots$ \\\\\n",
       "\t22 & (1990-91) & LAL & 93 & 78 & 15 & LAL & 3343 & 6911 & 0.48 & $\\dots$ \\\\\n",
       "\t23 & (1990-91) & GSW & 141 & 138 & 3 & GSW & 3566 & 7346 & 0.49 & $\\dots$ \\\\\n",
       "\t24 & (1990-91) & LAC & 119 & 112 & 7 & LAC & 3391 & 7315 & 0.46 & $\\dots$ \\\\\n",
       "\t25 & (1990-91) & NJN & 111 & 106 & 5 & NJN & 3311 & 7459 & 0.44 & $\\dots$ \\\\\n",
       "\t26 & (1990-91) & UTA & 106 & 99 & 7 & UTA & 3214 & 6537 & 0.49 & $\\dots$ \\\\\n",
       "\t27 & (1990-91) & MIN & 121 & 113 & 8 & MIN & 3265 & 7276 & 0.45 & $\\dots$ \\\\\n",
       "\t28 & (1990-91) & POR & 116 & 112 & 4 & POR & 3577 & 7369 & 0.49 & $\\dots$ \\\\\n",
       "\t29 & (1990-91) & NYK & 117 & 116 & 1 & NYK & 3308 & 6822 & 0.48 & $\\dots$ \\\\\n",
       "\t30 & (1990-91) & SEA & 132 & 101 & 31 & SEA & 3500 & 7117 & 0.49 & $\\dots$ \\\\\n",
       "\t$\\dots$ & $\\dots$ & $\\dots$ & $\\dots$ & $\\dots$ & $\\dots$ & $\\dots$ & $\\dots$ & $\\dots$ & $\\dots$ &  \\\\\n",
       "\\end{tabular}\n"
      ],
      "text/plain": [
       "8351×114 DataFrame. Omitted printing of 108 columns\n",
       "│ Row  │ Season    │ teamWinAbr │ winScore │ loseScore │ Margin │ Team   │\n",
       "│      │ \u001b[90mString\u001b[39m    │ \u001b[90mString\u001b[39m     │ \u001b[90mInt64\u001b[39m    │ \u001b[90mInt64\u001b[39m     │ \u001b[90mInt64\u001b[39m  │ \u001b[90mString\u001b[39m │\n",
       "├──────┼───────────┼────────────┼──────────┼───────────┼────────┼────────┤\n",
       "│ 1    │ (1990-91) │ DET        │ 118      │ 107       │ 11     │ DET    │\n",
       "│ 2    │ (1990-91) │ PHO        │ 105      │ 83        │ 22     │ PHO    │\n",
       "│ 3    │ (1990-91) │ ORL        │ 110      │ 108       │ 2      │ ORL    │\n",
       "│ 4    │ (1990-91) │ WAS        │ 118      │ 108       │ 10     │ WAS    │\n",
       "│ 5    │ (1990-91) │ SAS        │ 93       │ 89        │ 4      │ SAS    │\n",
       "│ 6    │ (1990-91) │ UTA        │ 102      │ 99        │ 3      │ UTA    │\n",
       "│ 7    │ (1990-91) │ PHI        │ 120      │ 104       │ 16     │ PHI    │\n",
       "│ 8    │ (1990-91) │ POR        │ 132      │ 108       │ 24     │ POR    │\n",
       "│ 9    │ (1990-91) │ SAS        │ 107      │ 90        │ 17     │ SAS    │\n",
       "│ 10   │ (1990-91) │ SEA        │ 96       │ 88        │ 8      │ SEA    │\n",
       "⋮\n",
       "│ 8341 │ (2019-20) │ WAS        │ 121      │ 115       │ 6      │ WAS    │\n",
       "│ 8342 │ (2019-20) │ NOP        │ 102      │ 94        │ 8      │ NOP    │\n",
       "│ 8343 │ (2019-20) │ MIN        │ 104      │ 113       │ -9     │ MIN    │\n",
       "│ 8344 │ (2019-20) │ NYK        │ 94       │ 82        │ 12     │ NYK    │\n",
       "│ 8345 │ (2019-20) │ PHI        │ 97       │ 98        │ -1     │ PHI    │\n",
       "│ 8346 │ (2019-20) │ CLE        │ 94       │ 88        │ 6      │ CLE    │\n",
       "│ 8347 │ (2019-20) │ DAL        │ 141      │ 121       │ 20     │ DAL    │\n",
       "│ 8348 │ (2019-20) │ SAC        │ 115      │ 120       │ -5     │ SAC    │\n",
       "│ 8349 │ (2019-20) │ ATL        │ 101      │ 93        │ 8      │ ATL    │\n",
       "│ 8350 │ (2019-20) │ DET        │ 81       │ 104       │ -23    │ DET    │\n",
       "│ 8351 │ (2019-20) │ CLE        │ 97       │ 117       │ -20    │ CLE    │"
      ]
     },
     "execution_count": 17,
     "metadata": {},
     "output_type": "execute_result"
    }
   ],
   "source": [
    "# Train-test-split\n",
    "using Random\n",
    "sample = randsubseq(1:size(decTreeDF,1), 0.75)\n",
    "train = decTreeDF[sample, :]\n",
    "notsample = [i for i in 1:size(decTreeDF, 1) if isempty(searchsorted(sample,i))]\n",
    "test = decTreeDF[notsample, :]"
   ]
  },
  {
   "cell_type": "code",
   "execution_count": 18,
   "metadata": {},
   "outputs": [
    {
     "data": {
      "text/plain": [
       "25713-element Array{String,1}:\n",
       " \"ATL\"\n",
       " \"BOS\"\n",
       " \"IND\"\n",
       " \"MIL\"\n",
       " \"MIN\"\n",
       " \"SEA\"\n",
       " \"UTA\"\n",
       " \"HOU\"\n",
       " \"LAL\"\n",
       " \"MIL\"\n",
       " \"NYK\"\n",
       " \"SAC\"\n",
       " \"ATL\"\n",
       " ⋮\n",
       " \"HOU\"\n",
       " \"DAL\"\n",
       " \"MIA\"\n",
       " \"MIL\"\n",
       " \"BRO\"\n",
       " \"PHO\"\n",
       " \"BOS\"\n",
       " \"PHI\"\n",
       " \"LAC\"\n",
       " \"DEN\"\n",
       " \"GSW\"\n",
       " \"DAL\""
      ]
     },
     "execution_count": 18,
     "metadata": {},
     "output_type": "execute_result"
    }
   ],
   "source": [
    "X_train = convert(Array, train[:, 6:114])\n",
    "y_train = convert(Array, train[:, 2])"
   ]
  },
  {
   "cell_type": "code",
   "execution_count": 19,
   "metadata": {},
   "outputs": [
    {
     "data": {
      "text/plain": [
       "8351-element Array{String,1}:\n",
       " \"DET\"\n",
       " \"PHO\"\n",
       " \"ORL\"\n",
       " \"WAS\"\n",
       " \"SAS\"\n",
       " \"UTA\"\n",
       " \"PHI\"\n",
       " \"POR\"\n",
       " \"SAS\"\n",
       " \"SEA\"\n",
       " \"LAL\"\n",
       " \"PHO\"\n",
       " \"DEN\"\n",
       " ⋮\n",
       " \"TOR\"\n",
       " \"WAS\"\n",
       " \"NOP\"\n",
       " \"MIN\"\n",
       " \"NYK\"\n",
       " \"PHI\"\n",
       " \"CLE\"\n",
       " \"DAL\"\n",
       " \"SAC\"\n",
       " \"ATL\"\n",
       " \"DET\"\n",
       " \"CLE\""
      ]
     },
     "execution_count": 19,
     "metadata": {},
     "output_type": "execute_result"
    }
   ],
   "source": [
    "X_test = convert(Array, test[:, 6:114])\n",
    "y_test = convert(Array, test[:, 2])"
   ]
  },
  {
   "cell_type": "code",
   "execution_count": 20,
   "metadata": {},
   "outputs": [
    {
     "data": {
      "text/plain": [
       "DecisionTreeClassifier\n",
       "max_depth:                5\n",
       "min_samples_leaf:         1\n",
       "min_samples_split:        2\n",
       "min_purity_increase:      0.0\n",
       "pruning_purity_threshold: 1.0\n",
       "n_subfeatures:            0\n",
       "classes:                  [\"ATL\", \"BOS\", \"BRO\", \"CHA\", \"CHI\", \"CLE\", \"DAL\", \"DEN\", \"DET\", \"GSW\"  …  \"PHI\", \"PHO\", \"POR\", \"SAC\", \"SAS\", \"SEA\", \"TOR\", \"UTA\", \"VAN\", \"WAS\"]\n",
       "root:                     Decision Tree\n",
       "Leaves: 31\n",
       "Depth:  5"
      ]
     },
     "execution_count": 20,
     "metadata": {},
     "output_type": "execute_result"
    }
   ],
   "source": [
    "# Fit the model\n",
    "using DecisionTree\n",
    "model = DecisionTreeClassifier(max_depth=5)\n",
    "fit!(model, X_train, y_train)"
   ]
  },
  {
   "cell_type": "code",
   "execution_count": 21,
   "metadata": {},
   "outputs": [
    {
     "data": {
      "text/plain": [
       "8351-element Array{String,1}:\n",
       " \"DET\"\n",
       " \"PHO\"\n",
       " \"ORL\"\n",
       " \"WAS\"\n",
       " \"SAS\"\n",
       " \"UTA\"\n",
       " \"PHI\"\n",
       " \"POR\"\n",
       " \"SAS\"\n",
       " \"SEA\"\n",
       " \"LAL\"\n",
       " \"PHO\"\n",
       " \"DEN\"\n",
       " ⋮\n",
       " \"TOR\"\n",
       " \"WAS\"\n",
       " \"NJN\"\n",
       " \"MIN\"\n",
       " \"NYK\"\n",
       " \"PHI\"\n",
       " \"CLE\"\n",
       " \"DAL\"\n",
       " \"SAC\"\n",
       " \"ATL\"\n",
       " \"DET\"\n",
       " \"CLE\""
      ]
     },
     "execution_count": 21,
     "metadata": {},
     "output_type": "execute_result"
    }
   ],
   "source": [
    "# Predict\n",
    "dectree_pred = DecisionTree.predict(model, X_test)"
   ]
  },
  {
   "cell_type": "code",
   "execution_count": 22,
   "metadata": {},
   "outputs": [
    {
     "name": "stdout",
     "output_type": "stream",
     "text": [
      "0.9770087414680877\n"
     ]
    }
   ],
   "source": [
    "# Compute accuracy\n",
    "correct = 0\n",
    "n=length(y_test)\n",
    "for i in 1:n\n",
    "    if y_test[i] == dectree_pred[i]\n",
    "        correct = correct +1\n",
    "    end\n",
    "end\n",
    "println(correct / n)"
   ]
  },
  {
   "cell_type": "markdown",
   "metadata": {},
   "source": [
    "#### ACCURACY OF DECISION TREE = 97.75%"
   ]
  },
  {
   "cell_type": "code",
   "execution_count": 23,
   "metadata": {},
   "outputs": [
    {
     "data": {
      "text/html": [
       "<table class=\"data-frame\"><thead><tr><th></th><th>Season</th><th>predictedWin_DT</th><th>teamWinAbr</th><th>winScore</th><th>loseScore</th><th>Margin</th><th>Team</th><th>FGM</th></tr><tr><th></th><th>String</th><th>String</th><th>String</th><th>Int64</th><th>Int64</th><th>Int64</th><th>String</th><th>Int64</th></tr></thead><tbody><p>8,351 rows × 115 columns (omitted printing of 107 columns)</p><tr><th>1</th><td>(1990-91)</td><td>DET</td><td>DET</td><td>118</td><td>107</td><td>11</td><td>DET</td><td>3194</td></tr><tr><th>2</th><td>(1990-91)</td><td>PHO</td><td>PHO</td><td>105</td><td>83</td><td>22</td><td>PHO</td><td>3573</td></tr><tr><th>3</th><td>(1990-91)</td><td>ORL</td><td>ORL</td><td>110</td><td>108</td><td>2</td><td>ORL</td><td>3298</td></tr><tr><th>4</th><td>(1990-91)</td><td>WAS</td><td>WAS</td><td>118</td><td>108</td><td>10</td><td>WAS</td><td>3390</td></tr><tr><th>5</th><td>(1990-91)</td><td>SAS</td><td>SAS</td><td>93</td><td>89</td><td>4</td><td>SAS</td><td>3409</td></tr><tr><th>6</th><td>(1990-91)</td><td>UTA</td><td>UTA</td><td>102</td><td>99</td><td>3</td><td>UTA</td><td>3214</td></tr><tr><th>7</th><td>(1990-91)</td><td>PHI</td><td>PHI</td><td>120</td><td>104</td><td>16</td><td>PHI</td><td>3289</td></tr><tr><th>8</th><td>(1990-91)</td><td>POR</td><td>POR</td><td>132</td><td>108</td><td>24</td><td>POR</td><td>3577</td></tr><tr><th>9</th><td>(1990-91)</td><td>SAS</td><td>SAS</td><td>107</td><td>90</td><td>17</td><td>SAS</td><td>3409</td></tr><tr><th>10</th><td>(1990-91)</td><td>SEA</td><td>SEA</td><td>96</td><td>88</td><td>8</td><td>SEA</td><td>3500</td></tr><tr><th>11</th><td>(1990-91)</td><td>LAL</td><td>LAL</td><td>105</td><td>93</td><td>12</td><td>LAL</td><td>3343</td></tr><tr><th>12</th><td>(1990-91)</td><td>PHO</td><td>PHO</td><td>114</td><td>110</td><td>4</td><td>PHO</td><td>3573</td></tr><tr><th>13</th><td>(1990-91)</td><td>DEN</td><td>DEN</td><td>128</td><td>120</td><td>8</td><td>DEN</td><td>3901</td></tr><tr><th>14</th><td>(1990-91)</td><td>NYK</td><td>NYK</td><td>99</td><td>92</td><td>7</td><td>NYK</td><td>3308</td></tr><tr><th>15</th><td>(1990-91)</td><td>SAC</td><td>SAC</td><td>101</td><td>85</td><td>16</td><td>SAC</td><td>3086</td></tr><tr><th>16</th><td>(1990-91)</td><td>WAS</td><td>WAS</td><td>116</td><td>99</td><td>17</td><td>WAS</td><td>3390</td></tr><tr><th>17</th><td>(1990-91)</td><td>CHI</td><td>CHI</td><td>110</td><td>97</td><td>13</td><td>CHI</td><td>3632</td></tr><tr><th>18</th><td>(1990-91)</td><td>DET</td><td>DET</td><td>89</td><td>81</td><td>8</td><td>DET</td><td>3194</td></tr><tr><th>19</th><td>(1990-91)</td><td>MIA</td><td>MIA</td><td>104</td><td>102</td><td>2</td><td>MIA</td><td>3280</td></tr><tr><th>20</th><td>(1990-91)</td><td>SEA</td><td>SEA</td><td>146</td><td>99</td><td>47</td><td>SEA</td><td>3500</td></tr><tr><th>21</th><td>(1990-91)</td><td>MIN</td><td>MIN</td><td>93</td><td>89</td><td>4</td><td>MIN</td><td>3265</td></tr><tr><th>22</th><td>(1990-91)</td><td>LAL</td><td>LAL</td><td>93</td><td>78</td><td>15</td><td>LAL</td><td>3343</td></tr><tr><th>23</th><td>(1990-91)</td><td>GSW</td><td>GSW</td><td>141</td><td>138</td><td>3</td><td>GSW</td><td>3566</td></tr><tr><th>24</th><td>(1990-91)</td><td>LAC</td><td>LAC</td><td>119</td><td>112</td><td>7</td><td>LAC</td><td>3391</td></tr><tr><th>25</th><td>(1990-91)</td><td>NJN</td><td>NJN</td><td>111</td><td>106</td><td>5</td><td>NJN</td><td>3311</td></tr><tr><th>26</th><td>(1990-91)</td><td>UTA</td><td>UTA</td><td>106</td><td>99</td><td>7</td><td>UTA</td><td>3214</td></tr><tr><th>27</th><td>(1990-91)</td><td>MIN</td><td>MIN</td><td>121</td><td>113</td><td>8</td><td>MIN</td><td>3265</td></tr><tr><th>28</th><td>(1990-91)</td><td>POR</td><td>POR</td><td>116</td><td>112</td><td>4</td><td>POR</td><td>3577</td></tr><tr><th>29</th><td>(1990-91)</td><td>NYK</td><td>NYK</td><td>117</td><td>116</td><td>1</td><td>NYK</td><td>3308</td></tr><tr><th>30</th><td>(1990-91)</td><td>SEA</td><td>SEA</td><td>132</td><td>101</td><td>31</td><td>SEA</td><td>3500</td></tr><tr><th>&vellip;</th><td>&vellip;</td><td>&vellip;</td><td>&vellip;</td><td>&vellip;</td><td>&vellip;</td><td>&vellip;</td><td>&vellip;</td><td>&vellip;</td></tr></tbody></table>"
      ],
      "text/latex": [
       "\\begin{tabular}{r|ccccccccc}\n",
       "\t& Season & predictedWin\\_DT & teamWinAbr & winScore & loseScore & Margin & Team & FGM & \\\\\n",
       "\t\\hline\n",
       "\t& String & String & String & Int64 & Int64 & Int64 & String & Int64 & \\\\\n",
       "\t\\hline\n",
       "\t1 & (1990-91) & DET & DET & 118 & 107 & 11 & DET & 3194 & $\\dots$ \\\\\n",
       "\t2 & (1990-91) & PHO & PHO & 105 & 83 & 22 & PHO & 3573 & $\\dots$ \\\\\n",
       "\t3 & (1990-91) & ORL & ORL & 110 & 108 & 2 & ORL & 3298 & $\\dots$ \\\\\n",
       "\t4 & (1990-91) & WAS & WAS & 118 & 108 & 10 & WAS & 3390 & $\\dots$ \\\\\n",
       "\t5 & (1990-91) & SAS & SAS & 93 & 89 & 4 & SAS & 3409 & $\\dots$ \\\\\n",
       "\t6 & (1990-91) & UTA & UTA & 102 & 99 & 3 & UTA & 3214 & $\\dots$ \\\\\n",
       "\t7 & (1990-91) & PHI & PHI & 120 & 104 & 16 & PHI & 3289 & $\\dots$ \\\\\n",
       "\t8 & (1990-91) & POR & POR & 132 & 108 & 24 & POR & 3577 & $\\dots$ \\\\\n",
       "\t9 & (1990-91) & SAS & SAS & 107 & 90 & 17 & SAS & 3409 & $\\dots$ \\\\\n",
       "\t10 & (1990-91) & SEA & SEA & 96 & 88 & 8 & SEA & 3500 & $\\dots$ \\\\\n",
       "\t11 & (1990-91) & LAL & LAL & 105 & 93 & 12 & LAL & 3343 & $\\dots$ \\\\\n",
       "\t12 & (1990-91) & PHO & PHO & 114 & 110 & 4 & PHO & 3573 & $\\dots$ \\\\\n",
       "\t13 & (1990-91) & DEN & DEN & 128 & 120 & 8 & DEN & 3901 & $\\dots$ \\\\\n",
       "\t14 & (1990-91) & NYK & NYK & 99 & 92 & 7 & NYK & 3308 & $\\dots$ \\\\\n",
       "\t15 & (1990-91) & SAC & SAC & 101 & 85 & 16 & SAC & 3086 & $\\dots$ \\\\\n",
       "\t16 & (1990-91) & WAS & WAS & 116 & 99 & 17 & WAS & 3390 & $\\dots$ \\\\\n",
       "\t17 & (1990-91) & CHI & CHI & 110 & 97 & 13 & CHI & 3632 & $\\dots$ \\\\\n",
       "\t18 & (1990-91) & DET & DET & 89 & 81 & 8 & DET & 3194 & $\\dots$ \\\\\n",
       "\t19 & (1990-91) & MIA & MIA & 104 & 102 & 2 & MIA & 3280 & $\\dots$ \\\\\n",
       "\t20 & (1990-91) & SEA & SEA & 146 & 99 & 47 & SEA & 3500 & $\\dots$ \\\\\n",
       "\t21 & (1990-91) & MIN & MIN & 93 & 89 & 4 & MIN & 3265 & $\\dots$ \\\\\n",
       "\t22 & (1990-91) & LAL & LAL & 93 & 78 & 15 & LAL & 3343 & $\\dots$ \\\\\n",
       "\t23 & (1990-91) & GSW & GSW & 141 & 138 & 3 & GSW & 3566 & $\\dots$ \\\\\n",
       "\t24 & (1990-91) & LAC & LAC & 119 & 112 & 7 & LAC & 3391 & $\\dots$ \\\\\n",
       "\t25 & (1990-91) & NJN & NJN & 111 & 106 & 5 & NJN & 3311 & $\\dots$ \\\\\n",
       "\t26 & (1990-91) & UTA & UTA & 106 & 99 & 7 & UTA & 3214 & $\\dots$ \\\\\n",
       "\t27 & (1990-91) & MIN & MIN & 121 & 113 & 8 & MIN & 3265 & $\\dots$ \\\\\n",
       "\t28 & (1990-91) & POR & POR & 116 & 112 & 4 & POR & 3577 & $\\dots$ \\\\\n",
       "\t29 & (1990-91) & NYK & NYK & 117 & 116 & 1 & NYK & 3308 & $\\dots$ \\\\\n",
       "\t30 & (1990-91) & SEA & SEA & 132 & 101 & 31 & SEA & 3500 & $\\dots$ \\\\\n",
       "\t$\\dots$ & $\\dots$ & $\\dots$ & $\\dots$ & $\\dots$ & $\\dots$ & $\\dots$ & $\\dots$ & $\\dots$ &  \\\\\n",
       "\\end{tabular}\n"
      ],
      "text/plain": [
       "8351×115 DataFrame. Omitted printing of 110 columns\n",
       "│ Row  │ Season    │ predictedWin_DT │ teamWinAbr │ winScore │ loseScore │\n",
       "│      │ \u001b[90mString\u001b[39m    │ \u001b[90mString\u001b[39m          │ \u001b[90mString\u001b[39m     │ \u001b[90mInt64\u001b[39m    │ \u001b[90mInt64\u001b[39m     │\n",
       "├──────┼───────────┼─────────────────┼────────────┼──────────┼───────────┤\n",
       "│ 1    │ (1990-91) │ DET             │ DET        │ 118      │ 107       │\n",
       "│ 2    │ (1990-91) │ PHO             │ PHO        │ 105      │ 83        │\n",
       "│ 3    │ (1990-91) │ ORL             │ ORL        │ 110      │ 108       │\n",
       "│ 4    │ (1990-91) │ WAS             │ WAS        │ 118      │ 108       │\n",
       "│ 5    │ (1990-91) │ SAS             │ SAS        │ 93       │ 89        │\n",
       "│ 6    │ (1990-91) │ UTA             │ UTA        │ 102      │ 99        │\n",
       "│ 7    │ (1990-91) │ PHI             │ PHI        │ 120      │ 104       │\n",
       "│ 8    │ (1990-91) │ POR             │ POR        │ 132      │ 108       │\n",
       "│ 9    │ (1990-91) │ SAS             │ SAS        │ 107      │ 90        │\n",
       "│ 10   │ (1990-91) │ SEA             │ SEA        │ 96       │ 88        │\n",
       "⋮\n",
       "│ 8341 │ (2019-20) │ WAS             │ WAS        │ 121      │ 115       │\n",
       "│ 8342 │ (2019-20) │ NJN             │ NOP        │ 102      │ 94        │\n",
       "│ 8343 │ (2019-20) │ MIN             │ MIN        │ 104      │ 113       │\n",
       "│ 8344 │ (2019-20) │ NYK             │ NYK        │ 94       │ 82        │\n",
       "│ 8345 │ (2019-20) │ PHI             │ PHI        │ 97       │ 98        │\n",
       "│ 8346 │ (2019-20) │ CLE             │ CLE        │ 94       │ 88        │\n",
       "│ 8347 │ (2019-20) │ DAL             │ DAL        │ 141      │ 121       │\n",
       "│ 8348 │ (2019-20) │ SAC             │ SAC        │ 115      │ 120       │\n",
       "│ 8349 │ (2019-20) │ ATL             │ ATL        │ 101      │ 93        │\n",
       "│ 8350 │ (2019-20) │ DET             │ DET        │ 81       │ 104       │\n",
       "│ 8351 │ (2019-20) │ CLE             │ CLE        │ 97       │ 117       │"
      ]
     },
     "execution_count": 23,
     "metadata": {},
     "output_type": "execute_result"
    }
   ],
   "source": [
    "# Add predictions to test dataframe\n",
    "insert!(test, 2, 0, :predictedWin_DT)\n",
    "test = @transform(test, predictedWin_DT = dectree_pred)"
   ]
  },
  {
   "cell_type": "markdown",
   "metadata": {},
   "source": [
    "### Step 4.c - Random Forest Model\n"
   ]
  },
  {
   "cell_type": "code",
   "execution_count": 24,
   "metadata": {},
   "outputs": [
    {
     "data": {
      "text/plain": [
       "RandomForestClassifier\n",
       "n_trees:             10\n",
       "n_subfeatures:       -1\n",
       "partial_sampling:    0.7\n",
       "max_depth:           -1\n",
       "min_samples_leaf:    1\n",
       "min_samples_split:   2\n",
       "min_purity_increase: 0.0\n",
       "classes:             [\"ATL\", \"BOS\", \"BRO\", \"CHA\", \"CHI\", \"CLE\", \"DAL\", \"DEN\", \"DET\", \"GSW\"  …  \"PHI\", \"PHO\", \"POR\", \"SAC\", \"SAS\", \"SEA\", \"TOR\", \"UTA\", \"VAN\", \"WAS\"]\n",
       "ensemble:            Ensemble of Decision Trees\n",
       "Trees:      10\n",
       "Avg Leaves: 320.2\n",
       "Avg Depth:  13.3"
      ]
     },
     "execution_count": 24,
     "metadata": {},
     "output_type": "execute_result"
    }
   ],
   "source": [
    "using DecisionTree\n",
    "# Fit the model\n",
    "rf = RandomForestClassifier()\n",
    "fit!(rf, X_train, y_train)"
   ]
  },
  {
   "cell_type": "code",
   "execution_count": 25,
   "metadata": {},
   "outputs": [
    {
     "data": {
      "text/plain": [
       "8351-element Array{String,1}:\n",
       " \"DET\"\n",
       " \"PHO\"\n",
       " \"ORL\"\n",
       " \"WAS\"\n",
       " \"SAS\"\n",
       " \"UTA\"\n",
       " \"PHI\"\n",
       " \"POR\"\n",
       " \"SAS\"\n",
       " \"SEA\"\n",
       " \"LAL\"\n",
       " \"PHO\"\n",
       " \"DEN\"\n",
       " ⋮\n",
       " \"TOR\"\n",
       " \"WAS\"\n",
       " \"NOP\"\n",
       " \"MIN\"\n",
       " \"NYK\"\n",
       " \"PHI\"\n",
       " \"CLE\"\n",
       " \"DAL\"\n",
       " \"SAC\"\n",
       " \"ATL\"\n",
       " \"DET\"\n",
       " \"CLE\""
      ]
     },
     "execution_count": 25,
     "metadata": {},
     "output_type": "execute_result"
    }
   ],
   "source": [
    "# Predict on the test set\n",
    "rf_pred = DecisionTree.predict(rf, X_test)"
   ]
  },
  {
   "cell_type": "code",
   "execution_count": 26,
   "metadata": {},
   "outputs": [
    {
     "name": "stdout",
     "output_type": "stream",
     "text": [
      "0.9980840617890073\n"
     ]
    }
   ],
   "source": [
    "# Compute the accuracy\n",
    "correct = 0\n",
    "n =length(y_test)\n",
    "for i in 1:n\n",
    "    if y_test[i] == rf_pred[i]\n",
    "        correct = correct + 1\n",
    "    end\n",
    "end\n",
    "println(correct/n)"
   ]
  },
  {
   "cell_type": "markdown",
   "metadata": {},
   "source": [
    "#### ACCURACY OF RANDOM FOREST = 99.85%"
   ]
  },
  {
   "cell_type": "code",
   "execution_count": 27,
   "metadata": {},
   "outputs": [
    {
     "data": {
      "text/html": [
       "<table class=\"data-frame\"><thead><tr><th></th><th>Season</th><th>predictedWin_RF</th><th>predictedWin_DT</th><th>teamWinAbr</th><th>winScore</th><th>loseScore</th><th>Margin</th></tr><tr><th></th><th>String</th><th>String</th><th>String</th><th>String</th><th>Int64</th><th>Int64</th><th>Int64</th></tr></thead><tbody><p>8,351 rows × 116 columns (omitted printing of 109 columns)</p><tr><th>1</th><td>(1990-91)</td><td>DET</td><td>DET</td><td>DET</td><td>118</td><td>107</td><td>11</td></tr><tr><th>2</th><td>(1990-91)</td><td>PHO</td><td>PHO</td><td>PHO</td><td>105</td><td>83</td><td>22</td></tr><tr><th>3</th><td>(1990-91)</td><td>ORL</td><td>ORL</td><td>ORL</td><td>110</td><td>108</td><td>2</td></tr><tr><th>4</th><td>(1990-91)</td><td>WAS</td><td>WAS</td><td>WAS</td><td>118</td><td>108</td><td>10</td></tr><tr><th>5</th><td>(1990-91)</td><td>SAS</td><td>SAS</td><td>SAS</td><td>93</td><td>89</td><td>4</td></tr><tr><th>6</th><td>(1990-91)</td><td>UTA</td><td>UTA</td><td>UTA</td><td>102</td><td>99</td><td>3</td></tr><tr><th>7</th><td>(1990-91)</td><td>PHI</td><td>PHI</td><td>PHI</td><td>120</td><td>104</td><td>16</td></tr><tr><th>8</th><td>(1990-91)</td><td>POR</td><td>POR</td><td>POR</td><td>132</td><td>108</td><td>24</td></tr><tr><th>9</th><td>(1990-91)</td><td>SAS</td><td>SAS</td><td>SAS</td><td>107</td><td>90</td><td>17</td></tr><tr><th>10</th><td>(1990-91)</td><td>SEA</td><td>SEA</td><td>SEA</td><td>96</td><td>88</td><td>8</td></tr><tr><th>11</th><td>(1990-91)</td><td>LAL</td><td>LAL</td><td>LAL</td><td>105</td><td>93</td><td>12</td></tr><tr><th>12</th><td>(1990-91)</td><td>PHO</td><td>PHO</td><td>PHO</td><td>114</td><td>110</td><td>4</td></tr><tr><th>13</th><td>(1990-91)</td><td>DEN</td><td>DEN</td><td>DEN</td><td>128</td><td>120</td><td>8</td></tr><tr><th>14</th><td>(1990-91)</td><td>NYK</td><td>NYK</td><td>NYK</td><td>99</td><td>92</td><td>7</td></tr><tr><th>15</th><td>(1990-91)</td><td>SAC</td><td>SAC</td><td>SAC</td><td>101</td><td>85</td><td>16</td></tr><tr><th>16</th><td>(1990-91)</td><td>WAS</td><td>WAS</td><td>WAS</td><td>116</td><td>99</td><td>17</td></tr><tr><th>17</th><td>(1990-91)</td><td>CHI</td><td>CHI</td><td>CHI</td><td>110</td><td>97</td><td>13</td></tr><tr><th>18</th><td>(1990-91)</td><td>DET</td><td>DET</td><td>DET</td><td>89</td><td>81</td><td>8</td></tr><tr><th>19</th><td>(1990-91)</td><td>MIA</td><td>MIA</td><td>MIA</td><td>104</td><td>102</td><td>2</td></tr><tr><th>20</th><td>(1990-91)</td><td>SEA</td><td>SEA</td><td>SEA</td><td>146</td><td>99</td><td>47</td></tr><tr><th>21</th><td>(1990-91)</td><td>MIN</td><td>MIN</td><td>MIN</td><td>93</td><td>89</td><td>4</td></tr><tr><th>22</th><td>(1990-91)</td><td>LAL</td><td>LAL</td><td>LAL</td><td>93</td><td>78</td><td>15</td></tr><tr><th>23</th><td>(1990-91)</td><td>GSW</td><td>GSW</td><td>GSW</td><td>141</td><td>138</td><td>3</td></tr><tr><th>24</th><td>(1990-91)</td><td>LAC</td><td>LAC</td><td>LAC</td><td>119</td><td>112</td><td>7</td></tr><tr><th>25</th><td>(1990-91)</td><td>NJN</td><td>NJN</td><td>NJN</td><td>111</td><td>106</td><td>5</td></tr><tr><th>26</th><td>(1990-91)</td><td>UTA</td><td>UTA</td><td>UTA</td><td>106</td><td>99</td><td>7</td></tr><tr><th>27</th><td>(1990-91)</td><td>MIN</td><td>MIN</td><td>MIN</td><td>121</td><td>113</td><td>8</td></tr><tr><th>28</th><td>(1990-91)</td><td>POR</td><td>POR</td><td>POR</td><td>116</td><td>112</td><td>4</td></tr><tr><th>29</th><td>(1990-91)</td><td>NYK</td><td>NYK</td><td>NYK</td><td>117</td><td>116</td><td>1</td></tr><tr><th>30</th><td>(1990-91)</td><td>SEA</td><td>SEA</td><td>SEA</td><td>132</td><td>101</td><td>31</td></tr><tr><th>&vellip;</th><td>&vellip;</td><td>&vellip;</td><td>&vellip;</td><td>&vellip;</td><td>&vellip;</td><td>&vellip;</td><td>&vellip;</td></tr></tbody></table>"
      ],
      "text/latex": [
       "\\begin{tabular}{r|cccccccc}\n",
       "\t& Season & predictedWin\\_RF & predictedWin\\_DT & teamWinAbr & winScore & loseScore & Margin & \\\\\n",
       "\t\\hline\n",
       "\t& String & String & String & String & Int64 & Int64 & Int64 & \\\\\n",
       "\t\\hline\n",
       "\t1 & (1990-91) & DET & DET & DET & 118 & 107 & 11 & $\\dots$ \\\\\n",
       "\t2 & (1990-91) & PHO & PHO & PHO & 105 & 83 & 22 & $\\dots$ \\\\\n",
       "\t3 & (1990-91) & ORL & ORL & ORL & 110 & 108 & 2 & $\\dots$ \\\\\n",
       "\t4 & (1990-91) & WAS & WAS & WAS & 118 & 108 & 10 & $\\dots$ \\\\\n",
       "\t5 & (1990-91) & SAS & SAS & SAS & 93 & 89 & 4 & $\\dots$ \\\\\n",
       "\t6 & (1990-91) & UTA & UTA & UTA & 102 & 99 & 3 & $\\dots$ \\\\\n",
       "\t7 & (1990-91) & PHI & PHI & PHI & 120 & 104 & 16 & $\\dots$ \\\\\n",
       "\t8 & (1990-91) & POR & POR & POR & 132 & 108 & 24 & $\\dots$ \\\\\n",
       "\t9 & (1990-91) & SAS & SAS & SAS & 107 & 90 & 17 & $\\dots$ \\\\\n",
       "\t10 & (1990-91) & SEA & SEA & SEA & 96 & 88 & 8 & $\\dots$ \\\\\n",
       "\t11 & (1990-91) & LAL & LAL & LAL & 105 & 93 & 12 & $\\dots$ \\\\\n",
       "\t12 & (1990-91) & PHO & PHO & PHO & 114 & 110 & 4 & $\\dots$ \\\\\n",
       "\t13 & (1990-91) & DEN & DEN & DEN & 128 & 120 & 8 & $\\dots$ \\\\\n",
       "\t14 & (1990-91) & NYK & NYK & NYK & 99 & 92 & 7 & $\\dots$ \\\\\n",
       "\t15 & (1990-91) & SAC & SAC & SAC & 101 & 85 & 16 & $\\dots$ \\\\\n",
       "\t16 & (1990-91) & WAS & WAS & WAS & 116 & 99 & 17 & $\\dots$ \\\\\n",
       "\t17 & (1990-91) & CHI & CHI & CHI & 110 & 97 & 13 & $\\dots$ \\\\\n",
       "\t18 & (1990-91) & DET & DET & DET & 89 & 81 & 8 & $\\dots$ \\\\\n",
       "\t19 & (1990-91) & MIA & MIA & MIA & 104 & 102 & 2 & $\\dots$ \\\\\n",
       "\t20 & (1990-91) & SEA & SEA & SEA & 146 & 99 & 47 & $\\dots$ \\\\\n",
       "\t21 & (1990-91) & MIN & MIN & MIN & 93 & 89 & 4 & $\\dots$ \\\\\n",
       "\t22 & (1990-91) & LAL & LAL & LAL & 93 & 78 & 15 & $\\dots$ \\\\\n",
       "\t23 & (1990-91) & GSW & GSW & GSW & 141 & 138 & 3 & $\\dots$ \\\\\n",
       "\t24 & (1990-91) & LAC & LAC & LAC & 119 & 112 & 7 & $\\dots$ \\\\\n",
       "\t25 & (1990-91) & NJN & NJN & NJN & 111 & 106 & 5 & $\\dots$ \\\\\n",
       "\t26 & (1990-91) & UTA & UTA & UTA & 106 & 99 & 7 & $\\dots$ \\\\\n",
       "\t27 & (1990-91) & MIN & MIN & MIN & 121 & 113 & 8 & $\\dots$ \\\\\n",
       "\t28 & (1990-91) & POR & POR & POR & 116 & 112 & 4 & $\\dots$ \\\\\n",
       "\t29 & (1990-91) & NYK & NYK & NYK & 117 & 116 & 1 & $\\dots$ \\\\\n",
       "\t30 & (1990-91) & SEA & SEA & SEA & 132 & 101 & 31 & $\\dots$ \\\\\n",
       "\t$\\dots$ & $\\dots$ & $\\dots$ & $\\dots$ & $\\dots$ & $\\dots$ & $\\dots$ & $\\dots$ &  \\\\\n",
       "\\end{tabular}\n"
      ],
      "text/plain": [
       "8351×116 DataFrame. Omitted printing of 111 columns\n",
       "│ Row  │ Season    │ predictedWin_RF │ predictedWin_DT │ teamWinAbr │ winScore │\n",
       "│      │ \u001b[90mString\u001b[39m    │ \u001b[90mString\u001b[39m          │ \u001b[90mString\u001b[39m          │ \u001b[90mString\u001b[39m     │ \u001b[90mInt64\u001b[39m    │\n",
       "├──────┼───────────┼─────────────────┼─────────────────┼────────────┼──────────┤\n",
       "│ 1    │ (1990-91) │ DET             │ DET             │ DET        │ 118      │\n",
       "│ 2    │ (1990-91) │ PHO             │ PHO             │ PHO        │ 105      │\n",
       "│ 3    │ (1990-91) │ ORL             │ ORL             │ ORL        │ 110      │\n",
       "│ 4    │ (1990-91) │ WAS             │ WAS             │ WAS        │ 118      │\n",
       "│ 5    │ (1990-91) │ SAS             │ SAS             │ SAS        │ 93       │\n",
       "│ 6    │ (1990-91) │ UTA             │ UTA             │ UTA        │ 102      │\n",
       "│ 7    │ (1990-91) │ PHI             │ PHI             │ PHI        │ 120      │\n",
       "│ 8    │ (1990-91) │ POR             │ POR             │ POR        │ 132      │\n",
       "│ 9    │ (1990-91) │ SAS             │ SAS             │ SAS        │ 107      │\n",
       "│ 10   │ (1990-91) │ SEA             │ SEA             │ SEA        │ 96       │\n",
       "⋮\n",
       "│ 8341 │ (2019-20) │ WAS             │ WAS             │ WAS        │ 121      │\n",
       "│ 8342 │ (2019-20) │ NOP             │ NJN             │ NOP        │ 102      │\n",
       "│ 8343 │ (2019-20) │ MIN             │ MIN             │ MIN        │ 104      │\n",
       "│ 8344 │ (2019-20) │ NYK             │ NYK             │ NYK        │ 94       │\n",
       "│ 8345 │ (2019-20) │ PHI             │ PHI             │ PHI        │ 97       │\n",
       "│ 8346 │ (2019-20) │ CLE             │ CLE             │ CLE        │ 94       │\n",
       "│ 8347 │ (2019-20) │ DAL             │ DAL             │ DAL        │ 141      │\n",
       "│ 8348 │ (2019-20) │ SAC             │ SAC             │ SAC        │ 115      │\n",
       "│ 8349 │ (2019-20) │ ATL             │ ATL             │ ATL        │ 101      │\n",
       "│ 8350 │ (2019-20) │ DET             │ DET             │ DET        │ 81       │\n",
       "│ 8351 │ (2019-20) │ CLE             │ CLE             │ CLE        │ 97       │"
      ]
     },
     "execution_count": 27,
     "metadata": {},
     "output_type": "execute_result"
    }
   ],
   "source": [
    "# Add random forest prediction\n",
    "insert!(test, 2, 0, :predictedWin_RF)\n",
    "test = @transform(test, predictedWin_RF = rf_pred)"
   ]
  },
  {
   "cell_type": "markdown",
   "metadata": {},
   "source": [
    "### Step 4.d - Build Full Prediction Dataframe"
   ]
  },
  {
   "cell_type": "code",
   "execution_count": 28,
   "metadata": {},
   "outputs": [
    {
     "data": {
      "text/html": [
       "<table class=\"data-frame\"><thead><tr><th></th><th>Season</th><th>teamWinAbr</th><th>winScore</th><th>loseScore</th><th>Margin</th><th>Team</th><th>FGM</th><th>FGA</th><th>FG%</th></tr><tr><th></th><th>String</th><th>String</th><th>Int64</th><th>Int64</th><th>Int64</th><th>String</th><th>Int64</th><th>Int64</th><th>Float64</th></tr></thead><tbody><p>34,064 rows × 114 columns (omitted printing of 105 columns)</p><tr><th>1</th><td>(1990-91)</td><td>ATL</td><td>120</td><td>107</td><td>13</td><td>ATL</td><td>3349</td><td>7223</td><td>0.46</td></tr><tr><th>2</th><td>(1990-91)</td><td>BOS</td><td>113</td><td>86</td><td>27</td><td>BOS</td><td>3695</td><td>7214</td><td>0.51</td></tr><tr><th>3</th><td>(1990-91)</td><td>DET</td><td>118</td><td>107</td><td>11</td><td>DET</td><td>3194</td><td>6875</td><td>0.46</td></tr><tr><th>4</th><td>(1990-91)</td><td>IND</td><td>121</td><td>109</td><td>12</td><td>IND</td><td>3450</td><td>6994</td><td>0.49</td></tr><tr><th>5</th><td>(1990-91)</td><td>MIL</td><td>106</td><td>91</td><td>15</td><td>MIL</td><td>3337</td><td>6948</td><td>0.48</td></tr><tr><th>6</th><td>(1990-91)</td><td>MIN</td><td>115</td><td>95</td><td>20</td><td>MIN</td><td>3265</td><td>7276</td><td>0.45</td></tr><tr><th>7</th><td>(1990-91)</td><td>PHO</td><td>105</td><td>83</td><td>22</td><td>PHO</td><td>3573</td><td>7199</td><td>0.5</td></tr><tr><th>8</th><td>(1990-91)</td><td>SEA</td><td>127</td><td>99</td><td>28</td><td>SEA</td><td>3500</td><td>7117</td><td>0.49</td></tr><tr><th>9</th><td>(1990-91)</td><td>UTA</td><td>112</td><td>104</td><td>8</td><td>UTA</td><td>3214</td><td>6537</td><td>0.49</td></tr><tr><th>10</th><td>(1990-91)</td><td>HOU</td><td>114</td><td>92</td><td>22</td><td>HOU</td><td>3403</td><td>7287</td><td>0.47</td></tr><tr><th>11</th><td>(1990-91)</td><td>LAL</td><td>108</td><td>104</td><td>4</td><td>LAL</td><td>3343</td><td>6911</td><td>0.48</td></tr><tr><th>12</th><td>(1990-91)</td><td>MIL</td><td>97</td><td>87</td><td>10</td><td>MIL</td><td>3337</td><td>6948</td><td>0.48</td></tr><tr><th>13</th><td>(1990-91)</td><td>NYK</td><td>135</td><td>108</td><td>27</td><td>NYK</td><td>3308</td><td>6822</td><td>0.48</td></tr><tr><th>14</th><td>(1990-91)</td><td>ORL</td><td>110</td><td>108</td><td>2</td><td>ORL</td><td>3298</td><td>7256</td><td>0.45</td></tr><tr><th>15</th><td>(1990-91)</td><td>SAC</td><td>131</td><td>113</td><td>18</td><td>SAC</td><td>3086</td><td>6818</td><td>0.45</td></tr><tr><th>16</th><td>(1990-91)</td><td>WAS</td><td>118</td><td>108</td><td>10</td><td>WAS</td><td>3390</td><td>7268</td><td>0.47</td></tr><tr><th>17</th><td>(1990-91)</td><td>ATL</td><td>111</td><td>96</td><td>15</td><td>ATL</td><td>3349</td><td>7223</td><td>0.46</td></tr><tr><th>18</th><td>(1990-91)</td><td>BOS</td><td>132</td><td>103</td><td>29</td><td>BOS</td><td>3695</td><td>7214</td><td>0.51</td></tr><tr><th>19</th><td>(1990-91)</td><td>DET</td><td>98</td><td>94</td><td>4</td><td>DET</td><td>3194</td><td>6875</td><td>0.46</td></tr><tr><th>20</th><td>(1990-91)</td><td>GSW</td><td>115</td><td>99</td><td>16</td><td>GSW</td><td>3566</td><td>7346</td><td>0.49</td></tr><tr><th>21</th><td>(1990-91)</td><td>SAS</td><td>93</td><td>89</td><td>4</td><td>SAS</td><td>3409</td><td>6988</td><td>0.49</td></tr><tr><th>22</th><td>(1990-91)</td><td>SEA</td><td>112</td><td>86</td><td>26</td><td>SEA</td><td>3500</td><td>7117</td><td>0.49</td></tr><tr><th>23</th><td>(1990-91)</td><td>UTA</td><td>102</td><td>99</td><td>3</td><td>UTA</td><td>3214</td><td>6537</td><td>0.49</td></tr><tr><th>24</th><td>(1990-91)</td><td>WAS</td><td>111</td><td>100</td><td>11</td><td>WAS</td><td>3390</td><td>7268</td><td>0.47</td></tr><tr><th>25</th><td>(1990-91)</td><td>ATL</td><td>117</td><td>112</td><td>5</td><td>ATL</td><td>3349</td><td>7223</td><td>0.46</td></tr><tr><th>26</th><td>(1990-91)</td><td>CHA</td><td>111</td><td>103</td><td>8</td><td>CHA</td><td>3286</td><td>7033</td><td>0.47</td></tr><tr><th>27</th><td>(1990-91)</td><td>CHI</td><td>108</td><td>92</td><td>16</td><td>CHI</td><td>3632</td><td>7125</td><td>0.51</td></tr><tr><th>28</th><td>(1990-91)</td><td>DET</td><td>99</td><td>83</td><td>16</td><td>DET</td><td>3194</td><td>6875</td><td>0.46</td></tr><tr><th>29</th><td>(1990-91)</td><td>HOU</td><td>112</td><td>99</td><td>13</td><td>HOU</td><td>3403</td><td>7287</td><td>0.47</td></tr><tr><th>30</th><td>(1990-91)</td><td>MIL</td><td>88</td><td>86</td><td>2</td><td>MIL</td><td>3337</td><td>6948</td><td>0.48</td></tr><tr><th>&vellip;</th><td>&vellip;</td><td>&vellip;</td><td>&vellip;</td><td>&vellip;</td><td>&vellip;</td><td>&vellip;</td><td>&vellip;</td><td>&vellip;</td><td>&vellip;</td></tr></tbody></table>"
      ],
      "text/latex": [
       "\\begin{tabular}{r|cccccccccc}\n",
       "\t& Season & teamWinAbr & winScore & loseScore & Margin & Team & FGM & FGA & FG\\% & \\\\\n",
       "\t\\hline\n",
       "\t& String & String & Int64 & Int64 & Int64 & String & Int64 & Int64 & Float64 & \\\\\n",
       "\t\\hline\n",
       "\t1 & (1990-91) & ATL & 120 & 107 & 13 & ATL & 3349 & 7223 & 0.46 & $\\dots$ \\\\\n",
       "\t2 & (1990-91) & BOS & 113 & 86 & 27 & BOS & 3695 & 7214 & 0.51 & $\\dots$ \\\\\n",
       "\t3 & (1990-91) & DET & 118 & 107 & 11 & DET & 3194 & 6875 & 0.46 & $\\dots$ \\\\\n",
       "\t4 & (1990-91) & IND & 121 & 109 & 12 & IND & 3450 & 6994 & 0.49 & $\\dots$ \\\\\n",
       "\t5 & (1990-91) & MIL & 106 & 91 & 15 & MIL & 3337 & 6948 & 0.48 & $\\dots$ \\\\\n",
       "\t6 & (1990-91) & MIN & 115 & 95 & 20 & MIN & 3265 & 7276 & 0.45 & $\\dots$ \\\\\n",
       "\t7 & (1990-91) & PHO & 105 & 83 & 22 & PHO & 3573 & 7199 & 0.5 & $\\dots$ \\\\\n",
       "\t8 & (1990-91) & SEA & 127 & 99 & 28 & SEA & 3500 & 7117 & 0.49 & $\\dots$ \\\\\n",
       "\t9 & (1990-91) & UTA & 112 & 104 & 8 & UTA & 3214 & 6537 & 0.49 & $\\dots$ \\\\\n",
       "\t10 & (1990-91) & HOU & 114 & 92 & 22 & HOU & 3403 & 7287 & 0.47 & $\\dots$ \\\\\n",
       "\t11 & (1990-91) & LAL & 108 & 104 & 4 & LAL & 3343 & 6911 & 0.48 & $\\dots$ \\\\\n",
       "\t12 & (1990-91) & MIL & 97 & 87 & 10 & MIL & 3337 & 6948 & 0.48 & $\\dots$ \\\\\n",
       "\t13 & (1990-91) & NYK & 135 & 108 & 27 & NYK & 3308 & 6822 & 0.48 & $\\dots$ \\\\\n",
       "\t14 & (1990-91) & ORL & 110 & 108 & 2 & ORL & 3298 & 7256 & 0.45 & $\\dots$ \\\\\n",
       "\t15 & (1990-91) & SAC & 131 & 113 & 18 & SAC & 3086 & 6818 & 0.45 & $\\dots$ \\\\\n",
       "\t16 & (1990-91) & WAS & 118 & 108 & 10 & WAS & 3390 & 7268 & 0.47 & $\\dots$ \\\\\n",
       "\t17 & (1990-91) & ATL & 111 & 96 & 15 & ATL & 3349 & 7223 & 0.46 & $\\dots$ \\\\\n",
       "\t18 & (1990-91) & BOS & 132 & 103 & 29 & BOS & 3695 & 7214 & 0.51 & $\\dots$ \\\\\n",
       "\t19 & (1990-91) & DET & 98 & 94 & 4 & DET & 3194 & 6875 & 0.46 & $\\dots$ \\\\\n",
       "\t20 & (1990-91) & GSW & 115 & 99 & 16 & GSW & 3566 & 7346 & 0.49 & $\\dots$ \\\\\n",
       "\t21 & (1990-91) & SAS & 93 & 89 & 4 & SAS & 3409 & 6988 & 0.49 & $\\dots$ \\\\\n",
       "\t22 & (1990-91) & SEA & 112 & 86 & 26 & SEA & 3500 & 7117 & 0.49 & $\\dots$ \\\\\n",
       "\t23 & (1990-91) & UTA & 102 & 99 & 3 & UTA & 3214 & 6537 & 0.49 & $\\dots$ \\\\\n",
       "\t24 & (1990-91) & WAS & 111 & 100 & 11 & WAS & 3390 & 7268 & 0.47 & $\\dots$ \\\\\n",
       "\t25 & (1990-91) & ATL & 117 & 112 & 5 & ATL & 3349 & 7223 & 0.46 & $\\dots$ \\\\\n",
       "\t26 & (1990-91) & CHA & 111 & 103 & 8 & CHA & 3286 & 7033 & 0.47 & $\\dots$ \\\\\n",
       "\t27 & (1990-91) & CHI & 108 & 92 & 16 & CHI & 3632 & 7125 & 0.51 & $\\dots$ \\\\\n",
       "\t28 & (1990-91) & DET & 99 & 83 & 16 & DET & 3194 & 6875 & 0.46 & $\\dots$ \\\\\n",
       "\t29 & (1990-91) & HOU & 112 & 99 & 13 & HOU & 3403 & 7287 & 0.47 & $\\dots$ \\\\\n",
       "\t30 & (1990-91) & MIL & 88 & 86 & 2 & MIL & 3337 & 6948 & 0.48 & $\\dots$ \\\\\n",
       "\t$\\dots$ & $\\dots$ & $\\dots$ & $\\dots$ & $\\dots$ & $\\dots$ & $\\dots$ & $\\dots$ & $\\dots$ & $\\dots$ &  \\\\\n",
       "\\end{tabular}\n"
      ],
      "text/plain": [
       "34064×114 DataFrame. Omitted printing of 108 columns\n",
       "│ Row   │ Season    │ teamWinAbr │ winScore │ loseScore │ Margin │ Team   │\n",
       "│       │ \u001b[90mString\u001b[39m    │ \u001b[90mString\u001b[39m     │ \u001b[90mInt64\u001b[39m    │ \u001b[90mInt64\u001b[39m     │ \u001b[90mInt64\u001b[39m  │ \u001b[90mString\u001b[39m │\n",
       "├───────┼───────────┼────────────┼──────────┼───────────┼────────┼────────┤\n",
       "│ 1     │ (1990-91) │ ATL        │ 120      │ 107       │ 13     │ ATL    │\n",
       "│ 2     │ (1990-91) │ BOS        │ 113      │ 86        │ 27     │ BOS    │\n",
       "│ 3     │ (1990-91) │ DET        │ 118      │ 107       │ 11     │ DET    │\n",
       "│ 4     │ (1990-91) │ IND        │ 121      │ 109       │ 12     │ IND    │\n",
       "│ 5     │ (1990-91) │ MIL        │ 106      │ 91        │ 15     │ MIL    │\n",
       "│ 6     │ (1990-91) │ MIN        │ 115      │ 95        │ 20     │ MIN    │\n",
       "│ 7     │ (1990-91) │ PHO        │ 105      │ 83        │ 22     │ PHO    │\n",
       "│ 8     │ (1990-91) │ SEA        │ 127      │ 99        │ 28     │ SEA    │\n",
       "│ 9     │ (1990-91) │ UTA        │ 112      │ 104       │ 8      │ UTA    │\n",
       "│ 10    │ (1990-91) │ HOU        │ 114      │ 92        │ 22     │ HOU    │\n",
       "⋮\n",
       "│ 34054 │ (2019-20) │ MIL        │ 123      │ 102       │ 21     │ MIL    │\n",
       "│ 34055 │ (2019-20) │ BRO        │ 115      │ 122       │ -7     │ BRO    │\n",
       "│ 34056 │ (2019-20) │ DET        │ 81       │ 104       │ -23    │ DET    │\n",
       "│ 34057 │ (2019-20) │ PHO        │ 122      │ 116       │ 6      │ PHO    │\n",
       "│ 34058 │ (2019-20) │ BOS        │ 109      │ 92        │ 17     │ BOS    │\n",
       "│ 34059 │ (2019-20) │ PHI        │ 97       │ 115       │ -18    │ PHI    │\n",
       "│ 34060 │ (2019-20) │ LAC        │ 105      │ 87        │ 18     │ LAC    │\n",
       "│ 34061 │ (2019-20) │ DEN        │ 104      │ 130       │ -26    │ DEN    │\n",
       "│ 34062 │ (2019-20) │ GSW        │ 113      │ 117       │ -4     │ GSW    │\n",
       "│ 34063 │ (2019-20) │ CLE        │ 97       │ 117       │ -20    │ CLE    │\n",
       "│ 34064 │ (2019-20) │ DAL        │ 101      │ 106       │ -5     │ DAL    │"
      ]
     },
     "execution_count": 28,
     "metadata": {},
     "output_type": "execute_result"
    }
   ],
   "source": [
    "# Let's build a prediction for the entire set of games and test it's accuracy\n",
    "# Build Initial Dataframe\n",
    "results_fullTeamDF = join(results, fullTeamDF, on = [:Y => :nextYr, :teamWin => :Franchise], kind = :left, makeunique = true)\n",
    "results_fullTeamDF = join(results_fullTeamDF, fullTeamDF, on = [:Y => :nextYr, :teamWin => :Franchise], kind = :left, makeunique = true)\n",
    "deletecols!(results_fullTeamDF, [:League, :League_1, :League_2, :League_3, :Y_1, :Y_2, :Country, :City, :coachWin, :coachLose, :teamWin, :teamLose, :teamLoseAbr, :D, :M, :Y, :G])\n",
    "results_fullTeamDF = dropmissing(results_fullTeamDF)\n",
    "finalDF = results_fullTeamDF\n",
    "finalDF"
   ]
  },
  {
   "cell_type": "code",
   "execution_count": 29,
   "metadata": {},
   "outputs": [
    {
     "data": {
      "text/html": [
       "<table class=\"data-frame\"><thead><tr><th></th><th>Season</th><th>predictedWin_DT</th><th>predictedWin_RF</th><th>teamWinAbr</th><th>winScore</th><th>loseScore</th><th>Margin</th></tr><tr><th></th><th>String</th><th>String</th><th>String</th><th>String</th><th>Int64</th><th>Int64</th><th>Int64</th></tr></thead><tbody><p>34,064 rows × 116 columns (omitted printing of 109 columns)</p><tr><th>1</th><td>(1990-91)</td><td>ATL</td><td>ATL</td><td>ATL</td><td>120</td><td>107</td><td>13</td></tr><tr><th>2</th><td>(1990-91)</td><td>BOS</td><td>BOS</td><td>BOS</td><td>113</td><td>86</td><td>27</td></tr><tr><th>3</th><td>(1990-91)</td><td>DET</td><td>DET</td><td>DET</td><td>118</td><td>107</td><td>11</td></tr><tr><th>4</th><td>(1990-91)</td><td>IND</td><td>IND</td><td>IND</td><td>121</td><td>109</td><td>12</td></tr><tr><th>5</th><td>(1990-91)</td><td>MIL</td><td>MIL</td><td>MIL</td><td>106</td><td>91</td><td>15</td></tr><tr><th>6</th><td>(1990-91)</td><td>MIN</td><td>MIN</td><td>MIN</td><td>115</td><td>95</td><td>20</td></tr><tr><th>7</th><td>(1990-91)</td><td>PHO</td><td>PHO</td><td>PHO</td><td>105</td><td>83</td><td>22</td></tr><tr><th>8</th><td>(1990-91)</td><td>SEA</td><td>SEA</td><td>SEA</td><td>127</td><td>99</td><td>28</td></tr><tr><th>9</th><td>(1990-91)</td><td>UTA</td><td>UTA</td><td>UTA</td><td>112</td><td>104</td><td>8</td></tr><tr><th>10</th><td>(1990-91)</td><td>HOU</td><td>HOU</td><td>HOU</td><td>114</td><td>92</td><td>22</td></tr><tr><th>11</th><td>(1990-91)</td><td>LAL</td><td>LAL</td><td>LAL</td><td>108</td><td>104</td><td>4</td></tr><tr><th>12</th><td>(1990-91)</td><td>MIL</td><td>MIL</td><td>MIL</td><td>97</td><td>87</td><td>10</td></tr><tr><th>13</th><td>(1990-91)</td><td>NYK</td><td>NYK</td><td>NYK</td><td>135</td><td>108</td><td>27</td></tr><tr><th>14</th><td>(1990-91)</td><td>ORL</td><td>ORL</td><td>ORL</td><td>110</td><td>108</td><td>2</td></tr><tr><th>15</th><td>(1990-91)</td><td>SAC</td><td>SAC</td><td>SAC</td><td>131</td><td>113</td><td>18</td></tr><tr><th>16</th><td>(1990-91)</td><td>WAS</td><td>WAS</td><td>WAS</td><td>118</td><td>108</td><td>10</td></tr><tr><th>17</th><td>(1990-91)</td><td>ATL</td><td>ATL</td><td>ATL</td><td>111</td><td>96</td><td>15</td></tr><tr><th>18</th><td>(1990-91)</td><td>BOS</td><td>BOS</td><td>BOS</td><td>132</td><td>103</td><td>29</td></tr><tr><th>19</th><td>(1990-91)</td><td>DET</td><td>DET</td><td>DET</td><td>98</td><td>94</td><td>4</td></tr><tr><th>20</th><td>(1990-91)</td><td>GSW</td><td>GSW</td><td>GSW</td><td>115</td><td>99</td><td>16</td></tr><tr><th>21</th><td>(1990-91)</td><td>SAS</td><td>SAS</td><td>SAS</td><td>93</td><td>89</td><td>4</td></tr><tr><th>22</th><td>(1990-91)</td><td>SEA</td><td>SEA</td><td>SEA</td><td>112</td><td>86</td><td>26</td></tr><tr><th>23</th><td>(1990-91)</td><td>UTA</td><td>UTA</td><td>UTA</td><td>102</td><td>99</td><td>3</td></tr><tr><th>24</th><td>(1990-91)</td><td>WAS</td><td>WAS</td><td>WAS</td><td>111</td><td>100</td><td>11</td></tr><tr><th>25</th><td>(1990-91)</td><td>ATL</td><td>ATL</td><td>ATL</td><td>117</td><td>112</td><td>5</td></tr><tr><th>26</th><td>(1990-91)</td><td>CHA</td><td>CHA</td><td>CHA</td><td>111</td><td>103</td><td>8</td></tr><tr><th>27</th><td>(1990-91)</td><td>CHI</td><td>CHI</td><td>CHI</td><td>108</td><td>92</td><td>16</td></tr><tr><th>28</th><td>(1990-91)</td><td>DET</td><td>DET</td><td>DET</td><td>99</td><td>83</td><td>16</td></tr><tr><th>29</th><td>(1990-91)</td><td>HOU</td><td>HOU</td><td>HOU</td><td>112</td><td>99</td><td>13</td></tr><tr><th>30</th><td>(1990-91)</td><td>MIL</td><td>MIL</td><td>MIL</td><td>88</td><td>86</td><td>2</td></tr><tr><th>&vellip;</th><td>&vellip;</td><td>&vellip;</td><td>&vellip;</td><td>&vellip;</td><td>&vellip;</td><td>&vellip;</td><td>&vellip;</td></tr></tbody></table>"
      ],
      "text/latex": [
       "\\begin{tabular}{r|cccccccc}\n",
       "\t& Season & predictedWin\\_DT & predictedWin\\_RF & teamWinAbr & winScore & loseScore & Margin & \\\\\n",
       "\t\\hline\n",
       "\t& String & String & String & String & Int64 & Int64 & Int64 & \\\\\n",
       "\t\\hline\n",
       "\t1 & (1990-91) & ATL & ATL & ATL & 120 & 107 & 13 & $\\dots$ \\\\\n",
       "\t2 & (1990-91) & BOS & BOS & BOS & 113 & 86 & 27 & $\\dots$ \\\\\n",
       "\t3 & (1990-91) & DET & DET & DET & 118 & 107 & 11 & $\\dots$ \\\\\n",
       "\t4 & (1990-91) & IND & IND & IND & 121 & 109 & 12 & $\\dots$ \\\\\n",
       "\t5 & (1990-91) & MIL & MIL & MIL & 106 & 91 & 15 & $\\dots$ \\\\\n",
       "\t6 & (1990-91) & MIN & MIN & MIN & 115 & 95 & 20 & $\\dots$ \\\\\n",
       "\t7 & (1990-91) & PHO & PHO & PHO & 105 & 83 & 22 & $\\dots$ \\\\\n",
       "\t8 & (1990-91) & SEA & SEA & SEA & 127 & 99 & 28 & $\\dots$ \\\\\n",
       "\t9 & (1990-91) & UTA & UTA & UTA & 112 & 104 & 8 & $\\dots$ \\\\\n",
       "\t10 & (1990-91) & HOU & HOU & HOU & 114 & 92 & 22 & $\\dots$ \\\\\n",
       "\t11 & (1990-91) & LAL & LAL & LAL & 108 & 104 & 4 & $\\dots$ \\\\\n",
       "\t12 & (1990-91) & MIL & MIL & MIL & 97 & 87 & 10 & $\\dots$ \\\\\n",
       "\t13 & (1990-91) & NYK & NYK & NYK & 135 & 108 & 27 & $\\dots$ \\\\\n",
       "\t14 & (1990-91) & ORL & ORL & ORL & 110 & 108 & 2 & $\\dots$ \\\\\n",
       "\t15 & (1990-91) & SAC & SAC & SAC & 131 & 113 & 18 & $\\dots$ \\\\\n",
       "\t16 & (1990-91) & WAS & WAS & WAS & 118 & 108 & 10 & $\\dots$ \\\\\n",
       "\t17 & (1990-91) & ATL & ATL & ATL & 111 & 96 & 15 & $\\dots$ \\\\\n",
       "\t18 & (1990-91) & BOS & BOS & BOS & 132 & 103 & 29 & $\\dots$ \\\\\n",
       "\t19 & (1990-91) & DET & DET & DET & 98 & 94 & 4 & $\\dots$ \\\\\n",
       "\t20 & (1990-91) & GSW & GSW & GSW & 115 & 99 & 16 & $\\dots$ \\\\\n",
       "\t21 & (1990-91) & SAS & SAS & SAS & 93 & 89 & 4 & $\\dots$ \\\\\n",
       "\t22 & (1990-91) & SEA & SEA & SEA & 112 & 86 & 26 & $\\dots$ \\\\\n",
       "\t23 & (1990-91) & UTA & UTA & UTA & 102 & 99 & 3 & $\\dots$ \\\\\n",
       "\t24 & (1990-91) & WAS & WAS & WAS & 111 & 100 & 11 & $\\dots$ \\\\\n",
       "\t25 & (1990-91) & ATL & ATL & ATL & 117 & 112 & 5 & $\\dots$ \\\\\n",
       "\t26 & (1990-91) & CHA & CHA & CHA & 111 & 103 & 8 & $\\dots$ \\\\\n",
       "\t27 & (1990-91) & CHI & CHI & CHI & 108 & 92 & 16 & $\\dots$ \\\\\n",
       "\t28 & (1990-91) & DET & DET & DET & 99 & 83 & 16 & $\\dots$ \\\\\n",
       "\t29 & (1990-91) & HOU & HOU & HOU & 112 & 99 & 13 & $\\dots$ \\\\\n",
       "\t30 & (1990-91) & MIL & MIL & MIL & 88 & 86 & 2 & $\\dots$ \\\\\n",
       "\t$\\dots$ & $\\dots$ & $\\dots$ & $\\dots$ & $\\dots$ & $\\dots$ & $\\dots$ & $\\dots$ &  \\\\\n",
       "\\end{tabular}\n"
      ],
      "text/plain": [
       "34064×116 DataFrame. Omitted printing of 112 columns\n",
       "│ Row   │ Season    │ predictedWin_DT │ predictedWin_RF │ teamWinAbr │\n",
       "│       │ \u001b[90mString\u001b[39m    │ \u001b[90mString\u001b[39m          │ \u001b[90mString\u001b[39m          │ \u001b[90mString\u001b[39m     │\n",
       "├───────┼───────────┼─────────────────┼─────────────────┼────────────┤\n",
       "│ 1     │ (1990-91) │ ATL             │ ATL             │ ATL        │\n",
       "│ 2     │ (1990-91) │ BOS             │ BOS             │ BOS        │\n",
       "│ 3     │ (1990-91) │ DET             │ DET             │ DET        │\n",
       "│ 4     │ (1990-91) │ IND             │ IND             │ IND        │\n",
       "│ 5     │ (1990-91) │ MIL             │ MIL             │ MIL        │\n",
       "│ 6     │ (1990-91) │ MIN             │ MIN             │ MIN        │\n",
       "│ 7     │ (1990-91) │ PHO             │ PHO             │ PHO        │\n",
       "│ 8     │ (1990-91) │ SEA             │ SEA             │ SEA        │\n",
       "│ 9     │ (1990-91) │ UTA             │ UTA             │ UTA        │\n",
       "│ 10    │ (1990-91) │ HOU             │ HOU             │ HOU        │\n",
       "⋮\n",
       "│ 34054 │ (2019-20) │ MIL             │ MIL             │ MIL        │\n",
       "│ 34055 │ (2019-20) │ BRO             │ BRO             │ BRO        │\n",
       "│ 34056 │ (2019-20) │ DET             │ DET             │ DET        │\n",
       "│ 34057 │ (2019-20) │ PHO             │ PHO             │ PHO        │\n",
       "│ 34058 │ (2019-20) │ BOS             │ BOS             │ BOS        │\n",
       "│ 34059 │ (2019-20) │ PHI             │ PHI             │ PHI        │\n",
       "│ 34060 │ (2019-20) │ LAC             │ LAC             │ LAC        │\n",
       "│ 34061 │ (2019-20) │ DEN             │ DEN             │ DEN        │\n",
       "│ 34062 │ (2019-20) │ GSW             │ GSW             │ GSW        │\n",
       "│ 34063 │ (2019-20) │ CLE             │ CLE             │ CLE        │\n",
       "│ 34064 │ (2019-20) │ DAL             │ DAL             │ DAL        │"
      ]
     },
     "execution_count": 29,
     "metadata": {},
     "output_type": "execute_result"
    }
   ],
   "source": [
    "using DecisionTree\n",
    "X = convert(Array, finalDF[:, 6:114])\n",
    "y = convert(Array, finalDF[:, 2]) \n",
    "dectree_pred = DecisionTree.predict(model, X)\n",
    "rf_pred = DecisionTree.predict(rf, X)\n",
    "insert!(finalDF, 2, 0, :predictedWin_RF)\n",
    "finalDF = @transform(finalDF, predictedWin_RF = rf_pred)\n",
    "insert!(finalDF, 2, 0, :predictedWin_DT)\n",
    "finalDF = @transform(finalDF, predictedWin_DT = dectree_pred)"
   ]
  },
  {
   "cell_type": "code",
   "execution_count": 30,
   "metadata": {},
   "outputs": [
    {
     "name": "stdout",
     "output_type": "stream",
     "text": [
      "0.9774835603569751\n"
     ]
    }
   ],
   "source": [
    "# Test Decision Tree Accuracy\n",
    "correct = 0\n",
    "n =length(y)\n",
    "for i in 1:n\n",
    "    if y[i] == dectree_pred[i]\n",
    "        correct = correct + 1\n",
    "    end\n",
    "end\n",
    "println(correct/n) #97.75% accurate"
   ]
  },
  {
   "cell_type": "code",
   "execution_count": 31,
   "metadata": {},
   "outputs": [
    {
     "name": "stdout",
     "output_type": "stream",
     "text": [
      "0.9985615312353218\n"
     ]
    }
   ],
   "source": [
    "# Test Random Forest Accuracy\n",
    "correct = 0\n",
    "n =length(y)\n",
    "for i in 1:n\n",
    "    if y[i] == rf_pred[i]\n",
    "        correct = correct + 1\n",
    "    end\n",
    "end\n",
    "println(correct/n) #99.87% accurate"
   ]
  },
  {
   "cell_type": "code",
   "execution_count": 32,
   "metadata": {},
   "outputs": [
    {
     "data": {
      "text/plain": [
       "\"data/fullPredictiveData.csv\""
      ]
     },
     "execution_count": 32,
     "metadata": {},
     "output_type": "execute_result"
    }
   ],
   "source": [
    "# Extract dataframe\n",
    "CSV.write(\"data/fullPredictiveData.csv\", finalDF)"
   ]
  },
  {
   "cell_type": "code",
   "execution_count": 33,
   "metadata": {},
   "outputs": [],
   "source": [
    "using JLD2\n",
    "@save \"model_file.jld2\" model\n",
    "@save \"model_file.jld2\" rf"
   ]
  },
  {
   "cell_type": "markdown",
   "metadata": {},
   "source": [
    "## Step 5 - Make Prediction for Opening Week\n",
    "\n",
    "Based on the results of the regressions we will only use the Decision Tree and Random Forest models"
   ]
  },
  {
   "cell_type": "code",
   "execution_count": 73,
   "metadata": {},
   "outputs": [
    {
     "data": {
      "text/html": [
       "<table class=\"data-frame\"><thead><tr><th></th><th>TeamA</th><th>TeamB</th></tr><tr><th></th><th>String</th><th>String</th></tr></thead><tbody><p>40 rows × 2 columns</p><tr><th>1</th><td>GSW</td><td>BRO</td></tr><tr><th>2</th><td>LAC</td><td>LAL</td></tr><tr><th>3</th><td>CHA</td><td>CLE</td></tr><tr><th>4</th><td>NYK</td><td>IND</td></tr><tr><th>5</th><td>MIA</td><td>ORL</td></tr><tr><th>6</th><td>WAS</td><td>PHI</td></tr><tr><th>7</th><td>MIL</td><td>BOS</td></tr><tr><th>8</th><td>NOP</td><td>TOR</td></tr><tr><th>9</th><td>ATL</td><td>CHI</td></tr><tr><th>10</th><td>OCT</td><td>HOU</td></tr><tr><th>11</th><td>SAS</td><td>MEM</td></tr><tr><th>12</th><td>DET</td><td>MIN</td></tr><tr><th>13</th><td>SAC</td><td>DEN</td></tr><tr><th>14</th><td>UTA</td><td>POR</td></tr><tr><th>15</th><td>DAL</td><td>PHO</td></tr><tr><th>16</th><td>NOP</td><td>MIA</td></tr><tr><th>17</th><td>GSW</td><td>MIL</td></tr><tr><th>18</th><td>BRO</td><td>BOS</td></tr><tr><th>19</th><td>DAL</td><td>LAL</td></tr><tr><th>20</th><td>LAC</td><td>DEN</td></tr><tr><th>21</th><td>ATL</td><td>MEM</td></tr><tr><th>22</th><td>OCT</td><td>CHA</td></tr><tr><th>23</th><td>CLE</td><td>DET</td></tr><tr><th>24</th><td>ORL</td><td>WAS</td></tr><tr><th>25</th><td>PHI</td><td>NYK</td></tr><tr><th>26</th><td>IND</td><td>CHI</td></tr><tr><th>27</th><td>TOR</td><td>SAS</td></tr><tr><th>28</th><td>MIN</td><td>UTA</td></tr><tr><th>29</th><td>HOU</td><td>POR</td></tr><tr><th>30</th><td>PHO</td><td>SAC</td></tr><tr><th>&vellip;</th><td>&vellip;</td><td>&vellip;</td></tr></tbody></table>"
      ],
      "text/latex": [
       "\\begin{tabular}{r|cc}\n",
       "\t& TeamA & TeamB\\\\\n",
       "\t\\hline\n",
       "\t& String & String\\\\\n",
       "\t\\hline\n",
       "\t1 & GSW & BRO \\\\\n",
       "\t2 & LAC & LAL \\\\\n",
       "\t3 & CHA & CLE \\\\\n",
       "\t4 & NYK & IND \\\\\n",
       "\t5 & MIA & ORL \\\\\n",
       "\t6 & WAS & PHI \\\\\n",
       "\t7 & MIL & BOS \\\\\n",
       "\t8 & NOP & TOR \\\\\n",
       "\t9 & ATL & CHI \\\\\n",
       "\t10 & OCT & HOU \\\\\n",
       "\t11 & SAS & MEM \\\\\n",
       "\t12 & DET & MIN \\\\\n",
       "\t13 & SAC & DEN \\\\\n",
       "\t14 & UTA & POR \\\\\n",
       "\t15 & DAL & PHO \\\\\n",
       "\t16 & NOP & MIA \\\\\n",
       "\t17 & GSW & MIL \\\\\n",
       "\t18 & BRO & BOS \\\\\n",
       "\t19 & DAL & LAL \\\\\n",
       "\t20 & LAC & DEN \\\\\n",
       "\t21 & ATL & MEM \\\\\n",
       "\t22 & OCT & CHA \\\\\n",
       "\t23 & CLE & DET \\\\\n",
       "\t24 & ORL & WAS \\\\\n",
       "\t25 & PHI & NYK \\\\\n",
       "\t26 & IND & CHI \\\\\n",
       "\t27 & TOR & SAS \\\\\n",
       "\t28 & MIN & UTA \\\\\n",
       "\t29 & HOU & POR \\\\\n",
       "\t30 & PHO & SAC \\\\\n",
       "\t$\\dots$ & $\\dots$ & $\\dots$ \\\\\n",
       "\\end{tabular}\n"
      ],
      "text/plain": [
       "40×2 DataFrame\n",
       "│ Row │ TeamA  │ TeamB  │\n",
       "│     │ \u001b[90mString\u001b[39m │ \u001b[90mString\u001b[39m │\n",
       "├─────┼────────┼────────┤\n",
       "│ 1   │ GSW    │ BRO    │\n",
       "│ 2   │ LAC    │ LAL    │\n",
       "│ 3   │ CHA    │ CLE    │\n",
       "│ 4   │ NYK    │ IND    │\n",
       "│ 5   │ MIA    │ ORL    │\n",
       "│ 6   │ WAS    │ PHI    │\n",
       "│ 7   │ MIL    │ BOS    │\n",
       "│ 8   │ NOP    │ TOR    │\n",
       "│ 9   │ ATL    │ CHI    │\n",
       "│ 10  │ OCT    │ HOU    │\n",
       "⋮\n",
       "│ 30  │ PHO    │ SAC    │\n",
       "│ 31  │ DAL    │ LAC    │\n",
       "│ 32  │ BRO    │ CHA    │\n",
       "│ 33  │ ORL    │ WAS    │\n",
       "│ 34  │ SAS    │ NOP    │\n",
       "│ 35  │ PHI    │ CLE    │\n",
       "│ 36  │ MIL    │ NYK    │\n",
       "│ 37  │ BOS    │ IND    │\n",
       "│ 38  │ GSW    │ CHI    │\n",
       "│ 39  │ PHO    │ SAC    │\n",
       "│ 40  │ MIN    │ LAL    │"
      ]
     },
     "execution_count": 73,
     "metadata": {},
     "output_type": "execute_result"
    }
   ],
   "source": [
    "# Opening Week Matchups\n",
    "using CSV, DataFrames\n",
    "openingWeek = CSV.read(\"data/week1Matchups.csv\", DataFrame)"
   ]
  },
  {
   "cell_type": "code",
   "execution_count": 74,
   "metadata": {},
   "outputs": [
    {
     "ename": "LoadError",
     "evalue": "ArgumentError: column name :Franchise not found in the data frame",
     "output_type": "error",
     "traceback": [
      "ArgumentError: column name :Franchise not found in the data frame",
      "",
      "Stacktrace:",
      " [1] lookupname at /Users/tjsmith99/.julia/packages/DataFrames/GtZ1l/src/other/index.jl:286 [inlined]",
      " [2] getindex at /Users/tjsmith99/.julia/packages/DataFrames/GtZ1l/src/other/index.jl:295 [inlined]",
      " [3] getindex at /Users/tjsmith99/.julia/packages/DataFrames/GtZ1l/src/other/index.jl:217 [inlined]",
      " [4] manipulate(::DataFrame, ::InvertedIndex{Symbol}; copycols::Bool, keeprows::Bool) at /Users/tjsmith99/.julia/packages/DataFrames/GtZ1l/src/abstractdataframe/selection.jl:550",
      " [5] #select#296 at /Users/tjsmith99/.julia/packages/DataFrames/GtZ1l/src/abstractdataframe/selection.jl:493 [inlined]",
      " [6] select!(::DataFrame, ::InvertedIndex{Symbol}) at /Users/tjsmith99/.julia/packages/DataFrames/GtZ1l/src/abstractdataframe/selection.jl:359",
      " [7] deletecols!(::DataFrame, ::Symbol) at ./deprecated.jl:72",
      " [8] top-level scope at In[74]:1",
      " [9] include_string(::Function, ::Module, ::String, ::String) at ./loading.jl:1091"
     ]
    }
   ],
   "source": [
    "deletecols!(predStats, :Franchise)\n",
    "predStats"
   ]
  },
  {
   "cell_type": "code",
   "execution_count": 75,
   "metadata": {},
   "outputs": [
    {
     "data": {
      "text/html": [
       "<table class=\"data-frame\"><thead><tr><th></th><th>Team</th><th>Team_1</th><th>FGM</th><th>FGA</th><th>FG%</th><th>3FGM</th><th>3FGA</th><th>3FG%</th><th>FTM</th><th>FTA</th><th>FT%</th></tr><tr><th></th><th>String</th><th>String</th><th>Int64</th><th>Int64</th><th>Float64</th><th>Int64</th><th>Int64</th><th>Float64</th><th>Int64</th><th>Int64</th><th>Float64</th></tr></thead><tbody><p>40 rows × 109 columns (omitted printing of 98 columns)</p><tr><th>1</th><td>GSW</td><td>BRO</td><td>2510</td><td>5730</td><td>0.44</td><td>678</td><td>2032</td><td>0.33</td><td>1214</td><td>1511</td><td>0.8</td></tr><tr><th>2</th><td>LAC</td><td>LAL</td><td>2992</td><td>6425</td><td>0.47</td><td>895</td><td>2410</td><td>0.37</td><td>1498</td><td>1894</td><td>0.79</td></tr><tr><th>3</th><td>CHA</td><td>CLE</td><td>2425</td><td>5586</td><td>0.43</td><td>785</td><td>2231</td><td>0.35</td><td>1052</td><td>1406</td><td>0.75</td></tr><tr><th>4</th><td>NYK</td><td>IND</td><td>2638</td><td>5896</td><td>0.45</td><td>631</td><td>1872</td><td>0.34</td><td>1076</td><td>1550</td><td>0.69</td></tr><tr><th>5</th><td>MIA</td><td>ORL</td><td>2880</td><td>6160</td><td>0.47</td><td>979</td><td>2584</td><td>0.38</td><td>1440</td><td>1840</td><td>0.78</td></tr><tr><th>6</th><td>WAS</td><td>PHI</td><td>2990</td><td>6544</td><td>0.46</td><td>864</td><td>2345</td><td>0.37</td><td>1394</td><td>1770</td><td>0.79</td></tr><tr><th>7</th><td>MIL</td><td>BOS</td><td>3160</td><td>6638</td><td>0.48</td><td>1007</td><td>2840</td><td>0.35</td><td>1336</td><td>1800</td><td>0.74</td></tr><tr><th>8</th><td>NOP</td><td>TOR</td><td>3065</td><td>6598</td><td>0.46</td><td>982</td><td>2656</td><td>0.37</td><td>1229</td><td>1687</td><td>0.73</td></tr><tr><th>9</th><td>ATL</td><td>CHI</td><td>2723</td><td>6067</td><td>0.45</td><td>805</td><td>2416</td><td>0.33</td><td>1237</td><td>1566</td><td>0.79</td></tr><tr><th>10</th><td>OCT</td><td>HOU</td><td>2879</td><td>6156</td><td>0.47</td><td>770</td><td>2171</td><td>0.35</td><td>1422</td><td>1787</td><td>0.8</td></tr><tr><th>11</th><td>SAS</td><td>MEM</td><td>2995</td><td>6350</td><td>0.47</td><td>760</td><td>2021</td><td>0.38</td><td>1348</td><td>1664</td><td>0.81</td></tr><tr><th>12</th><td>DET</td><td>MIN</td><td>2595</td><td>5658</td><td>0.46</td><td>791</td><td>2157</td><td>0.37</td><td>1097</td><td>1476</td><td>0.74</td></tr><tr><th>13</th><td>SAC</td><td>DEN</td><td>2943</td><td>6364</td><td>0.46</td><td>914</td><td>2511</td><td>0.36</td><td>1127</td><td>1464</td><td>0.77</td></tr><tr><th>14</th><td>UTA</td><td>POR</td><td>2886</td><td>6130</td><td>0.47</td><td>963</td><td>2537</td><td>0.38</td><td>1278</td><td>1641</td><td>0.78</td></tr><tr><th>15</th><td>DAL</td><td>PHO</td><td>3124</td><td>6772</td><td>0.46</td><td>1136</td><td>3095</td><td>0.37</td><td>1392</td><td>1787</td><td>0.78</td></tr><tr><th>16</th><td>NOP</td><td>MIA</td><td>3065</td><td>6598</td><td>0.46</td><td>982</td><td>2656</td><td>0.37</td><td>1229</td><td>1687</td><td>0.73</td></tr><tr><th>17</th><td>GSW</td><td>MIL</td><td>2510</td><td>5730</td><td>0.44</td><td>678</td><td>2032</td><td>0.33</td><td>1214</td><td>1511</td><td>0.8</td></tr><tr><th>18</th><td>BRO</td><td>BOS</td><td>2908</td><td>6498</td><td>0.45</td><td>941</td><td>2746</td><td>0.34</td><td>1291</td><td>1732</td><td>0.75</td></tr><tr><th>19</th><td>DAL</td><td>LAL</td><td>3124</td><td>6772</td><td>0.46</td><td>1136</td><td>3095</td><td>0.37</td><td>1392</td><td>1787</td><td>0.78</td></tr><tr><th>20</th><td>LAC</td><td>DEN</td><td>2992</td><td>6425</td><td>0.47</td><td>895</td><td>2410</td><td>0.37</td><td>1498</td><td>1894</td><td>0.79</td></tr><tr><th>21</th><td>ATL</td><td>MEM</td><td>2723</td><td>6067</td><td>0.45</td><td>805</td><td>2416</td><td>0.33</td><td>1237</td><td>1566</td><td>0.79</td></tr><tr><th>22</th><td>OCT</td><td>CHA</td><td>2879</td><td>6156</td><td>0.47</td><td>770</td><td>2171</td><td>0.35</td><td>1422</td><td>1787</td><td>0.8</td></tr><tr><th>23</th><td>CLE</td><td>DET</td><td>2619</td><td>5715</td><td>0.46</td><td>727</td><td>2070</td><td>0.35</td><td>983</td><td>1296</td><td>0.76</td></tr><tr><th>24</th><td>ORL</td><td>WAS</td><td>2871</td><td>6468</td><td>0.44</td><td>807</td><td>2354</td><td>0.34</td><td>1282</td><td>1656</td><td>0.77</td></tr><tr><th>25</th><td>PHI</td><td>NYK</td><td>3000</td><td>6417</td><td>0.47</td><td>848</td><td>2307</td><td>0.37</td><td>1236</td><td>1638</td><td>0.75</td></tr><tr><th>26</th><td>IND</td><td>CHI</td><td>3075</td><td>6457</td><td>0.48</td><td>743</td><td>2046</td><td>0.36</td><td>1096</td><td>1393</td><td>0.79</td></tr><tr><th>27</th><td>TOR</td><td>SAS</td><td>2897</td><td>6331</td><td>0.46</td><td>995</td><td>2663</td><td>0.37</td><td>1329</td><td>1670</td><td>0.8</td></tr><tr><th>28</th><td>MIN</td><td>UTA</td><td>2586</td><td>5865</td><td>0.44</td><td>853</td><td>2540</td><td>0.34</td><td>1223</td><td>1624</td><td>0.75</td></tr><tr><th>29</th><td>HOU</td><td>POR</td><td>2936</td><td>6512</td><td>0.45</td><td>1126</td><td>3261</td><td>0.35</td><td>1484</td><td>1876</td><td>0.79</td></tr><tr><th>30</th><td>PHO</td><td>SAC</td><td>3006</td><td>6429</td><td>0.47</td><td>831</td><td>2320</td><td>0.36</td><td>1451</td><td>1740</td><td>0.83</td></tr><tr><th>&vellip;</th><td>&vellip;</td><td>&vellip;</td><td>&vellip;</td><td>&vellip;</td><td>&vellip;</td><td>&vellip;</td><td>&vellip;</td><td>&vellip;</td><td>&vellip;</td><td>&vellip;</td><td>&vellip;</td></tr></tbody></table>"
      ],
      "text/latex": [
       "\\begin{tabular}{r|cccccccccccc}\n",
       "\t& Team & Team\\_1 & FGM & FGA & FG\\% & 3FGM & 3FGA & 3FG\\% & FTM & FTA & FT\\% & \\\\\n",
       "\t\\hline\n",
       "\t& String & String & Int64 & Int64 & Float64 & Int64 & Int64 & Float64 & Int64 & Int64 & Float64 & \\\\\n",
       "\t\\hline\n",
       "\t1 & GSW & BRO & 2510 & 5730 & 0.44 & 678 & 2032 & 0.33 & 1214 & 1511 & 0.8 & $\\dots$ \\\\\n",
       "\t2 & LAC & LAL & 2992 & 6425 & 0.47 & 895 & 2410 & 0.37 & 1498 & 1894 & 0.79 & $\\dots$ \\\\\n",
       "\t3 & CHA & CLE & 2425 & 5586 & 0.43 & 785 & 2231 & 0.35 & 1052 & 1406 & 0.75 & $\\dots$ \\\\\n",
       "\t4 & NYK & IND & 2638 & 5896 & 0.45 & 631 & 1872 & 0.34 & 1076 & 1550 & 0.69 & $\\dots$ \\\\\n",
       "\t5 & MIA & ORL & 2880 & 6160 & 0.47 & 979 & 2584 & 0.38 & 1440 & 1840 & 0.78 & $\\dots$ \\\\\n",
       "\t6 & WAS & PHI & 2990 & 6544 & 0.46 & 864 & 2345 & 0.37 & 1394 & 1770 & 0.79 & $\\dots$ \\\\\n",
       "\t7 & MIL & BOS & 3160 & 6638 & 0.48 & 1007 & 2840 & 0.35 & 1336 & 1800 & 0.74 & $\\dots$ \\\\\n",
       "\t8 & NOP & TOR & 3065 & 6598 & 0.46 & 982 & 2656 & 0.37 & 1229 & 1687 & 0.73 & $\\dots$ \\\\\n",
       "\t9 & ATL & CHI & 2723 & 6067 & 0.45 & 805 & 2416 & 0.33 & 1237 & 1566 & 0.79 & $\\dots$ \\\\\n",
       "\t10 & OCT & HOU & 2879 & 6156 & 0.47 & 770 & 2171 & 0.35 & 1422 & 1787 & 0.8 & $\\dots$ \\\\\n",
       "\t11 & SAS & MEM & 2995 & 6350 & 0.47 & 760 & 2021 & 0.38 & 1348 & 1664 & 0.81 & $\\dots$ \\\\\n",
       "\t12 & DET & MIN & 2595 & 5658 & 0.46 & 791 & 2157 & 0.37 & 1097 & 1476 & 0.74 & $\\dots$ \\\\\n",
       "\t13 & SAC & DEN & 2943 & 6364 & 0.46 & 914 & 2511 & 0.36 & 1127 & 1464 & 0.77 & $\\dots$ \\\\\n",
       "\t14 & UTA & POR & 2886 & 6130 & 0.47 & 963 & 2537 & 0.38 & 1278 & 1641 & 0.78 & $\\dots$ \\\\\n",
       "\t15 & DAL & PHO & 3124 & 6772 & 0.46 & 1136 & 3095 & 0.37 & 1392 & 1787 & 0.78 & $\\dots$ \\\\\n",
       "\t16 & NOP & MIA & 3065 & 6598 & 0.46 & 982 & 2656 & 0.37 & 1229 & 1687 & 0.73 & $\\dots$ \\\\\n",
       "\t17 & GSW & MIL & 2510 & 5730 & 0.44 & 678 & 2032 & 0.33 & 1214 & 1511 & 0.8 & $\\dots$ \\\\\n",
       "\t18 & BRO & BOS & 2908 & 6498 & 0.45 & 941 & 2746 & 0.34 & 1291 & 1732 & 0.75 & $\\dots$ \\\\\n",
       "\t19 & DAL & LAL & 3124 & 6772 & 0.46 & 1136 & 3095 & 0.37 & 1392 & 1787 & 0.78 & $\\dots$ \\\\\n",
       "\t20 & LAC & DEN & 2992 & 6425 & 0.47 & 895 & 2410 & 0.37 & 1498 & 1894 & 0.79 & $\\dots$ \\\\\n",
       "\t21 & ATL & MEM & 2723 & 6067 & 0.45 & 805 & 2416 & 0.33 & 1237 & 1566 & 0.79 & $\\dots$ \\\\\n",
       "\t22 & OCT & CHA & 2879 & 6156 & 0.47 & 770 & 2171 & 0.35 & 1422 & 1787 & 0.8 & $\\dots$ \\\\\n",
       "\t23 & CLE & DET & 2619 & 5715 & 0.46 & 727 & 2070 & 0.35 & 983 & 1296 & 0.76 & $\\dots$ \\\\\n",
       "\t24 & ORL & WAS & 2871 & 6468 & 0.44 & 807 & 2354 & 0.34 & 1282 & 1656 & 0.77 & $\\dots$ \\\\\n",
       "\t25 & PHI & NYK & 3000 & 6417 & 0.47 & 848 & 2307 & 0.37 & 1236 & 1638 & 0.75 & $\\dots$ \\\\\n",
       "\t26 & IND & CHI & 3075 & 6457 & 0.48 & 743 & 2046 & 0.36 & 1096 & 1393 & 0.79 & $\\dots$ \\\\\n",
       "\t27 & TOR & SAS & 2897 & 6331 & 0.46 & 995 & 2663 & 0.37 & 1329 & 1670 & 0.8 & $\\dots$ \\\\\n",
       "\t28 & MIN & UTA & 2586 & 5865 & 0.44 & 853 & 2540 & 0.34 & 1223 & 1624 & 0.75 & $\\dots$ \\\\\n",
       "\t29 & HOU & POR & 2936 & 6512 & 0.45 & 1126 & 3261 & 0.35 & 1484 & 1876 & 0.79 & $\\dots$ \\\\\n",
       "\t30 & PHO & SAC & 3006 & 6429 & 0.47 & 831 & 2320 & 0.36 & 1451 & 1740 & 0.83 & $\\dots$ \\\\\n",
       "\t$\\dots$ & $\\dots$ & $\\dots$ & $\\dots$ & $\\dots$ & $\\dots$ & $\\dots$ & $\\dots$ & $\\dots$ & $\\dots$ & $\\dots$ & $\\dots$ &  \\\\\n",
       "\\end{tabular}\n"
      ],
      "text/plain": [
       "40×109 DataFrame. Omitted printing of 101 columns\n",
       "│ Row │ Team   │ Team_1 │ FGM   │ FGA   │ FG%     │ 3FGM  │ 3FGA  │ 3FG%    │\n",
       "│     │ \u001b[90mString\u001b[39m │ \u001b[90mString\u001b[39m │ \u001b[90mInt64\u001b[39m │ \u001b[90mInt64\u001b[39m │ \u001b[90mFloat64\u001b[39m │ \u001b[90mInt64\u001b[39m │ \u001b[90mInt64\u001b[39m │ \u001b[90mFloat64\u001b[39m │\n",
       "├─────┼────────┼────────┼───────┼───────┼─────────┼───────┼───────┼─────────┤\n",
       "│ 1   │ GSW    │ BRO    │ 2510  │ 5730  │ 0.44    │ 678   │ 2032  │ 0.33    │\n",
       "│ 2   │ LAC    │ LAL    │ 2992  │ 6425  │ 0.47    │ 895   │ 2410  │ 0.37    │\n",
       "│ 3   │ CHA    │ CLE    │ 2425  │ 5586  │ 0.43    │ 785   │ 2231  │ 0.35    │\n",
       "│ 4   │ NYK    │ IND    │ 2638  │ 5896  │ 0.45    │ 631   │ 1872  │ 0.34    │\n",
       "│ 5   │ MIA    │ ORL    │ 2880  │ 6160  │ 0.47    │ 979   │ 2584  │ 0.38    │\n",
       "│ 6   │ WAS    │ PHI    │ 2990  │ 6544  │ 0.46    │ 864   │ 2345  │ 0.37    │\n",
       "│ 7   │ MIL    │ BOS    │ 3160  │ 6638  │ 0.48    │ 1007  │ 2840  │ 0.35    │\n",
       "│ 8   │ NOP    │ TOR    │ 3065  │ 6598  │ 0.46    │ 982   │ 2656  │ 0.37    │\n",
       "│ 9   │ ATL    │ CHI    │ 2723  │ 6067  │ 0.45    │ 805   │ 2416  │ 0.33    │\n",
       "│ 10  │ OCT    │ HOU    │ 2879  │ 6156  │ 0.47    │ 770   │ 2171  │ 0.35    │\n",
       "⋮\n",
       "│ 30  │ PHO    │ SAC    │ 3006  │ 6429  │ 0.47    │ 831   │ 2320  │ 0.36    │\n",
       "│ 31  │ DAL    │ LAC    │ 3124  │ 6772  │ 0.46    │ 1136  │ 3095  │ 0.37    │\n",
       "│ 32  │ BRO    │ CHA    │ 2908  │ 6498  │ 0.45    │ 941   │ 2746  │ 0.34    │\n",
       "│ 33  │ ORL    │ WAS    │ 2871  │ 6468  │ 0.44    │ 807   │ 2354  │ 0.34    │\n",
       "│ 34  │ SAS    │ NOP    │ 2995  │ 6350  │ 0.47    │ 760   │ 2021  │ 0.38    │\n",
       "│ 35  │ PHI    │ CLE    │ 3000  │ 6417  │ 0.47    │ 848   │ 2307  │ 0.37    │\n",
       "│ 36  │ MIL    │ NYK    │ 3160  │ 6638  │ 0.48    │ 1007  │ 2840  │ 0.35    │\n",
       "│ 37  │ BOS    │ IND    │ 2971  │ 6448  │ 0.46    │ 905   │ 2487  │ 0.36    │\n",
       "│ 38  │ GSW    │ CHI    │ 2510  │ 5730  │ 0.44    │ 678   │ 2032  │ 0.33    │\n",
       "│ 39  │ PHO    │ SAC    │ 3006  │ 6429  │ 0.47    │ 831   │ 2320  │ 0.36    │\n",
       "│ 40  │ MIN    │ LAL    │ 2586  │ 5865  │ 0.44    │ 853   │ 2540  │ 0.34    │"
      ]
     },
     "execution_count": 75,
     "metadata": {},
     "output_type": "execute_result"
    }
   ],
   "source": [
    "# Join with predStats df from the beginning\n",
    "openingWeek = join(openingWeek, predStats, on = [:TeamA => :Team], kind = :outer, makeunique = true)\n",
    "openingWeek = join(openingWeek, predStats, on = [:TeamB => :Team], kind = :outer, makeunique = true)\n",
    "openingWeek = dropmissing(openingWeek)\n",
    "deletecols!(openingWeek, [:League_1, :Y_1, :League, :Y, :G])\n",
    "rename!(openingWeek, :TeamA => :Team, :TeamB => :Team_1)"
   ]
  },
  {
   "cell_type": "code",
   "execution_count": 76,
   "metadata": {},
   "outputs": [
    {
     "data": {
      "text/html": [
       "<table class=\"data-frame\"><thead><tr><th></th><th>teamWinAbr</th><th>Team</th><th>FGM</th><th>FGA</th><th>FG%</th><th>3FGM</th><th>3FGA</th><th>3FG%</th><th>FTM</th><th>FTA</th></tr><tr><th></th><th>String</th><th>String</th><th>Int64</th><th>Int64</th><th>Float64</th><th>Int64</th><th>Int64</th><th>Float64</th><th>Int64</th><th>Int64</th></tr></thead><tbody><p>34,064 rows × 110 columns (omitted printing of 100 columns)</p><tr><th>1</th><td>ATL</td><td>ATL</td><td>3349</td><td>7223</td><td>0.46</td><td>271</td><td>836</td><td>0.32</td><td>2034</td><td>2544</td></tr><tr><th>2</th><td>BOS</td><td>BOS</td><td>3695</td><td>7214</td><td>0.51</td><td>109</td><td>346</td><td>0.32</td><td>1646</td><td>1997</td></tr><tr><th>3</th><td>DET</td><td>DET</td><td>3194</td><td>6875</td><td>0.46</td><td>131</td><td>440</td><td>0.3</td><td>1686</td><td>2211</td></tr><tr><th>4</th><td>IND</td><td>IND</td><td>3450</td><td>6994</td><td>0.49</td><td>249</td><td>749</td><td>0.33</td><td>2010</td><td>2479</td></tr><tr><th>5</th><td>MIL</td><td>MIL</td><td>3337</td><td>6948</td><td>0.48</td><td>257</td><td>753</td><td>0.34</td><td>1796</td><td>2241</td></tr><tr><th>6</th><td>MIN</td><td>MIN</td><td>3265</td><td>7276</td><td>0.45</td><td>108</td><td>381</td><td>0.28</td><td>1531</td><td>2082</td></tr><tr><th>7</th><td>PHO</td><td>PHO</td><td>3573</td><td>7199</td><td>0.5</td><td>138</td><td>432</td><td>0.32</td><td>2064</td><td>2680</td></tr><tr><th>8</th><td>SEA</td><td>SEA</td><td>3500</td><td>7117</td><td>0.49</td><td>136</td><td>427</td><td>0.32</td><td>1608</td><td>2143</td></tr><tr><th>9</th><td>UTA</td><td>UTA</td><td>3214</td><td>6537</td><td>0.49</td><td>148</td><td>458</td><td>0.32</td><td>1951</td><td>2472</td></tr><tr><th>10</th><td>HOU</td><td>HOU</td><td>3403</td><td>7287</td><td>0.47</td><td>316</td><td>989</td><td>0.32</td><td>1631</td><td>2200</td></tr><tr><th>11</th><td>LAL</td><td>LAL</td><td>3343</td><td>6911</td><td>0.48</td><td>226</td><td>744</td><td>0.3</td><td>1805</td><td>2261</td></tr><tr><th>12</th><td>MIL</td><td>MIL</td><td>3337</td><td>6948</td><td>0.48</td><td>257</td><td>753</td><td>0.34</td><td>1796</td><td>2241</td></tr><tr><th>13</th><td>NYK</td><td>NYK</td><td>3308</td><td>6822</td><td>0.48</td><td>185</td><td>558</td><td>0.33</td><td>1654</td><td>2147</td></tr><tr><th>14</th><td>ORL</td><td>ORL</td><td>3298</td><td>7256</td><td>0.45</td><td>270</td><td>754</td><td>0.36</td><td>1818</td><td>2447</td></tr><tr><th>15</th><td>SAC</td><td>SAC</td><td>3086</td><td>6818</td><td>0.45</td><td>216</td><td>578</td><td>0.37</td><td>1540</td><td>2105</td></tr><tr><th>16</th><td>WAS</td><td>WAS</td><td>3390</td><td>7268</td><td>0.47</td><td>55</td><td>284</td><td>0.19</td><td>1478</td><td>2028</td></tr><tr><th>17</th><td>ATL</td><td>ATL</td><td>3349</td><td>7223</td><td>0.46</td><td>271</td><td>836</td><td>0.32</td><td>2034</td><td>2544</td></tr><tr><th>18</th><td>BOS</td><td>BOS</td><td>3695</td><td>7214</td><td>0.51</td><td>109</td><td>346</td><td>0.32</td><td>1646</td><td>1997</td></tr><tr><th>19</th><td>DET</td><td>DET</td><td>3194</td><td>6875</td><td>0.46</td><td>131</td><td>440</td><td>0.3</td><td>1686</td><td>2211</td></tr><tr><th>20</th><td>GSW</td><td>GSW</td><td>3566</td><td>7346</td><td>0.49</td><td>270</td><td>801</td><td>0.34</td><td>2162</td><td>2761</td></tr><tr><th>21</th><td>SAS</td><td>SAS</td><td>3409</td><td>6988</td><td>0.49</td><td>81</td><td>297</td><td>0.27</td><td>1883</td><td>2459</td></tr><tr><th>22</th><td>SEA</td><td>SEA</td><td>3500</td><td>7117</td><td>0.49</td><td>136</td><td>427</td><td>0.32</td><td>1608</td><td>2143</td></tr><tr><th>23</th><td>UTA</td><td>UTA</td><td>3214</td><td>6537</td><td>0.49</td><td>148</td><td>458</td><td>0.32</td><td>1951</td><td>2472</td></tr><tr><th>24</th><td>WAS</td><td>WAS</td><td>3390</td><td>7268</td><td>0.47</td><td>55</td><td>284</td><td>0.19</td><td>1478</td><td>2028</td></tr><tr><th>25</th><td>ATL</td><td>ATL</td><td>3349</td><td>7223</td><td>0.46</td><td>271</td><td>836</td><td>0.32</td><td>2034</td><td>2544</td></tr><tr><th>26</th><td>CHA</td><td>CHA</td><td>3286</td><td>7033</td><td>0.47</td><td>131</td><td>417</td><td>0.31</td><td>1725</td><td>2214</td></tr><tr><th>27</th><td>CHI</td><td>CHI</td><td>3632</td><td>7125</td><td>0.51</td><td>155</td><td>424</td><td>0.37</td><td>1605</td><td>2111</td></tr><tr><th>28</th><td>DET</td><td>DET</td><td>3194</td><td>6875</td><td>0.46</td><td>131</td><td>440</td><td>0.3</td><td>1686</td><td>2211</td></tr><tr><th>29</th><td>HOU</td><td>HOU</td><td>3403</td><td>7287</td><td>0.47</td><td>316</td><td>989</td><td>0.32</td><td>1631</td><td>2200</td></tr><tr><th>30</th><td>MIL</td><td>MIL</td><td>3337</td><td>6948</td><td>0.48</td><td>257</td><td>753</td><td>0.34</td><td>1796</td><td>2241</td></tr><tr><th>&vellip;</th><td>&vellip;</td><td>&vellip;</td><td>&vellip;</td><td>&vellip;</td><td>&vellip;</td><td>&vellip;</td><td>&vellip;</td><td>&vellip;</td><td>&vellip;</td><td>&vellip;</td></tr></tbody></table>"
      ],
      "text/latex": [
       "\\begin{tabular}{r|ccccccccccc}\n",
       "\t& teamWinAbr & Team & FGM & FGA & FG\\% & 3FGM & 3FGA & 3FG\\% & FTM & FTA & \\\\\n",
       "\t\\hline\n",
       "\t& String & String & Int64 & Int64 & Float64 & Int64 & Int64 & Float64 & Int64 & Int64 & \\\\\n",
       "\t\\hline\n",
       "\t1 & ATL & ATL & 3349 & 7223 & 0.46 & 271 & 836 & 0.32 & 2034 & 2544 & $\\dots$ \\\\\n",
       "\t2 & BOS & BOS & 3695 & 7214 & 0.51 & 109 & 346 & 0.32 & 1646 & 1997 & $\\dots$ \\\\\n",
       "\t3 & DET & DET & 3194 & 6875 & 0.46 & 131 & 440 & 0.3 & 1686 & 2211 & $\\dots$ \\\\\n",
       "\t4 & IND & IND & 3450 & 6994 & 0.49 & 249 & 749 & 0.33 & 2010 & 2479 & $\\dots$ \\\\\n",
       "\t5 & MIL & MIL & 3337 & 6948 & 0.48 & 257 & 753 & 0.34 & 1796 & 2241 & $\\dots$ \\\\\n",
       "\t6 & MIN & MIN & 3265 & 7276 & 0.45 & 108 & 381 & 0.28 & 1531 & 2082 & $\\dots$ \\\\\n",
       "\t7 & PHO & PHO & 3573 & 7199 & 0.5 & 138 & 432 & 0.32 & 2064 & 2680 & $\\dots$ \\\\\n",
       "\t8 & SEA & SEA & 3500 & 7117 & 0.49 & 136 & 427 & 0.32 & 1608 & 2143 & $\\dots$ \\\\\n",
       "\t9 & UTA & UTA & 3214 & 6537 & 0.49 & 148 & 458 & 0.32 & 1951 & 2472 & $\\dots$ \\\\\n",
       "\t10 & HOU & HOU & 3403 & 7287 & 0.47 & 316 & 989 & 0.32 & 1631 & 2200 & $\\dots$ \\\\\n",
       "\t11 & LAL & LAL & 3343 & 6911 & 0.48 & 226 & 744 & 0.3 & 1805 & 2261 & $\\dots$ \\\\\n",
       "\t12 & MIL & MIL & 3337 & 6948 & 0.48 & 257 & 753 & 0.34 & 1796 & 2241 & $\\dots$ \\\\\n",
       "\t13 & NYK & NYK & 3308 & 6822 & 0.48 & 185 & 558 & 0.33 & 1654 & 2147 & $\\dots$ \\\\\n",
       "\t14 & ORL & ORL & 3298 & 7256 & 0.45 & 270 & 754 & 0.36 & 1818 & 2447 & $\\dots$ \\\\\n",
       "\t15 & SAC & SAC & 3086 & 6818 & 0.45 & 216 & 578 & 0.37 & 1540 & 2105 & $\\dots$ \\\\\n",
       "\t16 & WAS & WAS & 3390 & 7268 & 0.47 & 55 & 284 & 0.19 & 1478 & 2028 & $\\dots$ \\\\\n",
       "\t17 & ATL & ATL & 3349 & 7223 & 0.46 & 271 & 836 & 0.32 & 2034 & 2544 & $\\dots$ \\\\\n",
       "\t18 & BOS & BOS & 3695 & 7214 & 0.51 & 109 & 346 & 0.32 & 1646 & 1997 & $\\dots$ \\\\\n",
       "\t19 & DET & DET & 3194 & 6875 & 0.46 & 131 & 440 & 0.3 & 1686 & 2211 & $\\dots$ \\\\\n",
       "\t20 & GSW & GSW & 3566 & 7346 & 0.49 & 270 & 801 & 0.34 & 2162 & 2761 & $\\dots$ \\\\\n",
       "\t21 & SAS & SAS & 3409 & 6988 & 0.49 & 81 & 297 & 0.27 & 1883 & 2459 & $\\dots$ \\\\\n",
       "\t22 & SEA & SEA & 3500 & 7117 & 0.49 & 136 & 427 & 0.32 & 1608 & 2143 & $\\dots$ \\\\\n",
       "\t23 & UTA & UTA & 3214 & 6537 & 0.49 & 148 & 458 & 0.32 & 1951 & 2472 & $\\dots$ \\\\\n",
       "\t24 & WAS & WAS & 3390 & 7268 & 0.47 & 55 & 284 & 0.19 & 1478 & 2028 & $\\dots$ \\\\\n",
       "\t25 & ATL & ATL & 3349 & 7223 & 0.46 & 271 & 836 & 0.32 & 2034 & 2544 & $\\dots$ \\\\\n",
       "\t26 & CHA & CHA & 3286 & 7033 & 0.47 & 131 & 417 & 0.31 & 1725 & 2214 & $\\dots$ \\\\\n",
       "\t27 & CHI & CHI & 3632 & 7125 & 0.51 & 155 & 424 & 0.37 & 1605 & 2111 & $\\dots$ \\\\\n",
       "\t28 & DET & DET & 3194 & 6875 & 0.46 & 131 & 440 & 0.3 & 1686 & 2211 & $\\dots$ \\\\\n",
       "\t29 & HOU & HOU & 3403 & 7287 & 0.47 & 316 & 989 & 0.32 & 1631 & 2200 & $\\dots$ \\\\\n",
       "\t30 & MIL & MIL & 3337 & 6948 & 0.48 & 257 & 753 & 0.34 & 1796 & 2241 & $\\dots$ \\\\\n",
       "\t$\\dots$ & $\\dots$ & $\\dots$ & $\\dots$ & $\\dots$ & $\\dots$ & $\\dots$ & $\\dots$ & $\\dots$ & $\\dots$ & $\\dots$ &  \\\\\n",
       "\\end{tabular}\n"
      ],
      "text/plain": [
       "34064×110 DataFrame. Omitted printing of 103 columns\n",
       "│ Row   │ teamWinAbr │ Team   │ FGM   │ FGA   │ FG%     │ 3FGM  │ 3FGA  │\n",
       "│       │ \u001b[90mString\u001b[39m     │ \u001b[90mString\u001b[39m │ \u001b[90mInt64\u001b[39m │ \u001b[90mInt64\u001b[39m │ \u001b[90mFloat64\u001b[39m │ \u001b[90mInt64\u001b[39m │ \u001b[90mInt64\u001b[39m │\n",
       "├───────┼────────────┼────────┼───────┼───────┼─────────┼───────┼───────┤\n",
       "│ 1     │ ATL        │ ATL    │ 3349  │ 7223  │ 0.46    │ 271   │ 836   │\n",
       "│ 2     │ BOS        │ BOS    │ 3695  │ 7214  │ 0.51    │ 109   │ 346   │\n",
       "│ 3     │ DET        │ DET    │ 3194  │ 6875  │ 0.46    │ 131   │ 440   │\n",
       "│ 4     │ IND        │ IND    │ 3450  │ 6994  │ 0.49    │ 249   │ 749   │\n",
       "│ 5     │ MIL        │ MIL    │ 3337  │ 6948  │ 0.48    │ 257   │ 753   │\n",
       "│ 6     │ MIN        │ MIN    │ 3265  │ 7276  │ 0.45    │ 108   │ 381   │\n",
       "│ 7     │ PHO        │ PHO    │ 3573  │ 7199  │ 0.5     │ 138   │ 432   │\n",
       "│ 8     │ SEA        │ SEA    │ 3500  │ 7117  │ 0.49    │ 136   │ 427   │\n",
       "│ 9     │ UTA        │ UTA    │ 3214  │ 6537  │ 0.49    │ 148   │ 458   │\n",
       "│ 10    │ HOU        │ HOU    │ 3403  │ 7287  │ 0.47    │ 316   │ 989   │\n",
       "⋮\n",
       "│ 34054 │ MIL        │ MIL    │ 3555  │ 7471  │ 0.48    │ 1105  │ 3134  │\n",
       "│ 34055 │ BRO        │ BRO    │ 3301  │ 7358  │ 0.45    │ 1047  │ 2965  │\n",
       "│ 34056 │ DET        │ DET    │ 3185  │ 7238  │ 0.44    │ 993   │ 2854  │\n",
       "│ 34057 │ PHO        │ PHO    │ 3289  │ 7164  │ 0.46    │ 790   │ 2400  │\n",
       "│ 34058 │ BOS        │ BOS    │ 3451  │ 7423  │ 0.46    │ 1032  │ 2829  │\n",
       "│ 34059 │ PHI        │ PHI    │ 3407  │ 7233  │ 0.47    │ 889   │ 2474  │\n",
       "│ 34060 │ LAC        │ LAC    │ 3384  │ 7178  │ 0.47    │ 821   │ 2118  │\n",
       "│ 34061 │ DEN        │ DEN    │ 3439  │ 7384  │ 0.47    │ 903   │ 2571  │\n",
       "│ 34062 │ GSW        │ GSW    │ 3612  │ 7361  │ 0.49    │ 1087  │ 2824  │\n",
       "│ 34063 │ CLE        │ CLE    │ 3189  │ 7184  │ 0.44    │ 847   │ 2388  │\n",
       "│ 34064 │ DAL        │ DAL    │ 3182  │ 7122  │ 0.45    │ 1022  │ 3002  │"
      ]
     },
     "execution_count": 76,
     "metadata": {},
     "output_type": "execute_result"
    }
   ],
   "source": [
    "# Fix final dataframe\n",
    "#deletecols!(finalDF, [:Season, :predictedWin_DT, :predictedWin_RF, :winScore, :loseScore, :Margin])\n",
    "insert!(openingWeek, 1, \"\", :teamWinAbr)\n",
    "finalDF"
   ]
  },
  {
   "cell_type": "code",
   "execution_count": 61,
   "metadata": {},
   "outputs": [
    {
     "data": {
      "text/html": [
       "<table class=\"data-frame\"><thead><tr><th></th><th>teamWinAbr</th><th>Team</th><th>Team_1</th><th>FGM</th><th>FGA</th><th>FG%</th><th>3FGM</th><th>3FGA</th><th>3FG%</th><th>FTM</th></tr><tr><th></th><th>String</th><th>String</th><th>String</th><th>Int64</th><th>Int64</th><th>Float64</th><th>Int64</th><th>Int64</th><th>Float64</th><th>Int64</th></tr></thead><tbody><p>40 rows × 110 columns (omitted printing of 100 columns)</p><tr><th>1</th><td></td><td>GSW</td><td>BRO</td><td>2510</td><td>5730</td><td>0.44</td><td>678</td><td>2032</td><td>0.33</td><td>1214</td></tr><tr><th>2</th><td></td><td>LAC</td><td>LAL</td><td>2992</td><td>6425</td><td>0.47</td><td>895</td><td>2410</td><td>0.37</td><td>1498</td></tr><tr><th>3</th><td></td><td>CHA</td><td>CLE</td><td>2425</td><td>5586</td><td>0.43</td><td>785</td><td>2231</td><td>0.35</td><td>1052</td></tr><tr><th>4</th><td></td><td>NYK</td><td>IND</td><td>2638</td><td>5896</td><td>0.45</td><td>631</td><td>1872</td><td>0.34</td><td>1076</td></tr><tr><th>5</th><td></td><td>MIA</td><td>ORL</td><td>2880</td><td>6160</td><td>0.47</td><td>979</td><td>2584</td><td>0.38</td><td>1440</td></tr><tr><th>6</th><td></td><td>WAS</td><td>PHI</td><td>2990</td><td>6544</td><td>0.46</td><td>864</td><td>2345</td><td>0.37</td><td>1394</td></tr><tr><th>7</th><td></td><td>MIL</td><td>BOS</td><td>3160</td><td>6638</td><td>0.48</td><td>1007</td><td>2840</td><td>0.35</td><td>1336</td></tr><tr><th>8</th><td></td><td>NOP</td><td>TOR</td><td>3065</td><td>6598</td><td>0.46</td><td>982</td><td>2656</td><td>0.37</td><td>1229</td></tr><tr><th>9</th><td></td><td>ATL</td><td>CHI</td><td>2723</td><td>6067</td><td>0.45</td><td>805</td><td>2416</td><td>0.33</td><td>1237</td></tr><tr><th>10</th><td></td><td>OCT</td><td>HOU</td><td>2879</td><td>6156</td><td>0.47</td><td>770</td><td>2171</td><td>0.35</td><td>1422</td></tr><tr><th>11</th><td></td><td>SAS</td><td>MEM</td><td>2995</td><td>6350</td><td>0.47</td><td>760</td><td>2021</td><td>0.38</td><td>1348</td></tr><tr><th>12</th><td></td><td>DET</td><td>MIN</td><td>2595</td><td>5658</td><td>0.46</td><td>791</td><td>2157</td><td>0.37</td><td>1097</td></tr><tr><th>13</th><td></td><td>SAC</td><td>DEN</td><td>2943</td><td>6364</td><td>0.46</td><td>914</td><td>2511</td><td>0.36</td><td>1127</td></tr><tr><th>14</th><td></td><td>UTA</td><td>POR</td><td>2886</td><td>6130</td><td>0.47</td><td>963</td><td>2537</td><td>0.38</td><td>1278</td></tr><tr><th>15</th><td></td><td>DAL</td><td>PHO</td><td>3124</td><td>6772</td><td>0.46</td><td>1136</td><td>3095</td><td>0.37</td><td>1392</td></tr><tr><th>16</th><td></td><td>NOP</td><td>MIA</td><td>3065</td><td>6598</td><td>0.46</td><td>982</td><td>2656</td><td>0.37</td><td>1229</td></tr><tr><th>17</th><td></td><td>GSW</td><td>MIL</td><td>2510</td><td>5730</td><td>0.44</td><td>678</td><td>2032</td><td>0.33</td><td>1214</td></tr><tr><th>18</th><td></td><td>BRO</td><td>BOS</td><td>2908</td><td>6498</td><td>0.45</td><td>941</td><td>2746</td><td>0.34</td><td>1291</td></tr><tr><th>19</th><td></td><td>DAL</td><td>LAL</td><td>3124</td><td>6772</td><td>0.46</td><td>1136</td><td>3095</td><td>0.37</td><td>1392</td></tr><tr><th>20</th><td></td><td>LAC</td><td>DEN</td><td>2992</td><td>6425</td><td>0.47</td><td>895</td><td>2410</td><td>0.37</td><td>1498</td></tr><tr><th>21</th><td></td><td>ATL</td><td>MEM</td><td>2723</td><td>6067</td><td>0.45</td><td>805</td><td>2416</td><td>0.33</td><td>1237</td></tr><tr><th>22</th><td></td><td>OCT</td><td>CHA</td><td>2879</td><td>6156</td><td>0.47</td><td>770</td><td>2171</td><td>0.35</td><td>1422</td></tr><tr><th>23</th><td></td><td>CLE</td><td>DET</td><td>2619</td><td>5715</td><td>0.46</td><td>727</td><td>2070</td><td>0.35</td><td>983</td></tr><tr><th>24</th><td></td><td>ORL</td><td>WAS</td><td>2871</td><td>6468</td><td>0.44</td><td>807</td><td>2354</td><td>0.34</td><td>1282</td></tr><tr><th>25</th><td></td><td>PHI</td><td>NYK</td><td>3000</td><td>6417</td><td>0.47</td><td>848</td><td>2307</td><td>0.37</td><td>1236</td></tr><tr><th>26</th><td></td><td>IND</td><td>CHI</td><td>3075</td><td>6457</td><td>0.48</td><td>743</td><td>2046</td><td>0.36</td><td>1096</td></tr><tr><th>27</th><td></td><td>TOR</td><td>SAS</td><td>2897</td><td>6331</td><td>0.46</td><td>995</td><td>2663</td><td>0.37</td><td>1329</td></tr><tr><th>28</th><td></td><td>MIN</td><td>UTA</td><td>2586</td><td>5865</td><td>0.44</td><td>853</td><td>2540</td><td>0.34</td><td>1223</td></tr><tr><th>29</th><td></td><td>HOU</td><td>POR</td><td>2936</td><td>6512</td><td>0.45</td><td>1126</td><td>3261</td><td>0.35</td><td>1484</td></tr><tr><th>30</th><td></td><td>PHO</td><td>SAC</td><td>3006</td><td>6429</td><td>0.47</td><td>831</td><td>2320</td><td>0.36</td><td>1451</td></tr><tr><th>&vellip;</th><td>&vellip;</td><td>&vellip;</td><td>&vellip;</td><td>&vellip;</td><td>&vellip;</td><td>&vellip;</td><td>&vellip;</td><td>&vellip;</td><td>&vellip;</td><td>&vellip;</td></tr></tbody></table>"
      ],
      "text/latex": [
       "\\begin{tabular}{r|ccccccccccc}\n",
       "\t& teamWinAbr & Team & Team\\_1 & FGM & FGA & FG\\% & 3FGM & 3FGA & 3FG\\% & FTM & \\\\\n",
       "\t\\hline\n",
       "\t& String & String & String & Int64 & Int64 & Float64 & Int64 & Int64 & Float64 & Int64 & \\\\\n",
       "\t\\hline\n",
       "\t1 &  & GSW & BRO & 2510 & 5730 & 0.44 & 678 & 2032 & 0.33 & 1214 & $\\dots$ \\\\\n",
       "\t2 &  & LAC & LAL & 2992 & 6425 & 0.47 & 895 & 2410 & 0.37 & 1498 & $\\dots$ \\\\\n",
       "\t3 &  & CHA & CLE & 2425 & 5586 & 0.43 & 785 & 2231 & 0.35 & 1052 & $\\dots$ \\\\\n",
       "\t4 &  & NYK & IND & 2638 & 5896 & 0.45 & 631 & 1872 & 0.34 & 1076 & $\\dots$ \\\\\n",
       "\t5 &  & MIA & ORL & 2880 & 6160 & 0.47 & 979 & 2584 & 0.38 & 1440 & $\\dots$ \\\\\n",
       "\t6 &  & WAS & PHI & 2990 & 6544 & 0.46 & 864 & 2345 & 0.37 & 1394 & $\\dots$ \\\\\n",
       "\t7 &  & MIL & BOS & 3160 & 6638 & 0.48 & 1007 & 2840 & 0.35 & 1336 & $\\dots$ \\\\\n",
       "\t8 &  & NOP & TOR & 3065 & 6598 & 0.46 & 982 & 2656 & 0.37 & 1229 & $\\dots$ \\\\\n",
       "\t9 &  & ATL & CHI & 2723 & 6067 & 0.45 & 805 & 2416 & 0.33 & 1237 & $\\dots$ \\\\\n",
       "\t10 &  & OCT & HOU & 2879 & 6156 & 0.47 & 770 & 2171 & 0.35 & 1422 & $\\dots$ \\\\\n",
       "\t11 &  & SAS & MEM & 2995 & 6350 & 0.47 & 760 & 2021 & 0.38 & 1348 & $\\dots$ \\\\\n",
       "\t12 &  & DET & MIN & 2595 & 5658 & 0.46 & 791 & 2157 & 0.37 & 1097 & $\\dots$ \\\\\n",
       "\t13 &  & SAC & DEN & 2943 & 6364 & 0.46 & 914 & 2511 & 0.36 & 1127 & $\\dots$ \\\\\n",
       "\t14 &  & UTA & POR & 2886 & 6130 & 0.47 & 963 & 2537 & 0.38 & 1278 & $\\dots$ \\\\\n",
       "\t15 &  & DAL & PHO & 3124 & 6772 & 0.46 & 1136 & 3095 & 0.37 & 1392 & $\\dots$ \\\\\n",
       "\t16 &  & NOP & MIA & 3065 & 6598 & 0.46 & 982 & 2656 & 0.37 & 1229 & $\\dots$ \\\\\n",
       "\t17 &  & GSW & MIL & 2510 & 5730 & 0.44 & 678 & 2032 & 0.33 & 1214 & $\\dots$ \\\\\n",
       "\t18 &  & BRO & BOS & 2908 & 6498 & 0.45 & 941 & 2746 & 0.34 & 1291 & $\\dots$ \\\\\n",
       "\t19 &  & DAL & LAL & 3124 & 6772 & 0.46 & 1136 & 3095 & 0.37 & 1392 & $\\dots$ \\\\\n",
       "\t20 &  & LAC & DEN & 2992 & 6425 & 0.47 & 895 & 2410 & 0.37 & 1498 & $\\dots$ \\\\\n",
       "\t21 &  & ATL & MEM & 2723 & 6067 & 0.45 & 805 & 2416 & 0.33 & 1237 & $\\dots$ \\\\\n",
       "\t22 &  & OCT & CHA & 2879 & 6156 & 0.47 & 770 & 2171 & 0.35 & 1422 & $\\dots$ \\\\\n",
       "\t23 &  & CLE & DET & 2619 & 5715 & 0.46 & 727 & 2070 & 0.35 & 983 & $\\dots$ \\\\\n",
       "\t24 &  & ORL & WAS & 2871 & 6468 & 0.44 & 807 & 2354 & 0.34 & 1282 & $\\dots$ \\\\\n",
       "\t25 &  & PHI & NYK & 3000 & 6417 & 0.47 & 848 & 2307 & 0.37 & 1236 & $\\dots$ \\\\\n",
       "\t26 &  & IND & CHI & 3075 & 6457 & 0.48 & 743 & 2046 & 0.36 & 1096 & $\\dots$ \\\\\n",
       "\t27 &  & TOR & SAS & 2897 & 6331 & 0.46 & 995 & 2663 & 0.37 & 1329 & $\\dots$ \\\\\n",
       "\t28 &  & MIN & UTA & 2586 & 5865 & 0.44 & 853 & 2540 & 0.34 & 1223 & $\\dots$ \\\\\n",
       "\t29 &  & HOU & POR & 2936 & 6512 & 0.45 & 1126 & 3261 & 0.35 & 1484 & $\\dots$ \\\\\n",
       "\t30 &  & PHO & SAC & 3006 & 6429 & 0.47 & 831 & 2320 & 0.36 & 1451 & $\\dots$ \\\\\n",
       "\t$\\dots$ & $\\dots$ & $\\dots$ & $\\dots$ & $\\dots$ & $\\dots$ & $\\dots$ & $\\dots$ & $\\dots$ & $\\dots$ & $\\dots$ &  \\\\\n",
       "\\end{tabular}\n"
      ],
      "text/plain": [
       "40×110 DataFrame. Omitted printing of 102 columns\n",
       "│ Row │ teamWinAbr │ Team   │ Team_1 │ FGM   │ FGA   │ FG%     │ 3FGM  │ 3FGA  │\n",
       "│     │ \u001b[90mString\u001b[39m     │ \u001b[90mString\u001b[39m │ \u001b[90mString\u001b[39m │ \u001b[90mInt64\u001b[39m │ \u001b[90mInt64\u001b[39m │ \u001b[90mFloat64\u001b[39m │ \u001b[90mInt64\u001b[39m │ \u001b[90mInt64\u001b[39m │\n",
       "├─────┼────────────┼────────┼────────┼───────┼───────┼─────────┼───────┼───────┤\n",
       "│ 1   │            │ GSW    │ BRO    │ 2510  │ 5730  │ 0.44    │ 678   │ 2032  │\n",
       "│ 2   │            │ LAC    │ LAL    │ 2992  │ 6425  │ 0.47    │ 895   │ 2410  │\n",
       "│ 3   │            │ CHA    │ CLE    │ 2425  │ 5586  │ 0.43    │ 785   │ 2231  │\n",
       "│ 4   │            │ NYK    │ IND    │ 2638  │ 5896  │ 0.45    │ 631   │ 1872  │\n",
       "│ 5   │            │ MIA    │ ORL    │ 2880  │ 6160  │ 0.47    │ 979   │ 2584  │\n",
       "│ 6   │            │ WAS    │ PHI    │ 2990  │ 6544  │ 0.46    │ 864   │ 2345  │\n",
       "│ 7   │            │ MIL    │ BOS    │ 3160  │ 6638  │ 0.48    │ 1007  │ 2840  │\n",
       "│ 8   │            │ NOP    │ TOR    │ 3065  │ 6598  │ 0.46    │ 982   │ 2656  │\n",
       "│ 9   │            │ ATL    │ CHI    │ 2723  │ 6067  │ 0.45    │ 805   │ 2416  │\n",
       "│ 10  │            │ OCT    │ HOU    │ 2879  │ 6156  │ 0.47    │ 770   │ 2171  │\n",
       "⋮\n",
       "│ 30  │            │ PHO    │ SAC    │ 3006  │ 6429  │ 0.47    │ 831   │ 2320  │\n",
       "│ 31  │            │ DAL    │ LAC    │ 3124  │ 6772  │ 0.46    │ 1136  │ 3095  │\n",
       "│ 32  │            │ BRO    │ CHA    │ 2908  │ 6498  │ 0.45    │ 941   │ 2746  │\n",
       "│ 33  │            │ ORL    │ WAS    │ 2871  │ 6468  │ 0.44    │ 807   │ 2354  │\n",
       "│ 34  │            │ SAS    │ NOP    │ 2995  │ 6350  │ 0.47    │ 760   │ 2021  │\n",
       "│ 35  │            │ PHI    │ CLE    │ 3000  │ 6417  │ 0.47    │ 848   │ 2307  │\n",
       "│ 36  │            │ MIL    │ NYK    │ 3160  │ 6638  │ 0.48    │ 1007  │ 2840  │\n",
       "│ 37  │            │ BOS    │ IND    │ 2971  │ 6448  │ 0.46    │ 905   │ 2487  │\n",
       "│ 38  │            │ GSW    │ CHI    │ 2510  │ 5730  │ 0.44    │ 678   │ 2032  │\n",
       "│ 39  │            │ PHO    │ SAC    │ 3006  │ 6429  │ 0.47    │ 831   │ 2320  │\n",
       "│ 40  │            │ MIN    │ LAL    │ 2586  │ 5865  │ 0.44    │ 853   │ 2540  │"
      ]
     },
     "execution_count": 61,
     "metadata": {},
     "output_type": "execute_result"
    }
   ],
   "source": [
    "openingWeek"
   ]
  },
  {
   "cell_type": "code",
   "execution_count": 77,
   "metadata": {},
   "outputs": [
    {
     "data": {
      "text/html": [
       "<table class=\"data-frame\"><thead><tr><th></th><th>teamWinAbr</th><th>Team</th><th>FGM</th><th>FGA</th><th>FG%</th><th>3FGM</th><th>3FGA</th><th>3FG%</th><th>FTM</th><th>FTA</th></tr><tr><th></th><th>String</th><th>String</th><th>Int64</th><th>Int64</th><th>Float64</th><th>Int64</th><th>Int64</th><th>Float64</th><th>Int64</th><th>Int64</th></tr></thead><tbody><p>34,104 rows × 110 columns (omitted printing of 100 columns)</p><tr><th>1</th><td>ATL</td><td>ATL</td><td>3349</td><td>7223</td><td>0.46</td><td>271</td><td>836</td><td>0.32</td><td>2034</td><td>2544</td></tr><tr><th>2</th><td>BOS</td><td>BOS</td><td>3695</td><td>7214</td><td>0.51</td><td>109</td><td>346</td><td>0.32</td><td>1646</td><td>1997</td></tr><tr><th>3</th><td>DET</td><td>DET</td><td>3194</td><td>6875</td><td>0.46</td><td>131</td><td>440</td><td>0.3</td><td>1686</td><td>2211</td></tr><tr><th>4</th><td>IND</td><td>IND</td><td>3450</td><td>6994</td><td>0.49</td><td>249</td><td>749</td><td>0.33</td><td>2010</td><td>2479</td></tr><tr><th>5</th><td>MIL</td><td>MIL</td><td>3337</td><td>6948</td><td>0.48</td><td>257</td><td>753</td><td>0.34</td><td>1796</td><td>2241</td></tr><tr><th>6</th><td>MIN</td><td>MIN</td><td>3265</td><td>7276</td><td>0.45</td><td>108</td><td>381</td><td>0.28</td><td>1531</td><td>2082</td></tr><tr><th>7</th><td>PHO</td><td>PHO</td><td>3573</td><td>7199</td><td>0.5</td><td>138</td><td>432</td><td>0.32</td><td>2064</td><td>2680</td></tr><tr><th>8</th><td>SEA</td><td>SEA</td><td>3500</td><td>7117</td><td>0.49</td><td>136</td><td>427</td><td>0.32</td><td>1608</td><td>2143</td></tr><tr><th>9</th><td>UTA</td><td>UTA</td><td>3214</td><td>6537</td><td>0.49</td><td>148</td><td>458</td><td>0.32</td><td>1951</td><td>2472</td></tr><tr><th>10</th><td>HOU</td><td>HOU</td><td>3403</td><td>7287</td><td>0.47</td><td>316</td><td>989</td><td>0.32</td><td>1631</td><td>2200</td></tr><tr><th>11</th><td>LAL</td><td>LAL</td><td>3343</td><td>6911</td><td>0.48</td><td>226</td><td>744</td><td>0.3</td><td>1805</td><td>2261</td></tr><tr><th>12</th><td>MIL</td><td>MIL</td><td>3337</td><td>6948</td><td>0.48</td><td>257</td><td>753</td><td>0.34</td><td>1796</td><td>2241</td></tr><tr><th>13</th><td>NYK</td><td>NYK</td><td>3308</td><td>6822</td><td>0.48</td><td>185</td><td>558</td><td>0.33</td><td>1654</td><td>2147</td></tr><tr><th>14</th><td>ORL</td><td>ORL</td><td>3298</td><td>7256</td><td>0.45</td><td>270</td><td>754</td><td>0.36</td><td>1818</td><td>2447</td></tr><tr><th>15</th><td>SAC</td><td>SAC</td><td>3086</td><td>6818</td><td>0.45</td><td>216</td><td>578</td><td>0.37</td><td>1540</td><td>2105</td></tr><tr><th>16</th><td>WAS</td><td>WAS</td><td>3390</td><td>7268</td><td>0.47</td><td>55</td><td>284</td><td>0.19</td><td>1478</td><td>2028</td></tr><tr><th>17</th><td>ATL</td><td>ATL</td><td>3349</td><td>7223</td><td>0.46</td><td>271</td><td>836</td><td>0.32</td><td>2034</td><td>2544</td></tr><tr><th>18</th><td>BOS</td><td>BOS</td><td>3695</td><td>7214</td><td>0.51</td><td>109</td><td>346</td><td>0.32</td><td>1646</td><td>1997</td></tr><tr><th>19</th><td>DET</td><td>DET</td><td>3194</td><td>6875</td><td>0.46</td><td>131</td><td>440</td><td>0.3</td><td>1686</td><td>2211</td></tr><tr><th>20</th><td>GSW</td><td>GSW</td><td>3566</td><td>7346</td><td>0.49</td><td>270</td><td>801</td><td>0.34</td><td>2162</td><td>2761</td></tr><tr><th>21</th><td>SAS</td><td>SAS</td><td>3409</td><td>6988</td><td>0.49</td><td>81</td><td>297</td><td>0.27</td><td>1883</td><td>2459</td></tr><tr><th>22</th><td>SEA</td><td>SEA</td><td>3500</td><td>7117</td><td>0.49</td><td>136</td><td>427</td><td>0.32</td><td>1608</td><td>2143</td></tr><tr><th>23</th><td>UTA</td><td>UTA</td><td>3214</td><td>6537</td><td>0.49</td><td>148</td><td>458</td><td>0.32</td><td>1951</td><td>2472</td></tr><tr><th>24</th><td>WAS</td><td>WAS</td><td>3390</td><td>7268</td><td>0.47</td><td>55</td><td>284</td><td>0.19</td><td>1478</td><td>2028</td></tr><tr><th>25</th><td>ATL</td><td>ATL</td><td>3349</td><td>7223</td><td>0.46</td><td>271</td><td>836</td><td>0.32</td><td>2034</td><td>2544</td></tr><tr><th>26</th><td>CHA</td><td>CHA</td><td>3286</td><td>7033</td><td>0.47</td><td>131</td><td>417</td><td>0.31</td><td>1725</td><td>2214</td></tr><tr><th>27</th><td>CHI</td><td>CHI</td><td>3632</td><td>7125</td><td>0.51</td><td>155</td><td>424</td><td>0.37</td><td>1605</td><td>2111</td></tr><tr><th>28</th><td>DET</td><td>DET</td><td>3194</td><td>6875</td><td>0.46</td><td>131</td><td>440</td><td>0.3</td><td>1686</td><td>2211</td></tr><tr><th>29</th><td>HOU</td><td>HOU</td><td>3403</td><td>7287</td><td>0.47</td><td>316</td><td>989</td><td>0.32</td><td>1631</td><td>2200</td></tr><tr><th>30</th><td>MIL</td><td>MIL</td><td>3337</td><td>6948</td><td>0.48</td><td>257</td><td>753</td><td>0.34</td><td>1796</td><td>2241</td></tr><tr><th>&vellip;</th><td>&vellip;</td><td>&vellip;</td><td>&vellip;</td><td>&vellip;</td><td>&vellip;</td><td>&vellip;</td><td>&vellip;</td><td>&vellip;</td><td>&vellip;</td><td>&vellip;</td></tr></tbody></table>"
      ],
      "text/latex": [
       "\\begin{tabular}{r|ccccccccccc}\n",
       "\t& teamWinAbr & Team & FGM & FGA & FG\\% & 3FGM & 3FGA & 3FG\\% & FTM & FTA & \\\\\n",
       "\t\\hline\n",
       "\t& String & String & Int64 & Int64 & Float64 & Int64 & Int64 & Float64 & Int64 & Int64 & \\\\\n",
       "\t\\hline\n",
       "\t1 & ATL & ATL & 3349 & 7223 & 0.46 & 271 & 836 & 0.32 & 2034 & 2544 & $\\dots$ \\\\\n",
       "\t2 & BOS & BOS & 3695 & 7214 & 0.51 & 109 & 346 & 0.32 & 1646 & 1997 & $\\dots$ \\\\\n",
       "\t3 & DET & DET & 3194 & 6875 & 0.46 & 131 & 440 & 0.3 & 1686 & 2211 & $\\dots$ \\\\\n",
       "\t4 & IND & IND & 3450 & 6994 & 0.49 & 249 & 749 & 0.33 & 2010 & 2479 & $\\dots$ \\\\\n",
       "\t5 & MIL & MIL & 3337 & 6948 & 0.48 & 257 & 753 & 0.34 & 1796 & 2241 & $\\dots$ \\\\\n",
       "\t6 & MIN & MIN & 3265 & 7276 & 0.45 & 108 & 381 & 0.28 & 1531 & 2082 & $\\dots$ \\\\\n",
       "\t7 & PHO & PHO & 3573 & 7199 & 0.5 & 138 & 432 & 0.32 & 2064 & 2680 & $\\dots$ \\\\\n",
       "\t8 & SEA & SEA & 3500 & 7117 & 0.49 & 136 & 427 & 0.32 & 1608 & 2143 & $\\dots$ \\\\\n",
       "\t9 & UTA & UTA & 3214 & 6537 & 0.49 & 148 & 458 & 0.32 & 1951 & 2472 & $\\dots$ \\\\\n",
       "\t10 & HOU & HOU & 3403 & 7287 & 0.47 & 316 & 989 & 0.32 & 1631 & 2200 & $\\dots$ \\\\\n",
       "\t11 & LAL & LAL & 3343 & 6911 & 0.48 & 226 & 744 & 0.3 & 1805 & 2261 & $\\dots$ \\\\\n",
       "\t12 & MIL & MIL & 3337 & 6948 & 0.48 & 257 & 753 & 0.34 & 1796 & 2241 & $\\dots$ \\\\\n",
       "\t13 & NYK & NYK & 3308 & 6822 & 0.48 & 185 & 558 & 0.33 & 1654 & 2147 & $\\dots$ \\\\\n",
       "\t14 & ORL & ORL & 3298 & 7256 & 0.45 & 270 & 754 & 0.36 & 1818 & 2447 & $\\dots$ \\\\\n",
       "\t15 & SAC & SAC & 3086 & 6818 & 0.45 & 216 & 578 & 0.37 & 1540 & 2105 & $\\dots$ \\\\\n",
       "\t16 & WAS & WAS & 3390 & 7268 & 0.47 & 55 & 284 & 0.19 & 1478 & 2028 & $\\dots$ \\\\\n",
       "\t17 & ATL & ATL & 3349 & 7223 & 0.46 & 271 & 836 & 0.32 & 2034 & 2544 & $\\dots$ \\\\\n",
       "\t18 & BOS & BOS & 3695 & 7214 & 0.51 & 109 & 346 & 0.32 & 1646 & 1997 & $\\dots$ \\\\\n",
       "\t19 & DET & DET & 3194 & 6875 & 0.46 & 131 & 440 & 0.3 & 1686 & 2211 & $\\dots$ \\\\\n",
       "\t20 & GSW & GSW & 3566 & 7346 & 0.49 & 270 & 801 & 0.34 & 2162 & 2761 & $\\dots$ \\\\\n",
       "\t21 & SAS & SAS & 3409 & 6988 & 0.49 & 81 & 297 & 0.27 & 1883 & 2459 & $\\dots$ \\\\\n",
       "\t22 & SEA & SEA & 3500 & 7117 & 0.49 & 136 & 427 & 0.32 & 1608 & 2143 & $\\dots$ \\\\\n",
       "\t23 & UTA & UTA & 3214 & 6537 & 0.49 & 148 & 458 & 0.32 & 1951 & 2472 & $\\dots$ \\\\\n",
       "\t24 & WAS & WAS & 3390 & 7268 & 0.47 & 55 & 284 & 0.19 & 1478 & 2028 & $\\dots$ \\\\\n",
       "\t25 & ATL & ATL & 3349 & 7223 & 0.46 & 271 & 836 & 0.32 & 2034 & 2544 & $\\dots$ \\\\\n",
       "\t26 & CHA & CHA & 3286 & 7033 & 0.47 & 131 & 417 & 0.31 & 1725 & 2214 & $\\dots$ \\\\\n",
       "\t27 & CHI & CHI & 3632 & 7125 & 0.51 & 155 & 424 & 0.37 & 1605 & 2111 & $\\dots$ \\\\\n",
       "\t28 & DET & DET & 3194 & 6875 & 0.46 & 131 & 440 & 0.3 & 1686 & 2211 & $\\dots$ \\\\\n",
       "\t29 & HOU & HOU & 3403 & 7287 & 0.47 & 316 & 989 & 0.32 & 1631 & 2200 & $\\dots$ \\\\\n",
       "\t30 & MIL & MIL & 3337 & 6948 & 0.48 & 257 & 753 & 0.34 & 1796 & 2241 & $\\dots$ \\\\\n",
       "\t$\\dots$ & $\\dots$ & $\\dots$ & $\\dots$ & $\\dots$ & $\\dots$ & $\\dots$ & $\\dots$ & $\\dots$ & $\\dots$ & $\\dots$ &  \\\\\n",
       "\\end{tabular}\n"
      ],
      "text/plain": [
       "34104×110 DataFrame. Omitted printing of 103 columns\n",
       "│ Row   │ teamWinAbr │ Team   │ FGM   │ FGA   │ FG%     │ 3FGM  │ 3FGA  │\n",
       "│       │ \u001b[90mString\u001b[39m     │ \u001b[90mString\u001b[39m │ \u001b[90mInt64\u001b[39m │ \u001b[90mInt64\u001b[39m │ \u001b[90mFloat64\u001b[39m │ \u001b[90mInt64\u001b[39m │ \u001b[90mInt64\u001b[39m │\n",
       "├───────┼────────────┼────────┼───────┼───────┼─────────┼───────┼───────┤\n",
       "│ 1     │ ATL        │ ATL    │ 3349  │ 7223  │ 0.46    │ 271   │ 836   │\n",
       "│ 2     │ BOS        │ BOS    │ 3695  │ 7214  │ 0.51    │ 109   │ 346   │\n",
       "│ 3     │ DET        │ DET    │ 3194  │ 6875  │ 0.46    │ 131   │ 440   │\n",
       "│ 4     │ IND        │ IND    │ 3450  │ 6994  │ 0.49    │ 249   │ 749   │\n",
       "│ 5     │ MIL        │ MIL    │ 3337  │ 6948  │ 0.48    │ 257   │ 753   │\n",
       "│ 6     │ MIN        │ MIN    │ 3265  │ 7276  │ 0.45    │ 108   │ 381   │\n",
       "│ 7     │ PHO        │ PHO    │ 3573  │ 7199  │ 0.5     │ 138   │ 432   │\n",
       "│ 8     │ SEA        │ SEA    │ 3500  │ 7117  │ 0.49    │ 136   │ 427   │\n",
       "│ 9     │ UTA        │ UTA    │ 3214  │ 6537  │ 0.49    │ 148   │ 458   │\n",
       "│ 10    │ HOU        │ HOU    │ 3403  │ 7287  │ 0.47    │ 316   │ 989   │\n",
       "⋮\n",
       "│ 34094 │            │ PHO    │ 3006  │ 6429  │ 0.47    │ 831   │ 2320  │\n",
       "│ 34095 │            │ DAL    │ 3124  │ 6772  │ 0.46    │ 1136  │ 3095  │\n",
       "│ 34096 │            │ BRO    │ 2908  │ 6498  │ 0.45    │ 941   │ 2746  │\n",
       "│ 34097 │            │ ORL    │ 2871  │ 6468  │ 0.44    │ 807   │ 2354  │\n",
       "│ 34098 │            │ SAS    │ 2995  │ 6350  │ 0.47    │ 760   │ 2021  │\n",
       "│ 34099 │            │ PHI    │ 3000  │ 6417  │ 0.47    │ 848   │ 2307  │\n",
       "│ 34100 │            │ MIL    │ 3160  │ 6638  │ 0.48    │ 1007  │ 2840  │\n",
       "│ 34101 │            │ BOS    │ 2971  │ 6448  │ 0.46    │ 905   │ 2487  │\n",
       "│ 34102 │            │ GSW    │ 2510  │ 5730  │ 0.44    │ 678   │ 2032  │\n",
       "│ 34103 │            │ PHO    │ 3006  │ 6429  │ 0.47    │ 831   │ 2320  │\n",
       "│ 34104 │            │ MIN    │ 2586  │ 5865  │ 0.44    │ 853   │ 2540  │"
      ]
     },
     "execution_count": 77,
     "metadata": {},
     "output_type": "execute_result"
    }
   ],
   "source": [
    "openingWeek = vcat(finalDF, openingWeek)"
   ]
  },
  {
   "cell_type": "code",
   "execution_count": 78,
   "metadata": {},
   "outputs": [
    {
     "data": {
      "text/html": [
       "<table class=\"data-frame\"><thead><tr><th></th><th>teamWinAbr</th><th>Team</th><th>FGM</th><th>FGA</th><th>FG%</th><th>3FGM</th><th>3FGA</th><th>3FG%</th><th>FTM</th><th>FTA</th></tr><tr><th></th><th>String</th><th>String</th><th>Int64</th><th>Int64</th><th>Float64</th><th>Int64</th><th>Int64</th><th>Float64</th><th>Int64</th><th>Int64</th></tr></thead><tbody><p>40 rows × 110 columns (omitted printing of 100 columns)</p><tr><th>1</th><td></td><td>GSW</td><td>2510</td><td>5730</td><td>0.44</td><td>678</td><td>2032</td><td>0.33</td><td>1214</td><td>1511</td></tr><tr><th>2</th><td></td><td>LAC</td><td>2992</td><td>6425</td><td>0.47</td><td>895</td><td>2410</td><td>0.37</td><td>1498</td><td>1894</td></tr><tr><th>3</th><td></td><td>CHA</td><td>2425</td><td>5586</td><td>0.43</td><td>785</td><td>2231</td><td>0.35</td><td>1052</td><td>1406</td></tr><tr><th>4</th><td></td><td>NYK</td><td>2638</td><td>5896</td><td>0.45</td><td>631</td><td>1872</td><td>0.34</td><td>1076</td><td>1550</td></tr><tr><th>5</th><td></td><td>MIA</td><td>2880</td><td>6160</td><td>0.47</td><td>979</td><td>2584</td><td>0.38</td><td>1440</td><td>1840</td></tr><tr><th>6</th><td></td><td>WAS</td><td>2990</td><td>6544</td><td>0.46</td><td>864</td><td>2345</td><td>0.37</td><td>1394</td><td>1770</td></tr><tr><th>7</th><td></td><td>MIL</td><td>3160</td><td>6638</td><td>0.48</td><td>1007</td><td>2840</td><td>0.35</td><td>1336</td><td>1800</td></tr><tr><th>8</th><td></td><td>NOP</td><td>3065</td><td>6598</td><td>0.46</td><td>982</td><td>2656</td><td>0.37</td><td>1229</td><td>1687</td></tr><tr><th>9</th><td></td><td>ATL</td><td>2723</td><td>6067</td><td>0.45</td><td>805</td><td>2416</td><td>0.33</td><td>1237</td><td>1566</td></tr><tr><th>10</th><td></td><td>OCT</td><td>2879</td><td>6156</td><td>0.47</td><td>770</td><td>2171</td><td>0.35</td><td>1422</td><td>1787</td></tr><tr><th>11</th><td></td><td>SAS</td><td>2995</td><td>6350</td><td>0.47</td><td>760</td><td>2021</td><td>0.38</td><td>1348</td><td>1664</td></tr><tr><th>12</th><td></td><td>DET</td><td>2595</td><td>5658</td><td>0.46</td><td>791</td><td>2157</td><td>0.37</td><td>1097</td><td>1476</td></tr><tr><th>13</th><td></td><td>SAC</td><td>2943</td><td>6364</td><td>0.46</td><td>914</td><td>2511</td><td>0.36</td><td>1127</td><td>1464</td></tr><tr><th>14</th><td></td><td>UTA</td><td>2886</td><td>6130</td><td>0.47</td><td>963</td><td>2537</td><td>0.38</td><td>1278</td><td>1641</td></tr><tr><th>15</th><td></td><td>DAL</td><td>3124</td><td>6772</td><td>0.46</td><td>1136</td><td>3095</td><td>0.37</td><td>1392</td><td>1787</td></tr><tr><th>16</th><td></td><td>NOP</td><td>3065</td><td>6598</td><td>0.46</td><td>982</td><td>2656</td><td>0.37</td><td>1229</td><td>1687</td></tr><tr><th>17</th><td></td><td>GSW</td><td>2510</td><td>5730</td><td>0.44</td><td>678</td><td>2032</td><td>0.33</td><td>1214</td><td>1511</td></tr><tr><th>18</th><td></td><td>BRO</td><td>2908</td><td>6498</td><td>0.45</td><td>941</td><td>2746</td><td>0.34</td><td>1291</td><td>1732</td></tr><tr><th>19</th><td></td><td>DAL</td><td>3124</td><td>6772</td><td>0.46</td><td>1136</td><td>3095</td><td>0.37</td><td>1392</td><td>1787</td></tr><tr><th>20</th><td></td><td>LAC</td><td>2992</td><td>6425</td><td>0.47</td><td>895</td><td>2410</td><td>0.37</td><td>1498</td><td>1894</td></tr><tr><th>21</th><td></td><td>ATL</td><td>2723</td><td>6067</td><td>0.45</td><td>805</td><td>2416</td><td>0.33</td><td>1237</td><td>1566</td></tr><tr><th>22</th><td></td><td>OCT</td><td>2879</td><td>6156</td><td>0.47</td><td>770</td><td>2171</td><td>0.35</td><td>1422</td><td>1787</td></tr><tr><th>23</th><td></td><td>CLE</td><td>2619</td><td>5715</td><td>0.46</td><td>727</td><td>2070</td><td>0.35</td><td>983</td><td>1296</td></tr><tr><th>24</th><td></td><td>ORL</td><td>2871</td><td>6468</td><td>0.44</td><td>807</td><td>2354</td><td>0.34</td><td>1282</td><td>1656</td></tr><tr><th>25</th><td></td><td>PHI</td><td>3000</td><td>6417</td><td>0.47</td><td>848</td><td>2307</td><td>0.37</td><td>1236</td><td>1638</td></tr><tr><th>26</th><td></td><td>IND</td><td>3075</td><td>6457</td><td>0.48</td><td>743</td><td>2046</td><td>0.36</td><td>1096</td><td>1393</td></tr><tr><th>27</th><td></td><td>TOR</td><td>2897</td><td>6331</td><td>0.46</td><td>995</td><td>2663</td><td>0.37</td><td>1329</td><td>1670</td></tr><tr><th>28</th><td></td><td>MIN</td><td>2586</td><td>5865</td><td>0.44</td><td>853</td><td>2540</td><td>0.34</td><td>1223</td><td>1624</td></tr><tr><th>29</th><td></td><td>HOU</td><td>2936</td><td>6512</td><td>0.45</td><td>1126</td><td>3261</td><td>0.35</td><td>1484</td><td>1876</td></tr><tr><th>30</th><td></td><td>PHO</td><td>3006</td><td>6429</td><td>0.47</td><td>831</td><td>2320</td><td>0.36</td><td>1451</td><td>1740</td></tr><tr><th>&vellip;</th><td>&vellip;</td><td>&vellip;</td><td>&vellip;</td><td>&vellip;</td><td>&vellip;</td><td>&vellip;</td><td>&vellip;</td><td>&vellip;</td><td>&vellip;</td><td>&vellip;</td></tr></tbody></table>"
      ],
      "text/latex": [
       "\\begin{tabular}{r|ccccccccccc}\n",
       "\t& teamWinAbr & Team & FGM & FGA & FG\\% & 3FGM & 3FGA & 3FG\\% & FTM & FTA & \\\\\n",
       "\t\\hline\n",
       "\t& String & String & Int64 & Int64 & Float64 & Int64 & Int64 & Float64 & Int64 & Int64 & \\\\\n",
       "\t\\hline\n",
       "\t1 &  & GSW & 2510 & 5730 & 0.44 & 678 & 2032 & 0.33 & 1214 & 1511 & $\\dots$ \\\\\n",
       "\t2 &  & LAC & 2992 & 6425 & 0.47 & 895 & 2410 & 0.37 & 1498 & 1894 & $\\dots$ \\\\\n",
       "\t3 &  & CHA & 2425 & 5586 & 0.43 & 785 & 2231 & 0.35 & 1052 & 1406 & $\\dots$ \\\\\n",
       "\t4 &  & NYK & 2638 & 5896 & 0.45 & 631 & 1872 & 0.34 & 1076 & 1550 & $\\dots$ \\\\\n",
       "\t5 &  & MIA & 2880 & 6160 & 0.47 & 979 & 2584 & 0.38 & 1440 & 1840 & $\\dots$ \\\\\n",
       "\t6 &  & WAS & 2990 & 6544 & 0.46 & 864 & 2345 & 0.37 & 1394 & 1770 & $\\dots$ \\\\\n",
       "\t7 &  & MIL & 3160 & 6638 & 0.48 & 1007 & 2840 & 0.35 & 1336 & 1800 & $\\dots$ \\\\\n",
       "\t8 &  & NOP & 3065 & 6598 & 0.46 & 982 & 2656 & 0.37 & 1229 & 1687 & $\\dots$ \\\\\n",
       "\t9 &  & ATL & 2723 & 6067 & 0.45 & 805 & 2416 & 0.33 & 1237 & 1566 & $\\dots$ \\\\\n",
       "\t10 &  & OCT & 2879 & 6156 & 0.47 & 770 & 2171 & 0.35 & 1422 & 1787 & $\\dots$ \\\\\n",
       "\t11 &  & SAS & 2995 & 6350 & 0.47 & 760 & 2021 & 0.38 & 1348 & 1664 & $\\dots$ \\\\\n",
       "\t12 &  & DET & 2595 & 5658 & 0.46 & 791 & 2157 & 0.37 & 1097 & 1476 & $\\dots$ \\\\\n",
       "\t13 &  & SAC & 2943 & 6364 & 0.46 & 914 & 2511 & 0.36 & 1127 & 1464 & $\\dots$ \\\\\n",
       "\t14 &  & UTA & 2886 & 6130 & 0.47 & 963 & 2537 & 0.38 & 1278 & 1641 & $\\dots$ \\\\\n",
       "\t15 &  & DAL & 3124 & 6772 & 0.46 & 1136 & 3095 & 0.37 & 1392 & 1787 & $\\dots$ \\\\\n",
       "\t16 &  & NOP & 3065 & 6598 & 0.46 & 982 & 2656 & 0.37 & 1229 & 1687 & $\\dots$ \\\\\n",
       "\t17 &  & GSW & 2510 & 5730 & 0.44 & 678 & 2032 & 0.33 & 1214 & 1511 & $\\dots$ \\\\\n",
       "\t18 &  & BRO & 2908 & 6498 & 0.45 & 941 & 2746 & 0.34 & 1291 & 1732 & $\\dots$ \\\\\n",
       "\t19 &  & DAL & 3124 & 6772 & 0.46 & 1136 & 3095 & 0.37 & 1392 & 1787 & $\\dots$ \\\\\n",
       "\t20 &  & LAC & 2992 & 6425 & 0.47 & 895 & 2410 & 0.37 & 1498 & 1894 & $\\dots$ \\\\\n",
       "\t21 &  & ATL & 2723 & 6067 & 0.45 & 805 & 2416 & 0.33 & 1237 & 1566 & $\\dots$ \\\\\n",
       "\t22 &  & OCT & 2879 & 6156 & 0.47 & 770 & 2171 & 0.35 & 1422 & 1787 & $\\dots$ \\\\\n",
       "\t23 &  & CLE & 2619 & 5715 & 0.46 & 727 & 2070 & 0.35 & 983 & 1296 & $\\dots$ \\\\\n",
       "\t24 &  & ORL & 2871 & 6468 & 0.44 & 807 & 2354 & 0.34 & 1282 & 1656 & $\\dots$ \\\\\n",
       "\t25 &  & PHI & 3000 & 6417 & 0.47 & 848 & 2307 & 0.37 & 1236 & 1638 & $\\dots$ \\\\\n",
       "\t26 &  & IND & 3075 & 6457 & 0.48 & 743 & 2046 & 0.36 & 1096 & 1393 & $\\dots$ \\\\\n",
       "\t27 &  & TOR & 2897 & 6331 & 0.46 & 995 & 2663 & 0.37 & 1329 & 1670 & $\\dots$ \\\\\n",
       "\t28 &  & MIN & 2586 & 5865 & 0.44 & 853 & 2540 & 0.34 & 1223 & 1624 & $\\dots$ \\\\\n",
       "\t29 &  & HOU & 2936 & 6512 & 0.45 & 1126 & 3261 & 0.35 & 1484 & 1876 & $\\dots$ \\\\\n",
       "\t30 &  & PHO & 3006 & 6429 & 0.47 & 831 & 2320 & 0.36 & 1451 & 1740 & $\\dots$ \\\\\n",
       "\t$\\dots$ & $\\dots$ & $\\dots$ & $\\dots$ & $\\dots$ & $\\dots$ & $\\dots$ & $\\dots$ & $\\dots$ & $\\dots$ & $\\dots$ &  \\\\\n",
       "\\end{tabular}\n"
      ],
      "text/plain": [
       "40×110 DataFrame. Omitted printing of 103 columns\n",
       "│ Row │ teamWinAbr │ Team   │ FGM   │ FGA   │ FG%     │ 3FGM  │ 3FGA  │\n",
       "│     │ \u001b[90mString\u001b[39m     │ \u001b[90mString\u001b[39m │ \u001b[90mInt64\u001b[39m │ \u001b[90mInt64\u001b[39m │ \u001b[90mFloat64\u001b[39m │ \u001b[90mInt64\u001b[39m │ \u001b[90mInt64\u001b[39m │\n",
       "├─────┼────────────┼────────┼───────┼───────┼─────────┼───────┼───────┤\n",
       "│ 1   │            │ GSW    │ 2510  │ 5730  │ 0.44    │ 678   │ 2032  │\n",
       "│ 2   │            │ LAC    │ 2992  │ 6425  │ 0.47    │ 895   │ 2410  │\n",
       "│ 3   │            │ CHA    │ 2425  │ 5586  │ 0.43    │ 785   │ 2231  │\n",
       "│ 4   │            │ NYK    │ 2638  │ 5896  │ 0.45    │ 631   │ 1872  │\n",
       "│ 5   │            │ MIA    │ 2880  │ 6160  │ 0.47    │ 979   │ 2584  │\n",
       "│ 6   │            │ WAS    │ 2990  │ 6544  │ 0.46    │ 864   │ 2345  │\n",
       "│ 7   │            │ MIL    │ 3160  │ 6638  │ 0.48    │ 1007  │ 2840  │\n",
       "│ 8   │            │ NOP    │ 3065  │ 6598  │ 0.46    │ 982   │ 2656  │\n",
       "│ 9   │            │ ATL    │ 2723  │ 6067  │ 0.45    │ 805   │ 2416  │\n",
       "│ 10  │            │ OCT    │ 2879  │ 6156  │ 0.47    │ 770   │ 2171  │\n",
       "⋮\n",
       "│ 30  │            │ PHO    │ 3006  │ 6429  │ 0.47    │ 831   │ 2320  │\n",
       "│ 31  │            │ DAL    │ 3124  │ 6772  │ 0.46    │ 1136  │ 3095  │\n",
       "│ 32  │            │ BRO    │ 2908  │ 6498  │ 0.45    │ 941   │ 2746  │\n",
       "│ 33  │            │ ORL    │ 2871  │ 6468  │ 0.44    │ 807   │ 2354  │\n",
       "│ 34  │            │ SAS    │ 2995  │ 6350  │ 0.47    │ 760   │ 2021  │\n",
       "│ 35  │            │ PHI    │ 3000  │ 6417  │ 0.47    │ 848   │ 2307  │\n",
       "│ 36  │            │ MIL    │ 3160  │ 6638  │ 0.48    │ 1007  │ 2840  │\n",
       "│ 37  │            │ BOS    │ 2971  │ 6448  │ 0.46    │ 905   │ 2487  │\n",
       "│ 38  │            │ GSW    │ 2510  │ 5730  │ 0.44    │ 678   │ 2032  │\n",
       "│ 39  │            │ PHO    │ 3006  │ 6429  │ 0.47    │ 831   │ 2320  │\n",
       "│ 40  │            │ MIN    │ 2586  │ 5865  │ 0.44    │ 853   │ 2540  │"
      ]
     },
     "execution_count": 78,
     "metadata": {},
     "output_type": "execute_result"
    }
   ],
   "source": [
    "tail(openingWeek, 40)"
   ]
  },
  {
   "cell_type": "code",
   "execution_count": 79,
   "metadata": {},
   "outputs": [
    {
     "data": {
      "text/plain": [
       "34104×109 Array{Any,2}:\n",
       " \"ATL\"  3349  7223  0.46   271   836  …  1864  729  373  1207  1763  8996\n",
       " \"BOS\"  3695  7214  0.51   109   346     2148  669  534  1275  1633  9043\n",
       " \"DET\"  3194  6875  0.46   131   440     1821  485  347  1128  1834  8169\n",
       " \"IND\"  3450  6994  0.49   249   749     2097  634  246  1241  1838  8323\n",
       " \"MIL\"  3337  6948  0.48   257   753     1836  784  304  1100  1824  7093\n",
       " \"MIN\"  3265  7276  0.45   108   381  …  1810  676  357   924  1714  7722\n",
       " \"PHO\"  3573  7199  0.5    138   432     1980  576  316   976  1290  7333\n",
       " \"SEA\"  3500  7117  0.49   136   427     1709  672  286   962  1454  5409\n",
       " \"UTA\"  3214  6537  0.49   148   458     2099  578  236  1065  1262  7601\n",
       " \"HOU\"  3403  7287  0.47   316   989     1808  708  383  1258  1598  8432\n",
       " \"LAL\"  3343  6911  0.48   226   744  …  2068  627  345  1122  1421  8522\n",
       " \"MIL\"  3337  6948  0.48   257   753     1836  784  304  1100  1824  7093\n",
       " \"NYK\"  3308  6822  0.48   185   558     2172  638  417  1341  1758  8444\n",
       " ⋮                                 ⋮  ⋱               ⋮              \n",
       " \"HOU\"  2936  6512  0.45  1126  3261     1359  367  392   766  1290  7693\n",
       " \"PHO\"  3006  6429  0.47   831  2320     1547  422  174   797  1128  6581\n",
       " \"DAL\"  3124  6772  0.46  1136  3095     1504  426  282   865  1301  7563\n",
       " \"BRO\"  2908  6498  0.45   941  2746  …  1448  392  194   823  1018  5971\n",
       " \"ORL\"  2871  6468  0.44   807  2354     1568  501  278   850  1462  7385\n",
       " \"SAS\"  2995  6350  0.47   760  2021     1927  538  357  1134  1513  8327\n",
       " \"PHI\"  3000  6417  0.47   848  2307     1301  374  146   885   992  5909\n",
       " \"MIL\"  3160  6638  0.48  1007  2840     1341  409  174   797  1114  5470\n",
       " \"BOS\"  2971  6448  0.46   905  2487  …  1880  542  374   921  1440  7969\n",
       " \"GSW\"  2510  5730  0.44   678  2032     1489  639  209   922  1319  6725\n",
       " \"PHO\"  3006  6429  0.47   831  2320     1547  422  174   797  1128  6581\n",
       " \"MIN\"  2586  5865  0.44   853  2540     1761  595  455  1012  1394  7710"
      ]
     },
     "execution_count": 79,
     "metadata": {},
     "output_type": "execute_result"
    }
   ],
   "source": [
    "X = convert(Array, openingWeek[:, 2:110])"
   ]
  },
  {
   "cell_type": "code",
   "execution_count": 80,
   "metadata": {},
   "outputs": [
    {
     "data": {
      "text/plain": [
       "34104-element Array{String,1}:\n",
       " \"ATL\"\n",
       " \"BOS\"\n",
       " \"DET\"\n",
       " \"IND\"\n",
       " \"MIL\"\n",
       " \"MIN\"\n",
       " \"PHO\"\n",
       " \"SEA\"\n",
       " \"UTA\"\n",
       " \"HOU\"\n",
       " \"LAL\"\n",
       " \"MIL\"\n",
       " \"NYK\"\n",
       " ⋮\n",
       " \"IND\"\n",
       " \"SAC\"\n",
       " \"HOU\"\n",
       " \"CHI\"\n",
       " \"TOR\"\n",
       " \"SEA\"\n",
       " \"ORL\"\n",
       " \"NYK\"\n",
       " \"CLE\"\n",
       " \"DAL\"\n",
       " \"SAC\"\n",
       " \"NOP\""
      ]
     },
     "execution_count": 80,
     "metadata": {},
     "output_type": "execute_result"
    }
   ],
   "source": [
    "using DecisionTree, ScikitLearn\n",
    "dectree_pred = DecisionTree.predict(model, X)\n",
    "rf_pred = DecisionTree.predict(rf, X)"
   ]
  },
  {
   "cell_type": "code",
   "execution_count": 81,
   "metadata": {},
   "outputs": [
    {
     "data": {
      "text/html": [
       "<table class=\"data-frame\"><thead><tr><th></th><th>teamWinAbr</th><th>predictedWin_DT</th><th>predictedWin_RF</th><th>Team</th><th>FGM</th><th>FGA</th><th>FG%</th><th>3FGM</th></tr><tr><th></th><th>String</th><th>String</th><th>String</th><th>String</th><th>Int64</th><th>Int64</th><th>Float64</th><th>Int64</th></tr></thead><tbody><p>34,104 rows × 112 columns (omitted printing of 104 columns)</p><tr><th>1</th><td>ATL</td><td>ATL</td><td>ATL</td><td>ATL</td><td>3349</td><td>7223</td><td>0.46</td><td>271</td></tr><tr><th>2</th><td>BOS</td><td>BOS</td><td>BOS</td><td>BOS</td><td>3695</td><td>7214</td><td>0.51</td><td>109</td></tr><tr><th>3</th><td>DET</td><td>DET</td><td>DET</td><td>DET</td><td>3194</td><td>6875</td><td>0.46</td><td>131</td></tr><tr><th>4</th><td>IND</td><td>IND</td><td>IND</td><td>IND</td><td>3450</td><td>6994</td><td>0.49</td><td>249</td></tr><tr><th>5</th><td>MIL</td><td>MIL</td><td>MIL</td><td>MIL</td><td>3337</td><td>6948</td><td>0.48</td><td>257</td></tr><tr><th>6</th><td>MIN</td><td>MIN</td><td>MIN</td><td>MIN</td><td>3265</td><td>7276</td><td>0.45</td><td>108</td></tr><tr><th>7</th><td>PHO</td><td>PHO</td><td>PHO</td><td>PHO</td><td>3573</td><td>7199</td><td>0.5</td><td>138</td></tr><tr><th>8</th><td>SEA</td><td>SEA</td><td>SEA</td><td>SEA</td><td>3500</td><td>7117</td><td>0.49</td><td>136</td></tr><tr><th>9</th><td>UTA</td><td>UTA</td><td>UTA</td><td>UTA</td><td>3214</td><td>6537</td><td>0.49</td><td>148</td></tr><tr><th>10</th><td>HOU</td><td>HOU</td><td>HOU</td><td>HOU</td><td>3403</td><td>7287</td><td>0.47</td><td>316</td></tr><tr><th>11</th><td>LAL</td><td>LAL</td><td>LAL</td><td>LAL</td><td>3343</td><td>6911</td><td>0.48</td><td>226</td></tr><tr><th>12</th><td>MIL</td><td>MIL</td><td>MIL</td><td>MIL</td><td>3337</td><td>6948</td><td>0.48</td><td>257</td></tr><tr><th>13</th><td>NYK</td><td>NYK</td><td>NYK</td><td>NYK</td><td>3308</td><td>6822</td><td>0.48</td><td>185</td></tr><tr><th>14</th><td>ORL</td><td>ORL</td><td>ORL</td><td>ORL</td><td>3298</td><td>7256</td><td>0.45</td><td>270</td></tr><tr><th>15</th><td>SAC</td><td>SAC</td><td>SAC</td><td>SAC</td><td>3086</td><td>6818</td><td>0.45</td><td>216</td></tr><tr><th>16</th><td>WAS</td><td>WAS</td><td>WAS</td><td>WAS</td><td>3390</td><td>7268</td><td>0.47</td><td>55</td></tr><tr><th>17</th><td>ATL</td><td>ATL</td><td>ATL</td><td>ATL</td><td>3349</td><td>7223</td><td>0.46</td><td>271</td></tr><tr><th>18</th><td>BOS</td><td>BOS</td><td>BOS</td><td>BOS</td><td>3695</td><td>7214</td><td>0.51</td><td>109</td></tr><tr><th>19</th><td>DET</td><td>DET</td><td>DET</td><td>DET</td><td>3194</td><td>6875</td><td>0.46</td><td>131</td></tr><tr><th>20</th><td>GSW</td><td>GSW</td><td>GSW</td><td>GSW</td><td>3566</td><td>7346</td><td>0.49</td><td>270</td></tr><tr><th>21</th><td>SAS</td><td>SAS</td><td>SAS</td><td>SAS</td><td>3409</td><td>6988</td><td>0.49</td><td>81</td></tr><tr><th>22</th><td>SEA</td><td>SEA</td><td>SEA</td><td>SEA</td><td>3500</td><td>7117</td><td>0.49</td><td>136</td></tr><tr><th>23</th><td>UTA</td><td>UTA</td><td>UTA</td><td>UTA</td><td>3214</td><td>6537</td><td>0.49</td><td>148</td></tr><tr><th>24</th><td>WAS</td><td>WAS</td><td>WAS</td><td>WAS</td><td>3390</td><td>7268</td><td>0.47</td><td>55</td></tr><tr><th>25</th><td>ATL</td><td>ATL</td><td>ATL</td><td>ATL</td><td>3349</td><td>7223</td><td>0.46</td><td>271</td></tr><tr><th>26</th><td>CHA</td><td>CHA</td><td>CHA</td><td>CHA</td><td>3286</td><td>7033</td><td>0.47</td><td>131</td></tr><tr><th>27</th><td>CHI</td><td>CHI</td><td>CHI</td><td>CHI</td><td>3632</td><td>7125</td><td>0.51</td><td>155</td></tr><tr><th>28</th><td>DET</td><td>DET</td><td>DET</td><td>DET</td><td>3194</td><td>6875</td><td>0.46</td><td>131</td></tr><tr><th>29</th><td>HOU</td><td>HOU</td><td>HOU</td><td>HOU</td><td>3403</td><td>7287</td><td>0.47</td><td>316</td></tr><tr><th>30</th><td>MIL</td><td>MIL</td><td>MIL</td><td>MIL</td><td>3337</td><td>6948</td><td>0.48</td><td>257</td></tr><tr><th>&vellip;</th><td>&vellip;</td><td>&vellip;</td><td>&vellip;</td><td>&vellip;</td><td>&vellip;</td><td>&vellip;</td><td>&vellip;</td><td>&vellip;</td></tr></tbody></table>"
      ],
      "text/latex": [
       "\\begin{tabular}{r|ccccccccc}\n",
       "\t& teamWinAbr & predictedWin\\_DT & predictedWin\\_RF & Team & FGM & FGA & FG\\% & 3FGM & \\\\\n",
       "\t\\hline\n",
       "\t& String & String & String & String & Int64 & Int64 & Float64 & Int64 & \\\\\n",
       "\t\\hline\n",
       "\t1 & ATL & ATL & ATL & ATL & 3349 & 7223 & 0.46 & 271 & $\\dots$ \\\\\n",
       "\t2 & BOS & BOS & BOS & BOS & 3695 & 7214 & 0.51 & 109 & $\\dots$ \\\\\n",
       "\t3 & DET & DET & DET & DET & 3194 & 6875 & 0.46 & 131 & $\\dots$ \\\\\n",
       "\t4 & IND & IND & IND & IND & 3450 & 6994 & 0.49 & 249 & $\\dots$ \\\\\n",
       "\t5 & MIL & MIL & MIL & MIL & 3337 & 6948 & 0.48 & 257 & $\\dots$ \\\\\n",
       "\t6 & MIN & MIN & MIN & MIN & 3265 & 7276 & 0.45 & 108 & $\\dots$ \\\\\n",
       "\t7 & PHO & PHO & PHO & PHO & 3573 & 7199 & 0.5 & 138 & $\\dots$ \\\\\n",
       "\t8 & SEA & SEA & SEA & SEA & 3500 & 7117 & 0.49 & 136 & $\\dots$ \\\\\n",
       "\t9 & UTA & UTA & UTA & UTA & 3214 & 6537 & 0.49 & 148 & $\\dots$ \\\\\n",
       "\t10 & HOU & HOU & HOU & HOU & 3403 & 7287 & 0.47 & 316 & $\\dots$ \\\\\n",
       "\t11 & LAL & LAL & LAL & LAL & 3343 & 6911 & 0.48 & 226 & $\\dots$ \\\\\n",
       "\t12 & MIL & MIL & MIL & MIL & 3337 & 6948 & 0.48 & 257 & $\\dots$ \\\\\n",
       "\t13 & NYK & NYK & NYK & NYK & 3308 & 6822 & 0.48 & 185 & $\\dots$ \\\\\n",
       "\t14 & ORL & ORL & ORL & ORL & 3298 & 7256 & 0.45 & 270 & $\\dots$ \\\\\n",
       "\t15 & SAC & SAC & SAC & SAC & 3086 & 6818 & 0.45 & 216 & $\\dots$ \\\\\n",
       "\t16 & WAS & WAS & WAS & WAS & 3390 & 7268 & 0.47 & 55 & $\\dots$ \\\\\n",
       "\t17 & ATL & ATL & ATL & ATL & 3349 & 7223 & 0.46 & 271 & $\\dots$ \\\\\n",
       "\t18 & BOS & BOS & BOS & BOS & 3695 & 7214 & 0.51 & 109 & $\\dots$ \\\\\n",
       "\t19 & DET & DET & DET & DET & 3194 & 6875 & 0.46 & 131 & $\\dots$ \\\\\n",
       "\t20 & GSW & GSW & GSW & GSW & 3566 & 7346 & 0.49 & 270 & $\\dots$ \\\\\n",
       "\t21 & SAS & SAS & SAS & SAS & 3409 & 6988 & 0.49 & 81 & $\\dots$ \\\\\n",
       "\t22 & SEA & SEA & SEA & SEA & 3500 & 7117 & 0.49 & 136 & $\\dots$ \\\\\n",
       "\t23 & UTA & UTA & UTA & UTA & 3214 & 6537 & 0.49 & 148 & $\\dots$ \\\\\n",
       "\t24 & WAS & WAS & WAS & WAS & 3390 & 7268 & 0.47 & 55 & $\\dots$ \\\\\n",
       "\t25 & ATL & ATL & ATL & ATL & 3349 & 7223 & 0.46 & 271 & $\\dots$ \\\\\n",
       "\t26 & CHA & CHA & CHA & CHA & 3286 & 7033 & 0.47 & 131 & $\\dots$ \\\\\n",
       "\t27 & CHI & CHI & CHI & CHI & 3632 & 7125 & 0.51 & 155 & $\\dots$ \\\\\n",
       "\t28 & DET & DET & DET & DET & 3194 & 6875 & 0.46 & 131 & $\\dots$ \\\\\n",
       "\t29 & HOU & HOU & HOU & HOU & 3403 & 7287 & 0.47 & 316 & $\\dots$ \\\\\n",
       "\t30 & MIL & MIL & MIL & MIL & 3337 & 6948 & 0.48 & 257 & $\\dots$ \\\\\n",
       "\t$\\dots$ & $\\dots$ & $\\dots$ & $\\dots$ & $\\dots$ & $\\dots$ & $\\dots$ & $\\dots$ & $\\dots$ &  \\\\\n",
       "\\end{tabular}\n"
      ],
      "text/plain": [
       "34104×112 DataFrame. Omitted printing of 107 columns\n",
       "│ Row   │ teamWinAbr │ predictedWin_DT │ predictedWin_RF │ Team   │ FGM   │\n",
       "│       │ \u001b[90mString\u001b[39m     │ \u001b[90mString\u001b[39m          │ \u001b[90mString\u001b[39m          │ \u001b[90mString\u001b[39m │ \u001b[90mInt64\u001b[39m │\n",
       "├───────┼────────────┼─────────────────┼─────────────────┼────────┼───────┤\n",
       "│ 1     │ ATL        │ ATL             │ ATL             │ ATL    │ 3349  │\n",
       "│ 2     │ BOS        │ BOS             │ BOS             │ BOS    │ 3695  │\n",
       "│ 3     │ DET        │ DET             │ DET             │ DET    │ 3194  │\n",
       "│ 4     │ IND        │ IND             │ IND             │ IND    │ 3450  │\n",
       "│ 5     │ MIL        │ MIL             │ MIL             │ MIL    │ 3337  │\n",
       "│ 6     │ MIN        │ MIN             │ MIN             │ MIN    │ 3265  │\n",
       "│ 7     │ PHO        │ PHO             │ PHO             │ PHO    │ 3573  │\n",
       "│ 8     │ SEA        │ SEA             │ SEA             │ SEA    │ 3500  │\n",
       "│ 9     │ UTA        │ UTA             │ UTA             │ UTA    │ 3214  │\n",
       "│ 10    │ HOU        │ HOU             │ HOU             │ HOU    │ 3403  │\n",
       "⋮\n",
       "│ 34094 │            │ PHO             │ SAC             │ PHO    │ 3006  │\n",
       "│ 34095 │            │ HOU             │ HOU             │ DAL    │ 3124  │\n",
       "│ 34096 │            │ CHA             │ CHI             │ BRO    │ 2908  │\n",
       "│ 34097 │            │ ORL             │ TOR             │ ORL    │ 2871  │\n",
       "│ 34098 │            │ SAS             │ SEA             │ SAS    │ 2995  │\n",
       "│ 34099 │            │ DEN             │ ORL             │ PHI    │ 3000  │\n",
       "│ 34100 │            │ MIN             │ NYK             │ MIL    │ 3160  │\n",
       "│ 34101 │            │ HOU             │ CLE             │ BOS    │ 2971  │\n",
       "│ 34102 │            │ DEN             │ DAL             │ GSW    │ 2510  │\n",
       "│ 34103 │            │ PHO             │ SAC             │ PHO    │ 3006  │\n",
       "│ 34104 │            │ LAL             │ NOP             │ MIN    │ 2586  │"
      ]
     },
     "execution_count": 81,
     "metadata": {},
     "output_type": "execute_result"
    }
   ],
   "source": [
    "insert!(openingWeek, 2, 0, :predictedWin_RF)\n",
    "openingWeek = @transform(openingWeek, predictedWin_RF = rf_pred)\n",
    "insert!(openingWeek, 2, 0, :predictedWin_DT)\n",
    "openingWeek = @transform(openingWeek, predictedWin_DT = dectree_pred)"
   ]
  },
  {
   "cell_type": "code",
   "execution_count": 82,
   "metadata": {},
   "outputs": [
    {
     "data": {
      "text/html": [
       "<table class=\"data-frame\"><thead><tr><th></th><th>predictedWin_DT</th><th>predictedWin_RF</th><th>Team</th><th>FGM</th><th>FGA</th><th>FG%</th><th>3FGM</th><th>3FGA</th><th>3FG%</th></tr><tr><th></th><th>String</th><th>String</th><th>String</th><th>Int64</th><th>Int64</th><th>Float64</th><th>Int64</th><th>Int64</th><th>Float64</th></tr></thead><tbody><p>34,104 rows × 111 columns (omitted printing of 102 columns)</p><tr><th>1</th><td>ATL</td><td>ATL</td><td>ATL</td><td>3349</td><td>7223</td><td>0.46</td><td>271</td><td>836</td><td>0.32</td></tr><tr><th>2</th><td>BOS</td><td>BOS</td><td>BOS</td><td>3695</td><td>7214</td><td>0.51</td><td>109</td><td>346</td><td>0.32</td></tr><tr><th>3</th><td>DET</td><td>DET</td><td>DET</td><td>3194</td><td>6875</td><td>0.46</td><td>131</td><td>440</td><td>0.3</td></tr><tr><th>4</th><td>IND</td><td>IND</td><td>IND</td><td>3450</td><td>6994</td><td>0.49</td><td>249</td><td>749</td><td>0.33</td></tr><tr><th>5</th><td>MIL</td><td>MIL</td><td>MIL</td><td>3337</td><td>6948</td><td>0.48</td><td>257</td><td>753</td><td>0.34</td></tr><tr><th>6</th><td>MIN</td><td>MIN</td><td>MIN</td><td>3265</td><td>7276</td><td>0.45</td><td>108</td><td>381</td><td>0.28</td></tr><tr><th>7</th><td>PHO</td><td>PHO</td><td>PHO</td><td>3573</td><td>7199</td><td>0.5</td><td>138</td><td>432</td><td>0.32</td></tr><tr><th>8</th><td>SEA</td><td>SEA</td><td>SEA</td><td>3500</td><td>7117</td><td>0.49</td><td>136</td><td>427</td><td>0.32</td></tr><tr><th>9</th><td>UTA</td><td>UTA</td><td>UTA</td><td>3214</td><td>6537</td><td>0.49</td><td>148</td><td>458</td><td>0.32</td></tr><tr><th>10</th><td>HOU</td><td>HOU</td><td>HOU</td><td>3403</td><td>7287</td><td>0.47</td><td>316</td><td>989</td><td>0.32</td></tr><tr><th>11</th><td>LAL</td><td>LAL</td><td>LAL</td><td>3343</td><td>6911</td><td>0.48</td><td>226</td><td>744</td><td>0.3</td></tr><tr><th>12</th><td>MIL</td><td>MIL</td><td>MIL</td><td>3337</td><td>6948</td><td>0.48</td><td>257</td><td>753</td><td>0.34</td></tr><tr><th>13</th><td>NYK</td><td>NYK</td><td>NYK</td><td>3308</td><td>6822</td><td>0.48</td><td>185</td><td>558</td><td>0.33</td></tr><tr><th>14</th><td>ORL</td><td>ORL</td><td>ORL</td><td>3298</td><td>7256</td><td>0.45</td><td>270</td><td>754</td><td>0.36</td></tr><tr><th>15</th><td>SAC</td><td>SAC</td><td>SAC</td><td>3086</td><td>6818</td><td>0.45</td><td>216</td><td>578</td><td>0.37</td></tr><tr><th>16</th><td>WAS</td><td>WAS</td><td>WAS</td><td>3390</td><td>7268</td><td>0.47</td><td>55</td><td>284</td><td>0.19</td></tr><tr><th>17</th><td>ATL</td><td>ATL</td><td>ATL</td><td>3349</td><td>7223</td><td>0.46</td><td>271</td><td>836</td><td>0.32</td></tr><tr><th>18</th><td>BOS</td><td>BOS</td><td>BOS</td><td>3695</td><td>7214</td><td>0.51</td><td>109</td><td>346</td><td>0.32</td></tr><tr><th>19</th><td>DET</td><td>DET</td><td>DET</td><td>3194</td><td>6875</td><td>0.46</td><td>131</td><td>440</td><td>0.3</td></tr><tr><th>20</th><td>GSW</td><td>GSW</td><td>GSW</td><td>3566</td><td>7346</td><td>0.49</td><td>270</td><td>801</td><td>0.34</td></tr><tr><th>21</th><td>SAS</td><td>SAS</td><td>SAS</td><td>3409</td><td>6988</td><td>0.49</td><td>81</td><td>297</td><td>0.27</td></tr><tr><th>22</th><td>SEA</td><td>SEA</td><td>SEA</td><td>3500</td><td>7117</td><td>0.49</td><td>136</td><td>427</td><td>0.32</td></tr><tr><th>23</th><td>UTA</td><td>UTA</td><td>UTA</td><td>3214</td><td>6537</td><td>0.49</td><td>148</td><td>458</td><td>0.32</td></tr><tr><th>24</th><td>WAS</td><td>WAS</td><td>WAS</td><td>3390</td><td>7268</td><td>0.47</td><td>55</td><td>284</td><td>0.19</td></tr><tr><th>25</th><td>ATL</td><td>ATL</td><td>ATL</td><td>3349</td><td>7223</td><td>0.46</td><td>271</td><td>836</td><td>0.32</td></tr><tr><th>26</th><td>CHA</td><td>CHA</td><td>CHA</td><td>3286</td><td>7033</td><td>0.47</td><td>131</td><td>417</td><td>0.31</td></tr><tr><th>27</th><td>CHI</td><td>CHI</td><td>CHI</td><td>3632</td><td>7125</td><td>0.51</td><td>155</td><td>424</td><td>0.37</td></tr><tr><th>28</th><td>DET</td><td>DET</td><td>DET</td><td>3194</td><td>6875</td><td>0.46</td><td>131</td><td>440</td><td>0.3</td></tr><tr><th>29</th><td>HOU</td><td>HOU</td><td>HOU</td><td>3403</td><td>7287</td><td>0.47</td><td>316</td><td>989</td><td>0.32</td></tr><tr><th>30</th><td>MIL</td><td>MIL</td><td>MIL</td><td>3337</td><td>6948</td><td>0.48</td><td>257</td><td>753</td><td>0.34</td></tr><tr><th>&vellip;</th><td>&vellip;</td><td>&vellip;</td><td>&vellip;</td><td>&vellip;</td><td>&vellip;</td><td>&vellip;</td><td>&vellip;</td><td>&vellip;</td><td>&vellip;</td></tr></tbody></table>"
      ],
      "text/latex": [
       "\\begin{tabular}{r|cccccccccc}\n",
       "\t& predictedWin\\_DT & predictedWin\\_RF & Team & FGM & FGA & FG\\% & 3FGM & 3FGA & 3FG\\% & \\\\\n",
       "\t\\hline\n",
       "\t& String & String & String & Int64 & Int64 & Float64 & Int64 & Int64 & Float64 & \\\\\n",
       "\t\\hline\n",
       "\t1 & ATL & ATL & ATL & 3349 & 7223 & 0.46 & 271 & 836 & 0.32 & $\\dots$ \\\\\n",
       "\t2 & BOS & BOS & BOS & 3695 & 7214 & 0.51 & 109 & 346 & 0.32 & $\\dots$ \\\\\n",
       "\t3 & DET & DET & DET & 3194 & 6875 & 0.46 & 131 & 440 & 0.3 & $\\dots$ \\\\\n",
       "\t4 & IND & IND & IND & 3450 & 6994 & 0.49 & 249 & 749 & 0.33 & $\\dots$ \\\\\n",
       "\t5 & MIL & MIL & MIL & 3337 & 6948 & 0.48 & 257 & 753 & 0.34 & $\\dots$ \\\\\n",
       "\t6 & MIN & MIN & MIN & 3265 & 7276 & 0.45 & 108 & 381 & 0.28 & $\\dots$ \\\\\n",
       "\t7 & PHO & PHO & PHO & 3573 & 7199 & 0.5 & 138 & 432 & 0.32 & $\\dots$ \\\\\n",
       "\t8 & SEA & SEA & SEA & 3500 & 7117 & 0.49 & 136 & 427 & 0.32 & $\\dots$ \\\\\n",
       "\t9 & UTA & UTA & UTA & 3214 & 6537 & 0.49 & 148 & 458 & 0.32 & $\\dots$ \\\\\n",
       "\t10 & HOU & HOU & HOU & 3403 & 7287 & 0.47 & 316 & 989 & 0.32 & $\\dots$ \\\\\n",
       "\t11 & LAL & LAL & LAL & 3343 & 6911 & 0.48 & 226 & 744 & 0.3 & $\\dots$ \\\\\n",
       "\t12 & MIL & MIL & MIL & 3337 & 6948 & 0.48 & 257 & 753 & 0.34 & $\\dots$ \\\\\n",
       "\t13 & NYK & NYK & NYK & 3308 & 6822 & 0.48 & 185 & 558 & 0.33 & $\\dots$ \\\\\n",
       "\t14 & ORL & ORL & ORL & 3298 & 7256 & 0.45 & 270 & 754 & 0.36 & $\\dots$ \\\\\n",
       "\t15 & SAC & SAC & SAC & 3086 & 6818 & 0.45 & 216 & 578 & 0.37 & $\\dots$ \\\\\n",
       "\t16 & WAS & WAS & WAS & 3390 & 7268 & 0.47 & 55 & 284 & 0.19 & $\\dots$ \\\\\n",
       "\t17 & ATL & ATL & ATL & 3349 & 7223 & 0.46 & 271 & 836 & 0.32 & $\\dots$ \\\\\n",
       "\t18 & BOS & BOS & BOS & 3695 & 7214 & 0.51 & 109 & 346 & 0.32 & $\\dots$ \\\\\n",
       "\t19 & DET & DET & DET & 3194 & 6875 & 0.46 & 131 & 440 & 0.3 & $\\dots$ \\\\\n",
       "\t20 & GSW & GSW & GSW & 3566 & 7346 & 0.49 & 270 & 801 & 0.34 & $\\dots$ \\\\\n",
       "\t21 & SAS & SAS & SAS & 3409 & 6988 & 0.49 & 81 & 297 & 0.27 & $\\dots$ \\\\\n",
       "\t22 & SEA & SEA & SEA & 3500 & 7117 & 0.49 & 136 & 427 & 0.32 & $\\dots$ \\\\\n",
       "\t23 & UTA & UTA & UTA & 3214 & 6537 & 0.49 & 148 & 458 & 0.32 & $\\dots$ \\\\\n",
       "\t24 & WAS & WAS & WAS & 3390 & 7268 & 0.47 & 55 & 284 & 0.19 & $\\dots$ \\\\\n",
       "\t25 & ATL & ATL & ATL & 3349 & 7223 & 0.46 & 271 & 836 & 0.32 & $\\dots$ \\\\\n",
       "\t26 & CHA & CHA & CHA & 3286 & 7033 & 0.47 & 131 & 417 & 0.31 & $\\dots$ \\\\\n",
       "\t27 & CHI & CHI & CHI & 3632 & 7125 & 0.51 & 155 & 424 & 0.37 & $\\dots$ \\\\\n",
       "\t28 & DET & DET & DET & 3194 & 6875 & 0.46 & 131 & 440 & 0.3 & $\\dots$ \\\\\n",
       "\t29 & HOU & HOU & HOU & 3403 & 7287 & 0.47 & 316 & 989 & 0.32 & $\\dots$ \\\\\n",
       "\t30 & MIL & MIL & MIL & 3337 & 6948 & 0.48 & 257 & 753 & 0.34 & $\\dots$ \\\\\n",
       "\t$\\dots$ & $\\dots$ & $\\dots$ & $\\dots$ & $\\dots$ & $\\dots$ & $\\dots$ & $\\dots$ & $\\dots$ & $\\dots$ &  \\\\\n",
       "\\end{tabular}\n"
      ],
      "text/plain": [
       "34104×111 DataFrame. Omitted printing of 105 columns\n",
       "│ Row   │ predictedWin_DT │ predictedWin_RF │ Team   │ FGM   │ FGA   │ FG%     │\n",
       "│       │ \u001b[90mString\u001b[39m          │ \u001b[90mString\u001b[39m          │ \u001b[90mString\u001b[39m │ \u001b[90mInt64\u001b[39m │ \u001b[90mInt64\u001b[39m │ \u001b[90mFloat64\u001b[39m │\n",
       "├───────┼─────────────────┼─────────────────┼────────┼───────┼───────┼─────────┤\n",
       "│ 1     │ ATL             │ ATL             │ ATL    │ 3349  │ 7223  │ 0.46    │\n",
       "│ 2     │ BOS             │ BOS             │ BOS    │ 3695  │ 7214  │ 0.51    │\n",
       "│ 3     │ DET             │ DET             │ DET    │ 3194  │ 6875  │ 0.46    │\n",
       "│ 4     │ IND             │ IND             │ IND    │ 3450  │ 6994  │ 0.49    │\n",
       "│ 5     │ MIL             │ MIL             │ MIL    │ 3337  │ 6948  │ 0.48    │\n",
       "│ 6     │ MIN             │ MIN             │ MIN    │ 3265  │ 7276  │ 0.45    │\n",
       "│ 7     │ PHO             │ PHO             │ PHO    │ 3573  │ 7199  │ 0.5     │\n",
       "│ 8     │ SEA             │ SEA             │ SEA    │ 3500  │ 7117  │ 0.49    │\n",
       "│ 9     │ UTA             │ UTA             │ UTA    │ 3214  │ 6537  │ 0.49    │\n",
       "│ 10    │ HOU             │ HOU             │ HOU    │ 3403  │ 7287  │ 0.47    │\n",
       "⋮\n",
       "│ 34094 │ PHO             │ SAC             │ PHO    │ 3006  │ 6429  │ 0.47    │\n",
       "│ 34095 │ HOU             │ HOU             │ DAL    │ 3124  │ 6772  │ 0.46    │\n",
       "│ 34096 │ CHA             │ CHI             │ BRO    │ 2908  │ 6498  │ 0.45    │\n",
       "│ 34097 │ ORL             │ TOR             │ ORL    │ 2871  │ 6468  │ 0.44    │\n",
       "│ 34098 │ SAS             │ SEA             │ SAS    │ 2995  │ 6350  │ 0.47    │\n",
       "│ 34099 │ DEN             │ ORL             │ PHI    │ 3000  │ 6417  │ 0.47    │\n",
       "│ 34100 │ MIN             │ NYK             │ MIL    │ 3160  │ 6638  │ 0.48    │\n",
       "│ 34101 │ HOU             │ CLE             │ BOS    │ 2971  │ 6448  │ 0.46    │\n",
       "│ 34102 │ DEN             │ DAL             │ GSW    │ 2510  │ 5730  │ 0.44    │\n",
       "│ 34103 │ PHO             │ SAC             │ PHO    │ 3006  │ 6429  │ 0.47    │\n",
       "│ 34104 │ LAL             │ NOP             │ MIN    │ 2586  │ 5865  │ 0.44    │"
      ]
     },
     "execution_count": 82,
     "metadata": {},
     "output_type": "execute_result"
    }
   ],
   "source": [
    "deletecols!(openingWeek, :teamWinAbr)"
   ]
  },
  {
   "cell_type": "code",
   "execution_count": 83,
   "metadata": {},
   "outputs": [
    {
     "data": {
      "text/html": [
       "<table class=\"data-frame\"><thead><tr><th></th><th>predictedWin_DT</th><th>predictedWin_RF</th><th>Team</th><th>FGM</th><th>FGA</th><th>FG%</th><th>3FGM</th><th>3FGA</th><th>3FG%</th></tr><tr><th></th><th>String</th><th>String</th><th>String</th><th>Int64</th><th>Int64</th><th>Float64</th><th>Int64</th><th>Int64</th><th>Float64</th></tr></thead><tbody><p>40 rows × 111 columns (omitted printing of 102 columns)</p><tr><th>1</th><td>BRO</td><td>BOS</td><td>GSW</td><td>2510</td><td>5730</td><td>0.44</td><td>678</td><td>2032</td><td>0.33</td></tr><tr><th>2</th><td>LAC</td><td>IND</td><td>LAC</td><td>2992</td><td>6425</td><td>0.47</td><td>895</td><td>2410</td><td>0.37</td></tr><tr><th>3</th><td>CLE</td><td>DAL</td><td>CHA</td><td>2425</td><td>5586</td><td>0.43</td><td>785</td><td>2231</td><td>0.35</td></tr><tr><th>4</th><td>LAL</td><td>NOP</td><td>NYK</td><td>2638</td><td>5896</td><td>0.45</td><td>631</td><td>1872</td><td>0.34</td></tr><tr><th>5</th><td>OCT</td><td>LAL</td><td>MIA</td><td>2880</td><td>6160</td><td>0.47</td><td>979</td><td>2584</td><td>0.38</td></tr><tr><th>6</th><td>WAS</td><td>TOR</td><td>WAS</td><td>2990</td><td>6544</td><td>0.46</td><td>864</td><td>2345</td><td>0.37</td></tr><tr><th>7</th><td>BOS</td><td>NOP</td><td>MIL</td><td>3160</td><td>6638</td><td>0.48</td><td>1007</td><td>2840</td><td>0.35</td></tr><tr><th>8</th><td>OCT</td><td>WAS</td><td>NOP</td><td>3065</td><td>6598</td><td>0.46</td><td>982</td><td>2656</td><td>0.37</td></tr><tr><th>9</th><td>CHI</td><td>CHI</td><td>ATL</td><td>2723</td><td>6067</td><td>0.45</td><td>805</td><td>2416</td><td>0.33</td></tr><tr><th>10</th><td>LAL</td><td>HOU</td><td>OCT</td><td>2879</td><td>6156</td><td>0.47</td><td>770</td><td>2171</td><td>0.35</td></tr><tr><th>11</th><td>MIA</td><td>MIL</td><td>SAS</td><td>2995</td><td>6350</td><td>0.47</td><td>760</td><td>2021</td><td>0.38</td></tr><tr><th>12</th><td>MIN</td><td>DET</td><td>DET</td><td>2595</td><td>5658</td><td>0.46</td><td>791</td><td>2157</td><td>0.37</td></tr><tr><th>13</th><td>DEN</td><td>NOP</td><td>SAC</td><td>2943</td><td>6364</td><td>0.46</td><td>914</td><td>2511</td><td>0.36</td></tr><tr><th>14</th><td>UTA</td><td>SAS</td><td>UTA</td><td>2886</td><td>6130</td><td>0.47</td><td>963</td><td>2537</td><td>0.38</td></tr><tr><th>15</th><td>OCT</td><td>LAL</td><td>DAL</td><td>3124</td><td>6772</td><td>0.46</td><td>1136</td><td>3095</td><td>0.37</td></tr><tr><th>16</th><td>MIA</td><td>ORL</td><td>NOP</td><td>3065</td><td>6598</td><td>0.46</td><td>982</td><td>2656</td><td>0.37</td></tr><tr><th>17</th><td>MIL</td><td>MIN</td><td>GSW</td><td>2510</td><td>5730</td><td>0.44</td><td>678</td><td>2032</td><td>0.33</td></tr><tr><th>18</th><td>BOS</td><td>BOS</td><td>BRO</td><td>2908</td><td>6498</td><td>0.45</td><td>941</td><td>2746</td><td>0.34</td></tr><tr><th>19</th><td>HOU</td><td>NOP</td><td>DAL</td><td>3124</td><td>6772</td><td>0.46</td><td>1136</td><td>3095</td><td>0.37</td></tr><tr><th>20</th><td>DEN</td><td>LAC</td><td>LAC</td><td>2992</td><td>6425</td><td>0.47</td><td>895</td><td>2410</td><td>0.37</td></tr><tr><th>21</th><td>HOU</td><td>DET</td><td>ATL</td><td>2723</td><td>6067</td><td>0.45</td><td>805</td><td>2416</td><td>0.33</td></tr><tr><th>22</th><td>CHA</td><td>MIL</td><td>OCT</td><td>2879</td><td>6156</td><td>0.47</td><td>770</td><td>2171</td><td>0.35</td></tr><tr><th>23</th><td>DET</td><td>DET</td><td>CLE</td><td>2619</td><td>5715</td><td>0.46</td><td>727</td><td>2070</td><td>0.35</td></tr><tr><th>24</th><td>ORL</td><td>TOR</td><td>ORL</td><td>2871</td><td>6468</td><td>0.44</td><td>807</td><td>2354</td><td>0.34</td></tr><tr><th>25</th><td>NYK</td><td>ORL</td><td>PHI</td><td>3000</td><td>6417</td><td>0.47</td><td>848</td><td>2307</td><td>0.37</td></tr><tr><th>26</th><td>DEN</td><td>DEN</td><td>IND</td><td>3075</td><td>6457</td><td>0.48</td><td>743</td><td>2046</td><td>0.36</td></tr><tr><th>27</th><td>TOR</td><td>TOR</td><td>TOR</td><td>2897</td><td>6331</td><td>0.46</td><td>995</td><td>2663</td><td>0.37</td></tr><tr><th>28</th><td>OCT</td><td>NOP</td><td>MIN</td><td>2586</td><td>5865</td><td>0.44</td><td>853</td><td>2540</td><td>0.34</td></tr><tr><th>29</th><td>OCT</td><td>IND</td><td>HOU</td><td>2936</td><td>6512</td><td>0.45</td><td>1126</td><td>3261</td><td>0.35</td></tr><tr><th>30</th><td>PHO</td><td>SAC</td><td>PHO</td><td>3006</td><td>6429</td><td>0.47</td><td>831</td><td>2320</td><td>0.36</td></tr><tr><th>&vellip;</th><td>&vellip;</td><td>&vellip;</td><td>&vellip;</td><td>&vellip;</td><td>&vellip;</td><td>&vellip;</td><td>&vellip;</td><td>&vellip;</td><td>&vellip;</td></tr></tbody></table>"
      ],
      "text/latex": [
       "\\begin{tabular}{r|cccccccccc}\n",
       "\t& predictedWin\\_DT & predictedWin\\_RF & Team & FGM & FGA & FG\\% & 3FGM & 3FGA & 3FG\\% & \\\\\n",
       "\t\\hline\n",
       "\t& String & String & String & Int64 & Int64 & Float64 & Int64 & Int64 & Float64 & \\\\\n",
       "\t\\hline\n",
       "\t1 & BRO & BOS & GSW & 2510 & 5730 & 0.44 & 678 & 2032 & 0.33 & $\\dots$ \\\\\n",
       "\t2 & LAC & IND & LAC & 2992 & 6425 & 0.47 & 895 & 2410 & 0.37 & $\\dots$ \\\\\n",
       "\t3 & CLE & DAL & CHA & 2425 & 5586 & 0.43 & 785 & 2231 & 0.35 & $\\dots$ \\\\\n",
       "\t4 & LAL & NOP & NYK & 2638 & 5896 & 0.45 & 631 & 1872 & 0.34 & $\\dots$ \\\\\n",
       "\t5 & OCT & LAL & MIA & 2880 & 6160 & 0.47 & 979 & 2584 & 0.38 & $\\dots$ \\\\\n",
       "\t6 & WAS & TOR & WAS & 2990 & 6544 & 0.46 & 864 & 2345 & 0.37 & $\\dots$ \\\\\n",
       "\t7 & BOS & NOP & MIL & 3160 & 6638 & 0.48 & 1007 & 2840 & 0.35 & $\\dots$ \\\\\n",
       "\t8 & OCT & WAS & NOP & 3065 & 6598 & 0.46 & 982 & 2656 & 0.37 & $\\dots$ \\\\\n",
       "\t9 & CHI & CHI & ATL & 2723 & 6067 & 0.45 & 805 & 2416 & 0.33 & $\\dots$ \\\\\n",
       "\t10 & LAL & HOU & OCT & 2879 & 6156 & 0.47 & 770 & 2171 & 0.35 & $\\dots$ \\\\\n",
       "\t11 & MIA & MIL & SAS & 2995 & 6350 & 0.47 & 760 & 2021 & 0.38 & $\\dots$ \\\\\n",
       "\t12 & MIN & DET & DET & 2595 & 5658 & 0.46 & 791 & 2157 & 0.37 & $\\dots$ \\\\\n",
       "\t13 & DEN & NOP & SAC & 2943 & 6364 & 0.46 & 914 & 2511 & 0.36 & $\\dots$ \\\\\n",
       "\t14 & UTA & SAS & UTA & 2886 & 6130 & 0.47 & 963 & 2537 & 0.38 & $\\dots$ \\\\\n",
       "\t15 & OCT & LAL & DAL & 3124 & 6772 & 0.46 & 1136 & 3095 & 0.37 & $\\dots$ \\\\\n",
       "\t16 & MIA & ORL & NOP & 3065 & 6598 & 0.46 & 982 & 2656 & 0.37 & $\\dots$ \\\\\n",
       "\t17 & MIL & MIN & GSW & 2510 & 5730 & 0.44 & 678 & 2032 & 0.33 & $\\dots$ \\\\\n",
       "\t18 & BOS & BOS & BRO & 2908 & 6498 & 0.45 & 941 & 2746 & 0.34 & $\\dots$ \\\\\n",
       "\t19 & HOU & NOP & DAL & 3124 & 6772 & 0.46 & 1136 & 3095 & 0.37 & $\\dots$ \\\\\n",
       "\t20 & DEN & LAC & LAC & 2992 & 6425 & 0.47 & 895 & 2410 & 0.37 & $\\dots$ \\\\\n",
       "\t21 & HOU & DET & ATL & 2723 & 6067 & 0.45 & 805 & 2416 & 0.33 & $\\dots$ \\\\\n",
       "\t22 & CHA & MIL & OCT & 2879 & 6156 & 0.47 & 770 & 2171 & 0.35 & $\\dots$ \\\\\n",
       "\t23 & DET & DET & CLE & 2619 & 5715 & 0.46 & 727 & 2070 & 0.35 & $\\dots$ \\\\\n",
       "\t24 & ORL & TOR & ORL & 2871 & 6468 & 0.44 & 807 & 2354 & 0.34 & $\\dots$ \\\\\n",
       "\t25 & NYK & ORL & PHI & 3000 & 6417 & 0.47 & 848 & 2307 & 0.37 & $\\dots$ \\\\\n",
       "\t26 & DEN & DEN & IND & 3075 & 6457 & 0.48 & 743 & 2046 & 0.36 & $\\dots$ \\\\\n",
       "\t27 & TOR & TOR & TOR & 2897 & 6331 & 0.46 & 995 & 2663 & 0.37 & $\\dots$ \\\\\n",
       "\t28 & OCT & NOP & MIN & 2586 & 5865 & 0.44 & 853 & 2540 & 0.34 & $\\dots$ \\\\\n",
       "\t29 & OCT & IND & HOU & 2936 & 6512 & 0.45 & 1126 & 3261 & 0.35 & $\\dots$ \\\\\n",
       "\t30 & PHO & SAC & PHO & 3006 & 6429 & 0.47 & 831 & 2320 & 0.36 & $\\dots$ \\\\\n",
       "\t$\\dots$ & $\\dots$ & $\\dots$ & $\\dots$ & $\\dots$ & $\\dots$ & $\\dots$ & $\\dots$ & $\\dots$ & $\\dots$ &  \\\\\n",
       "\\end{tabular}\n"
      ],
      "text/plain": [
       "40×111 DataFrame. Omitted printing of 105 columns\n",
       "│ Row │ predictedWin_DT │ predictedWin_RF │ Team   │ FGM   │ FGA   │ FG%     │\n",
       "│     │ \u001b[90mString\u001b[39m          │ \u001b[90mString\u001b[39m          │ \u001b[90mString\u001b[39m │ \u001b[90mInt64\u001b[39m │ \u001b[90mInt64\u001b[39m │ \u001b[90mFloat64\u001b[39m │\n",
       "├─────┼─────────────────┼─────────────────┼────────┼───────┼───────┼─────────┤\n",
       "│ 1   │ BRO             │ BOS             │ GSW    │ 2510  │ 5730  │ 0.44    │\n",
       "│ 2   │ LAC             │ IND             │ LAC    │ 2992  │ 6425  │ 0.47    │\n",
       "│ 3   │ CLE             │ DAL             │ CHA    │ 2425  │ 5586  │ 0.43    │\n",
       "│ 4   │ LAL             │ NOP             │ NYK    │ 2638  │ 5896  │ 0.45    │\n",
       "│ 5   │ OCT             │ LAL             │ MIA    │ 2880  │ 6160  │ 0.47    │\n",
       "│ 6   │ WAS             │ TOR             │ WAS    │ 2990  │ 6544  │ 0.46    │\n",
       "│ 7   │ BOS             │ NOP             │ MIL    │ 3160  │ 6638  │ 0.48    │\n",
       "│ 8   │ OCT             │ WAS             │ NOP    │ 3065  │ 6598  │ 0.46    │\n",
       "│ 9   │ CHI             │ CHI             │ ATL    │ 2723  │ 6067  │ 0.45    │\n",
       "│ 10  │ LAL             │ HOU             │ OCT    │ 2879  │ 6156  │ 0.47    │\n",
       "⋮\n",
       "│ 30  │ PHO             │ SAC             │ PHO    │ 3006  │ 6429  │ 0.47    │\n",
       "│ 31  │ HOU             │ HOU             │ DAL    │ 3124  │ 6772  │ 0.46    │\n",
       "│ 32  │ CHA             │ CHI             │ BRO    │ 2908  │ 6498  │ 0.45    │\n",
       "│ 33  │ ORL             │ TOR             │ ORL    │ 2871  │ 6468  │ 0.44    │\n",
       "│ 34  │ SAS             │ SEA             │ SAS    │ 2995  │ 6350  │ 0.47    │\n",
       "│ 35  │ DEN             │ ORL             │ PHI    │ 3000  │ 6417  │ 0.47    │\n",
       "│ 36  │ MIN             │ NYK             │ MIL    │ 3160  │ 6638  │ 0.48    │\n",
       "│ 37  │ HOU             │ CLE             │ BOS    │ 2971  │ 6448  │ 0.46    │\n",
       "│ 38  │ DEN             │ DAL             │ GSW    │ 2510  │ 5730  │ 0.44    │\n",
       "│ 39  │ PHO             │ SAC             │ PHO    │ 3006  │ 6429  │ 0.47    │\n",
       "│ 40  │ LAL             │ NOP             │ MIN    │ 2586  │ 5865  │ 0.44    │"
      ]
     },
     "execution_count": 83,
     "metadata": {},
     "output_type": "execute_result"
    }
   ],
   "source": [
    "tail(openingWeek, 40)"
   ]
  },
  {
   "cell_type": "code",
   "execution_count": 84,
   "metadata": {},
   "outputs": [
    {
     "data": {
      "text/plain": [
       "\"data/openingWeek2020.csv\""
      ]
     },
     "execution_count": 84,
     "metadata": {},
     "output_type": "execute_result"
    }
   ],
   "source": [
    "predictionDF = tail(openingWeek, 40)\n",
    "CSV.write(\"data/openingWeek2020.csv\", predictionDF)"
   ]
  },
  {
   "cell_type": "markdown",
   "metadata": {},
   "source": [
    "# Conclusion\n",
    "\n",
    "The data has ran and made it's prediction at the 97% and 99% confidence intervals. However, there were some issues in the results. There appear to be some predictions that do not feature either team. I believe the blame for this lies in not giving the model the two options before running it. While this issue may have occured for some of the games, there were still several extractable results. "
   ]
  },
  {
   "cell_type": "code",
   "execution_count": null,
   "metadata": {},
   "outputs": [],
   "source": []
  }
 ],
 "metadata": {
  "kernelspec": {
   "display_name": "Julia 1.5.3",
   "language": "julia",
   "name": "julia-1.5"
  },
  "language_info": {
   "file_extension": ".jl",
   "mimetype": "application/julia",
   "name": "julia",
   "version": "1.5.3"
  }
 },
 "nbformat": 4,
 "nbformat_minor": 4
}
